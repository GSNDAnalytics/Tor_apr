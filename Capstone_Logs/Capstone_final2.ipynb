{
 "cells": [
  {
   "cell_type": "markdown",
   "id": "e8a6d51c-2419-4978-a123-3aeb68b8059e",
   "metadata": {},
   "source": [
    "## Novelty Food Recommendations\n",
    "**Cleaning Key Features & Indicators**"
   ]
  },
  {
   "cell_type": "markdown",
   "id": "efd83b88-67a1-4586-abf7-66285d911d0c",
   "metadata": {},
   "source": [
    "Progress chart: This explains and identifies what steps I took to acheive my results for this recommendation."
   ]
  },
  {
   "cell_type": "code",
   "execution_count": 89,
   "id": "8e3de5c4-8545-4e2f-ae27-de2cdb6b57c9",
   "metadata": {
    "jupyter": {
     "source_hidden": true
    },
    "tags": []
   },
   "outputs": [
    {
     "data": {
      "text/html": [
       "\n",
       "    <div class=\"bk-root\">\n",
       "        <a href=\"https://bokeh.org\" target=\"_blank\" class=\"bk-logo bk-logo-small bk-logo-notebook\"></a>\n",
       "        <span id=\"10134\">Loading BokehJS ...</span>\n",
       "    </div>"
      ]
     },
     "metadata": {},
     "output_type": "display_data"
    },
    {
     "data": {
      "application/javascript": [
       "\n",
       "(function(root) {\n",
       "  function now() {\n",
       "    return new Date();\n",
       "  }\n",
       "\n",
       "  const force = true;\n",
       "\n",
       "  if (typeof root._bokeh_onload_callbacks === \"undefined\" || force === true) {\n",
       "    root._bokeh_onload_callbacks = [];\n",
       "    root._bokeh_is_loading = undefined;\n",
       "  }\n",
       "\n",
       "  const JS_MIME_TYPE = 'application/javascript';\n",
       "  const HTML_MIME_TYPE = 'text/html';\n",
       "  const EXEC_MIME_TYPE = 'application/vnd.bokehjs_exec.v0+json';\n",
       "  const CLASS_NAME = 'output_bokeh rendered_html';\n",
       "\n",
       "  /**\n",
       "   * Render data to the DOM node\n",
       "   */\n",
       "  function render(props, node) {\n",
       "    const script = document.createElement(\"script\");\n",
       "    node.appendChild(script);\n",
       "  }\n",
       "\n",
       "  /**\n",
       "   * Handle when an output is cleared or removed\n",
       "   */\n",
       "  function handleClearOutput(event, handle) {\n",
       "    const cell = handle.cell;\n",
       "\n",
       "    const id = cell.output_area._bokeh_element_id;\n",
       "    const server_id = cell.output_area._bokeh_server_id;\n",
       "    // Clean up Bokeh references\n",
       "    if (id != null && id in Bokeh.index) {\n",
       "      Bokeh.index[id].model.document.clear();\n",
       "      delete Bokeh.index[id];\n",
       "    }\n",
       "\n",
       "    if (server_id !== undefined) {\n",
       "      // Clean up Bokeh references\n",
       "      const cmd_clean = \"from bokeh.io.state import curstate; print(curstate().uuid_to_server['\" + server_id + \"'].get_sessions()[0].document.roots[0]._id)\";\n",
       "      cell.notebook.kernel.execute(cmd_clean, {\n",
       "        iopub: {\n",
       "          output: function(msg) {\n",
       "            const id = msg.content.text.trim();\n",
       "            if (id in Bokeh.index) {\n",
       "              Bokeh.index[id].model.document.clear();\n",
       "              delete Bokeh.index[id];\n",
       "            }\n",
       "          }\n",
       "        }\n",
       "      });\n",
       "      // Destroy server and session\n",
       "      const cmd_destroy = \"import bokeh.io.notebook as ion; ion.destroy_server('\" + server_id + \"')\";\n",
       "      cell.notebook.kernel.execute(cmd_destroy);\n",
       "    }\n",
       "  }\n",
       "\n",
       "  /**\n",
       "   * Handle when a new output is added\n",
       "   */\n",
       "  function handleAddOutput(event, handle) {\n",
       "    const output_area = handle.output_area;\n",
       "    const output = handle.output;\n",
       "\n",
       "    // limit handleAddOutput to display_data with EXEC_MIME_TYPE content only\n",
       "    if ((output.output_type != \"display_data\") || (!Object.prototype.hasOwnProperty.call(output.data, EXEC_MIME_TYPE))) {\n",
       "      return\n",
       "    }\n",
       "\n",
       "    const toinsert = output_area.element.find(\".\" + CLASS_NAME.split(' ')[0]);\n",
       "\n",
       "    if (output.metadata[EXEC_MIME_TYPE][\"id\"] !== undefined) {\n",
       "      toinsert[toinsert.length - 1].firstChild.textContent = output.data[JS_MIME_TYPE];\n",
       "      // store reference to embed id on output_area\n",
       "      output_area._bokeh_element_id = output.metadata[EXEC_MIME_TYPE][\"id\"];\n",
       "    }\n",
       "    if (output.metadata[EXEC_MIME_TYPE][\"server_id\"] !== undefined) {\n",
       "      const bk_div = document.createElement(\"div\");\n",
       "      bk_div.innerHTML = output.data[HTML_MIME_TYPE];\n",
       "      const script_attrs = bk_div.children[0].attributes;\n",
       "      for (let i = 0; i < script_attrs.length; i++) {\n",
       "        toinsert[toinsert.length - 1].firstChild.setAttribute(script_attrs[i].name, script_attrs[i].value);\n",
       "        toinsert[toinsert.length - 1].firstChild.textContent = bk_div.children[0].textContent\n",
       "      }\n",
       "      // store reference to server id on output_area\n",
       "      output_area._bokeh_server_id = output.metadata[EXEC_MIME_TYPE][\"server_id\"];\n",
       "    }\n",
       "  }\n",
       "\n",
       "  function register_renderer(events, OutputArea) {\n",
       "\n",
       "    function append_mime(data, metadata, element) {\n",
       "      // create a DOM node to render to\n",
       "      const toinsert = this.create_output_subarea(\n",
       "        metadata,\n",
       "        CLASS_NAME,\n",
       "        EXEC_MIME_TYPE\n",
       "      );\n",
       "      this.keyboard_manager.register_events(toinsert);\n",
       "      // Render to node\n",
       "      const props = {data: data, metadata: metadata[EXEC_MIME_TYPE]};\n",
       "      render(props, toinsert[toinsert.length - 1]);\n",
       "      element.append(toinsert);\n",
       "      return toinsert\n",
       "    }\n",
       "\n",
       "    /* Handle when an output is cleared or removed */\n",
       "    events.on('clear_output.CodeCell', handleClearOutput);\n",
       "    events.on('delete.Cell', handleClearOutput);\n",
       "\n",
       "    /* Handle when a new output is added */\n",
       "    events.on('output_added.OutputArea', handleAddOutput);\n",
       "\n",
       "    /**\n",
       "     * Register the mime type and append_mime function with output_area\n",
       "     */\n",
       "    OutputArea.prototype.register_mime_type(EXEC_MIME_TYPE, append_mime, {\n",
       "      /* Is output safe? */\n",
       "      safe: true,\n",
       "      /* Index of renderer in `output_area.display_order` */\n",
       "      index: 0\n",
       "    });\n",
       "  }\n",
       "\n",
       "  // register the mime type if in Jupyter Notebook environment and previously unregistered\n",
       "  if (root.Jupyter !== undefined) {\n",
       "    const events = require('base/js/events');\n",
       "    const OutputArea = require('notebook/js/outputarea').OutputArea;\n",
       "\n",
       "    if (OutputArea.prototype.mime_types().indexOf(EXEC_MIME_TYPE) == -1) {\n",
       "      register_renderer(events, OutputArea);\n",
       "    }\n",
       "  }\n",
       "\n",
       "  \n",
       "  if (typeof (root._bokeh_timeout) === \"undefined\" || force === true) {\n",
       "    root._bokeh_timeout = Date.now() + 5000;\n",
       "    root._bokeh_failed_load = false;\n",
       "  }\n",
       "\n",
       "  const NB_LOAD_WARNING = {'data': {'text/html':\n",
       "     \"<div style='background-color: #fdd'>\\n\"+\n",
       "     \"<p>\\n\"+\n",
       "     \"BokehJS does not appear to have successfully loaded. If loading BokehJS from CDN, this \\n\"+\n",
       "     \"may be due to a slow or bad network connection. Possible fixes:\\n\"+\n",
       "     \"</p>\\n\"+\n",
       "     \"<ul>\\n\"+\n",
       "     \"<li>re-rerun `output_notebook()` to attempt to load from CDN again, or</li>\\n\"+\n",
       "     \"<li>use INLINE resources instead, as so:</li>\\n\"+\n",
       "     \"</ul>\\n\"+\n",
       "     \"<code>\\n\"+\n",
       "     \"from bokeh.resources import INLINE\\n\"+\n",
       "     \"output_notebook(resources=INLINE)\\n\"+\n",
       "     \"</code>\\n\"+\n",
       "     \"</div>\"}};\n",
       "\n",
       "  function display_loaded() {\n",
       "    const el = document.getElementById(\"10134\");\n",
       "    if (el != null) {\n",
       "      el.textContent = \"BokehJS is loading...\";\n",
       "    }\n",
       "    if (root.Bokeh !== undefined) {\n",
       "      if (el != null) {\n",
       "        el.textContent = \"BokehJS \" + root.Bokeh.version + \" successfully loaded.\";\n",
       "      }\n",
       "    } else if (Date.now() < root._bokeh_timeout) {\n",
       "      setTimeout(display_loaded, 100)\n",
       "    }\n",
       "  }\n",
       "\n",
       "\n",
       "  function run_callbacks() {\n",
       "    try {\n",
       "      root._bokeh_onload_callbacks.forEach(function(callback) {\n",
       "        if (callback != null)\n",
       "          callback();\n",
       "      });\n",
       "    } finally {\n",
       "      delete root._bokeh_onload_callbacks\n",
       "    }\n",
       "    console.debug(\"Bokeh: all callbacks have finished\");\n",
       "  }\n",
       "\n",
       "  function load_libs(css_urls, js_urls, callback) {\n",
       "    if (css_urls == null) css_urls = [];\n",
       "    if (js_urls == null) js_urls = [];\n",
       "\n",
       "    root._bokeh_onload_callbacks.push(callback);\n",
       "    if (root._bokeh_is_loading > 0) {\n",
       "      console.debug(\"Bokeh: BokehJS is being loaded, scheduling callback at\", now());\n",
       "      return null;\n",
       "    }\n",
       "    if (js_urls == null || js_urls.length === 0) {\n",
       "      run_callbacks();\n",
       "      return null;\n",
       "    }\n",
       "    console.debug(\"Bokeh: BokehJS not loaded, scheduling load and callback at\", now());\n",
       "    root._bokeh_is_loading = css_urls.length + js_urls.length;\n",
       "\n",
       "    function on_load() {\n",
       "      root._bokeh_is_loading--;\n",
       "      if (root._bokeh_is_loading === 0) {\n",
       "        console.debug(\"Bokeh: all BokehJS libraries/stylesheets loaded\");\n",
       "        run_callbacks()\n",
       "      }\n",
       "    }\n",
       "\n",
       "    function on_error(url) {\n",
       "      console.error(\"failed to load \" + url);\n",
       "    }\n",
       "\n",
       "    for (let i = 0; i < css_urls.length; i++) {\n",
       "      const url = css_urls[i];\n",
       "      const element = document.createElement(\"link\");\n",
       "      element.onload = on_load;\n",
       "      element.onerror = on_error.bind(null, url);\n",
       "      element.rel = \"stylesheet\";\n",
       "      element.type = \"text/css\";\n",
       "      element.href = url;\n",
       "      console.debug(\"Bokeh: injecting link tag for BokehJS stylesheet: \", url);\n",
       "      document.body.appendChild(element);\n",
       "    }\n",
       "\n",
       "    for (let i = 0; i < js_urls.length; i++) {\n",
       "      const url = js_urls[i];\n",
       "      const element = document.createElement('script');\n",
       "      element.onload = on_load;\n",
       "      element.onerror = on_error.bind(null, url);\n",
       "      element.async = false;\n",
       "      element.src = url;\n",
       "      console.debug(\"Bokeh: injecting script tag for BokehJS library: \", url);\n",
       "      document.head.appendChild(element);\n",
       "    }\n",
       "  };\n",
       "\n",
       "  function inject_raw_css(css) {\n",
       "    const element = document.createElement(\"style\");\n",
       "    element.appendChild(document.createTextNode(css));\n",
       "    document.body.appendChild(element);\n",
       "  }\n",
       "\n",
       "  \n",
       "  const js_urls = [\"https://cdn.bokeh.org/bokeh/release/bokeh-2.4.2.min.js\", \"https://cdn.bokeh.org/bokeh/release/bokeh-gl-2.4.2.min.js\", \"https://cdn.bokeh.org/bokeh/release/bokeh-widgets-2.4.2.min.js\", \"https://cdn.bokeh.org/bokeh/release/bokeh-tables-2.4.2.min.js\", \"https://cdn.bokeh.org/bokeh/release/bokeh-mathjax-2.4.2.min.js\"];\n",
       "  const css_urls = [];\n",
       "  \n",
       "\n",
       "  const inline_js = [\n",
       "    function(Bokeh) {\n",
       "      Bokeh.set_log_level(\"info\");\n",
       "    },\n",
       "    function(Bokeh) {\n",
       "    \n",
       "    \n",
       "    }\n",
       "  ];\n",
       "\n",
       "  function run_inline_js() {\n",
       "    \n",
       "    if (root.Bokeh !== undefined || force === true) {\n",
       "      \n",
       "    for (let i = 0; i < inline_js.length; i++) {\n",
       "      inline_js[i].call(root, root.Bokeh);\n",
       "    }\n",
       "    if (force === true) {\n",
       "        display_loaded();\n",
       "      }} else if (Date.now() < root._bokeh_timeout) {\n",
       "      setTimeout(run_inline_js, 100);\n",
       "    } else if (!root._bokeh_failed_load) {\n",
       "      console.log(\"Bokeh: BokehJS failed to load within specified timeout.\");\n",
       "      root._bokeh_failed_load = true;\n",
       "    } else if (force !== true) {\n",
       "      const cell = $(document.getElementById(\"10134\")).parents('.cell').data().cell;\n",
       "      cell.output_area.append_execute_result(NB_LOAD_WARNING)\n",
       "    }\n",
       "\n",
       "  }\n",
       "\n",
       "  if (root._bokeh_is_loading === 0) {\n",
       "    console.debug(\"Bokeh: BokehJS loaded, going straight to plotting\");\n",
       "    run_inline_js();\n",
       "  } else {\n",
       "    load_libs(css_urls, js_urls, function() {\n",
       "      console.debug(\"Bokeh: BokehJS plotting callback run at\", now());\n",
       "      run_inline_js();\n",
       "    });\n",
       "  }\n",
       "}(window));"
      ],
      "application/vnd.bokehjs_load.v0+json": "\n(function(root) {\n  function now() {\n    return new Date();\n  }\n\n  const force = true;\n\n  if (typeof root._bokeh_onload_callbacks === \"undefined\" || force === true) {\n    root._bokeh_onload_callbacks = [];\n    root._bokeh_is_loading = undefined;\n  }\n\n  \n\n  \n  if (typeof (root._bokeh_timeout) === \"undefined\" || force === true) {\n    root._bokeh_timeout = Date.now() + 5000;\n    root._bokeh_failed_load = false;\n  }\n\n  const NB_LOAD_WARNING = {'data': {'text/html':\n     \"<div style='background-color: #fdd'>\\n\"+\n     \"<p>\\n\"+\n     \"BokehJS does not appear to have successfully loaded. If loading BokehJS from CDN, this \\n\"+\n     \"may be due to a slow or bad network connection. Possible fixes:\\n\"+\n     \"</p>\\n\"+\n     \"<ul>\\n\"+\n     \"<li>re-rerun `output_notebook()` to attempt to load from CDN again, or</li>\\n\"+\n     \"<li>use INLINE resources instead, as so:</li>\\n\"+\n     \"</ul>\\n\"+\n     \"<code>\\n\"+\n     \"from bokeh.resources import INLINE\\n\"+\n     \"output_notebook(resources=INLINE)\\n\"+\n     \"</code>\\n\"+\n     \"</div>\"}};\n\n  function display_loaded() {\n    const el = document.getElementById(\"10134\");\n    if (el != null) {\n      el.textContent = \"BokehJS is loading...\";\n    }\n    if (root.Bokeh !== undefined) {\n      if (el != null) {\n        el.textContent = \"BokehJS \" + root.Bokeh.version + \" successfully loaded.\";\n      }\n    } else if (Date.now() < root._bokeh_timeout) {\n      setTimeout(display_loaded, 100)\n    }\n  }\n\n\n  function run_callbacks() {\n    try {\n      root._bokeh_onload_callbacks.forEach(function(callback) {\n        if (callback != null)\n          callback();\n      });\n    } finally {\n      delete root._bokeh_onload_callbacks\n    }\n    console.debug(\"Bokeh: all callbacks have finished\");\n  }\n\n  function load_libs(css_urls, js_urls, callback) {\n    if (css_urls == null) css_urls = [];\n    if (js_urls == null) js_urls = [];\n\n    root._bokeh_onload_callbacks.push(callback);\n    if (root._bokeh_is_loading > 0) {\n      console.debug(\"Bokeh: BokehJS is being loaded, scheduling callback at\", now());\n      return null;\n    }\n    if (js_urls == null || js_urls.length === 0) {\n      run_callbacks();\n      return null;\n    }\n    console.debug(\"Bokeh: BokehJS not loaded, scheduling load and callback at\", now());\n    root._bokeh_is_loading = css_urls.length + js_urls.length;\n\n    function on_load() {\n      root._bokeh_is_loading--;\n      if (root._bokeh_is_loading === 0) {\n        console.debug(\"Bokeh: all BokehJS libraries/stylesheets loaded\");\n        run_callbacks()\n      }\n    }\n\n    function on_error(url) {\n      console.error(\"failed to load \" + url);\n    }\n\n    for (let i = 0; i < css_urls.length; i++) {\n      const url = css_urls[i];\n      const element = document.createElement(\"link\");\n      element.onload = on_load;\n      element.onerror = on_error.bind(null, url);\n      element.rel = \"stylesheet\";\n      element.type = \"text/css\";\n      element.href = url;\n      console.debug(\"Bokeh: injecting link tag for BokehJS stylesheet: \", url);\n      document.body.appendChild(element);\n    }\n\n    for (let i = 0; i < js_urls.length; i++) {\n      const url = js_urls[i];\n      const element = document.createElement('script');\n      element.onload = on_load;\n      element.onerror = on_error.bind(null, url);\n      element.async = false;\n      element.src = url;\n      console.debug(\"Bokeh: injecting script tag for BokehJS library: \", url);\n      document.head.appendChild(element);\n    }\n  };\n\n  function inject_raw_css(css) {\n    const element = document.createElement(\"style\");\n    element.appendChild(document.createTextNode(css));\n    document.body.appendChild(element);\n  }\n\n  \n  const js_urls = [\"https://cdn.bokeh.org/bokeh/release/bokeh-2.4.2.min.js\", \"https://cdn.bokeh.org/bokeh/release/bokeh-gl-2.4.2.min.js\", \"https://cdn.bokeh.org/bokeh/release/bokeh-widgets-2.4.2.min.js\", \"https://cdn.bokeh.org/bokeh/release/bokeh-tables-2.4.2.min.js\", \"https://cdn.bokeh.org/bokeh/release/bokeh-mathjax-2.4.2.min.js\"];\n  const css_urls = [];\n  \n\n  const inline_js = [\n    function(Bokeh) {\n      Bokeh.set_log_level(\"info\");\n    },\n    function(Bokeh) {\n    \n    \n    }\n  ];\n\n  function run_inline_js() {\n    \n    if (root.Bokeh !== undefined || force === true) {\n      \n    for (let i = 0; i < inline_js.length; i++) {\n      inline_js[i].call(root, root.Bokeh);\n    }\n    if (force === true) {\n        display_loaded();\n      }} else if (Date.now() < root._bokeh_timeout) {\n      setTimeout(run_inline_js, 100);\n    } else if (!root._bokeh_failed_load) {\n      console.log(\"Bokeh: BokehJS failed to load within specified timeout.\");\n      root._bokeh_failed_load = true;\n    } else if (force !== true) {\n      const cell = $(document.getElementById(\"10134\")).parents('.cell').data().cell;\n      cell.output_area.append_execute_result(NB_LOAD_WARNING)\n    }\n\n  }\n\n  if (root._bokeh_is_loading === 0) {\n    console.debug(\"Bokeh: BokehJS loaded, going straight to plotting\");\n    run_inline_js();\n  } else {\n    load_libs(css_urls, js_urls, function() {\n      console.debug(\"Bokeh: BokehJS plotting callback run at\", now());\n      run_inline_js();\n    });\n  }\n}(window));"
     },
     "metadata": {},
     "output_type": "display_data"
    },
    {
     "data": {
      "text/html": [
       "\n",
       "\n",
       "\n",
       "\n",
       "\n",
       "\n",
       "  <div class=\"bk-root\" id=\"99fa93c8-7343-4bd5-9fc6-e3791a84d995\" data-root-id=\"10136\"></div>\n"
      ]
     },
     "metadata": {},
     "output_type": "display_data"
    },
    {
     "data": {
      "application/javascript": [
       "(function(root) {\n",
       "  function embed_document(root) {\n",
       "    \n",
       "  const docs_json = {\"3753d5a5-f171-4d9f-ba1a-8c5e15141b5f\":{\"defs\":[],\"roots\":{\"references\":[{\"attributes\":{\"below\":[{\"id\":\"10147\"}],\"center\":[{\"id\":\"10150\"},{\"id\":\"10153\"},{\"id\":\"10190\"},{\"id\":\"10191\"}],\"height\":400,\"left\":[{\"id\":\"10151\"}],\"renderers\":[{\"id\":\"10160\"},{\"id\":\"10167\"},{\"id\":\"10174\"},{\"id\":\"10181\"},{\"id\":\"10188\"}],\"title\":{\"id\":\"10137\"},\"toolbar\":{\"id\":\"10154\"},\"width\":800,\"x_range\":{\"id\":\"10139\"},\"x_scale\":{\"id\":\"10143\"},\"y_range\":{\"id\":\"10141\"},\"y_scale\":{\"id\":\"10145\"}},\"id\":\"10136\",\"subtype\":\"Figure\",\"type\":\"Plot\"},{\"attributes\":{\"fill_color\":{\"value\":\"green\"},\"hatch_color\":{\"value\":\"green\"},\"height\":{\"value\":0.9},\"left\":{\"field\":\"Start\"},\"line_color\":{\"value\":\"green\"},\"right\":{\"field\":\"End\"},\"y\":{\"field\":\"Task\"}},\"id\":\"10164\",\"type\":\"HBar\"},{\"attributes\":{\"coordinates\":null,\"group\":null,\"text\":\"CAPSTONE Schedule\"},\"id\":\"10137\",\"type\":\"Title\"},{\"attributes\":{},\"id\":\"10487\",\"type\":\"AllLabels\"},{\"attributes\":{},\"id\":\"10143\",\"type\":\"LinearScale\"},{\"attributes\":{},\"id\":\"10489\",\"type\":\"DatetimeTickFormatter\"},{\"attributes\":{\"source\":{\"id\":\"10169\"}},\"id\":\"10175\",\"type\":\"CDSView\"},{\"attributes\":{\"fill_alpha\":{\"value\":0.1},\"fill_color\":{\"value\":\"orange\"},\"hatch_alpha\":{\"value\":0.1},\"hatch_color\":{\"value\":\"orange\"},\"height\":{\"value\":0.9},\"left\":{\"field\":\"Start\"},\"line_alpha\":{\"value\":0.1},\"line_color\":{\"value\":\"orange\"},\"right\":{\"field\":\"End\"},\"y\":{\"field\":\"Task\"}},\"id\":\"10186\",\"type\":\"HBar\"},{\"attributes\":{\"tools\":[{\"id\":\"10192\"}]},\"id\":\"10154\",\"type\":\"Toolbar\"},{\"attributes\":{},\"id\":\"10491\",\"type\":\"UnionRenderers\"},{\"attributes\":{\"data\":{\"End\":{\"__ndarray__\":\"AAAAQjuIeEI=\",\"dtype\":\"float64\",\"order\":\"little\",\"shape\":[1]},\"Start\":{\"__ndarray__\":\"AAAAT8uBeEI=\",\"dtype\":\"float64\",\"order\":\"little\",\"shape\":[1]},\"Task\":[\"Key features & indicators\"],\"Week\":[\"May 15-Jun 4\"],\"index\":[1]},\"selected\":{\"id\":\"10494\"},\"selection_policy\":{\"id\":\"10493\"}},\"id\":\"10162\",\"type\":\"ColumnDataSource\"},{\"attributes\":{\"axis_label\":\"Date\",\"coordinates\":null,\"formatter\":{\"id\":\"10489\"},\"group\":null,\"major_label_orientation\":1,\"major_label_policy\":{\"id\":\"10490\"},\"ticker\":{\"id\":\"10148\"}},\"id\":\"10147\",\"type\":\"DatetimeAxis\"},{\"attributes\":{\"num_minor_ticks\":5,\"tickers\":[{\"id\":\"10501\"},{\"id\":\"10502\"},{\"id\":\"10503\"},{\"id\":\"10504\"},{\"id\":\"10505\"},{\"id\":\"10506\"},{\"id\":\"10507\"},{\"id\":\"10508\"},{\"id\":\"10509\"},{\"id\":\"10510\"},{\"id\":\"10511\"},{\"id\":\"10512\"}]},\"id\":\"10148\",\"type\":\"DatetimeTicker\"},{\"attributes\":{},\"id\":\"10495\",\"type\":\"UnionRenderers\"},{\"attributes\":{\"mantissas\":[1,2,5],\"max_interval\":500.0,\"num_minor_ticks\":0},\"id\":\"10501\",\"type\":\"AdaptiveTicker\"},{\"attributes\":{},\"id\":\"10494\",\"type\":\"Selection\"},{\"attributes\":{},\"id\":\"10493\",\"type\":\"UnionRenderers\"},{\"attributes\":{\"data\":{\"End\":{\"__ndarray__\":\"AADAmv2OeEI=\",\"dtype\":\"float64\",\"order\":\"little\",\"shape\":[1]},\"Start\":{\"__ndarray__\":\"AAAANauOeEI=\",\"dtype\":\"float64\",\"order\":\"little\",\"shape\":[1]},\"Task\":[\"Next Steps\"],\"Week\":[\"Jun 24-25\"],\"index\":[4]},\"selected\":{\"id\":\"10500\"},\"selection_policy\":{\"id\":\"10499\"}},\"id\":\"10183\",\"type\":\"ColumnDataSource\"},{\"attributes\":{\"axis\":{\"id\":\"10147\"},\"coordinates\":null,\"group\":null,\"ticker\":null},\"id\":\"10150\",\"type\":\"Grid\"},{\"attributes\":{},\"id\":\"10486\",\"type\":\"CategoricalTickFormatter\"},{\"attributes\":{\"base\":60,\"mantissas\":[1,2,5,10,15,20,30],\"max_interval\":1800000.0,\"min_interval\":1000.0,\"num_minor_ticks\":0},\"id\":\"10502\",\"type\":\"AdaptiveTicker\"},{\"attributes\":{\"base\":24,\"mantissas\":[1,2,4,6,8,12],\"max_interval\":43200000.0,\"min_interval\":3600000.0,\"num_minor_ticks\":0},\"id\":\"10503\",\"type\":\"AdaptiveTicker\"},{\"attributes\":{\"coordinates\":null,\"data_source\":{\"id\":\"10183\"},\"glyph\":{\"id\":\"10185\"},\"group\":null,\"hover_glyph\":null,\"muted_glyph\":{\"id\":\"10187\"},\"nonselection_glyph\":{\"id\":\"10186\"},\"view\":{\"id\":\"10189\"}},\"id\":\"10188\",\"type\":\"GlyphRenderer\"},{\"attributes\":{},\"id\":\"10492\",\"type\":\"Selection\"},{\"attributes\":{},\"id\":\"10512\",\"type\":\"YearsTicker\"},{\"attributes\":{\"hatch_color\":{\"value\":\"gray\"},\"height\":{\"value\":0.9},\"left\":{\"field\":\"Start\"},\"line_color\":{\"value\":\"gray\"},\"right\":{\"field\":\"End\"},\"y\":{\"field\":\"Task\"}},\"id\":\"10157\",\"type\":\"HBar\"},{\"attributes\":{\"fill_alpha\":{\"value\":0.1},\"fill_color\":{\"value\":\"red\"},\"hatch_alpha\":{\"value\":0.1},\"hatch_color\":{\"value\":\"red\"},\"height\":{\"value\":0.9},\"left\":{\"field\":\"Start\"},\"line_alpha\":{\"value\":0.1},\"line_color\":{\"value\":\"red\"},\"right\":{\"field\":\"End\"},\"y\":{\"field\":\"Task\"}},\"id\":\"10172\",\"type\":\"HBar\"},{\"attributes\":{\"months\":[0,1,2,3,4,5,6,7,8,9,10,11]},\"id\":\"10508\",\"type\":\"MonthsTicker\"},{\"attributes\":{\"factors\":[\"Data processing\",\"Key features & indicators\",\"Model training & evaluation\",\"A/b testing, Model refinement\",\"Next Steps\"]},\"id\":\"10141\",\"type\":\"FactorRange\"},{\"attributes\":{\"coordinates\":null,\"data_source\":{\"id\":\"10162\"},\"glyph\":{\"id\":\"10164\"},\"group\":null,\"hover_glyph\":null,\"muted_glyph\":{\"id\":\"10166\"},\"nonselection_glyph\":{\"id\":\"10165\"},\"view\":{\"id\":\"10168\"}},\"id\":\"10167\",\"type\":\"GlyphRenderer\"},{\"attributes\":{\"source\":{\"id\":\"10183\"}},\"id\":\"10189\",\"type\":\"CDSView\"},{\"attributes\":{\"days\":[1,15]},\"id\":\"10507\",\"type\":\"DaysTicker\"},{\"attributes\":{\"days\":[1,2,3,4,5,6,7,8,9,10,11,12,13,14,15,16,17,18,19,20,21,22,23,24,25,26,27,28,29,30,31]},\"id\":\"10504\",\"type\":\"DaysTicker\"},{\"attributes\":{\"data\":{\"End\":{\"__ndarray__\":\"AABAz1iOeEI=\",\"dtype\":\"float64\",\"order\":\"little\",\"shape\":[1]},\"Start\":{\"__ndarray__\":\"AAAAnmGNeEI=\",\"dtype\":\"float64\",\"order\":\"little\",\"shape\":[1]},\"Task\":[\"A/b testing, Model refinement\"],\"Week\":[\"Jun 20-23\"],\"index\":[3]},\"selected\":{\"id\":\"10498\"},\"selection_policy\":{\"id\":\"10497\"}},\"id\":\"10176\",\"type\":\"ColumnDataSource\"},{\"attributes\":{},\"id\":\"10145\",\"type\":\"CategoricalScale\"},{\"attributes\":{\"fill_alpha\":{\"value\":0.2},\"fill_color\":{\"value\":\"purple\"},\"hatch_alpha\":{\"value\":0.2},\"hatch_color\":{\"value\":\"purple\"},\"height\":{\"value\":0.9},\"left\":{\"field\":\"Start\"},\"line_alpha\":{\"value\":0.2},\"line_color\":{\"value\":\"purple\"},\"right\":{\"field\":\"End\"},\"y\":{\"field\":\"Task\"}},\"id\":\"10180\",\"type\":\"HBar\"},{\"attributes\":{},\"id\":\"10490\",\"type\":\"AllLabels\"},{\"attributes\":{\"days\":[1,4,7,10,13,16,19,22,25,28]},\"id\":\"10505\",\"type\":\"DaysTicker\"},{\"attributes\":{\"fill_alpha\":{\"value\":0.2},\"hatch_alpha\":{\"value\":0.2},\"hatch_color\":{\"value\":\"gray\"},\"height\":{\"value\":0.9},\"left\":{\"field\":\"Start\"},\"line_alpha\":{\"value\":0.2},\"line_color\":{\"value\":\"gray\"},\"right\":{\"field\":\"End\"},\"y\":{\"field\":\"Task\"}},\"id\":\"10159\",\"type\":\"HBar\"},{\"attributes\":{\"fill_color\":{\"value\":\"orange\"},\"hatch_color\":{\"value\":\"orange\"},\"height\":{\"value\":0.9},\"left\":{\"field\":\"Start\"},\"line_color\":{\"value\":\"orange\"},\"right\":{\"field\":\"End\"},\"y\":{\"field\":\"Task\"}},\"id\":\"10185\",\"type\":\"HBar\"},{\"attributes\":{\"source\":{\"id\":\"10155\"}},\"id\":\"10161\",\"type\":\"CDSView\"},{\"attributes\":{},\"id\":\"10497\",\"type\":\"UnionRenderers\"},{\"attributes\":{},\"id\":\"10499\",\"type\":\"UnionRenderers\"},{\"attributes\":{\"days\":[1,8,15,22]},\"id\":\"10506\",\"type\":\"DaysTicker\"},{\"attributes\":{\"months\":[0,2,4,6,8,10]},\"id\":\"10509\",\"type\":\"MonthsTicker\"},{\"attributes\":{},\"id\":\"10500\",\"type\":\"Selection\"},{\"attributes\":{\"months\":[0,6]},\"id\":\"10511\",\"type\":\"MonthsTicker\"},{\"attributes\":{},\"id\":\"10496\",\"type\":\"Selection\"},{\"attributes\":{\"coordinates\":null,\"data_source\":{\"id\":\"10169\"},\"glyph\":{\"id\":\"10171\"},\"group\":null,\"hover_glyph\":null,\"muted_glyph\":{\"id\":\"10173\"},\"nonselection_glyph\":{\"id\":\"10172\"},\"view\":{\"id\":\"10175\"}},\"id\":\"10174\",\"type\":\"GlyphRenderer\"},{\"attributes\":{\"months\":[0,4,8]},\"id\":\"10510\",\"type\":\"MonthsTicker\"},{\"attributes\":{\"axis\":{\"id\":\"10151\"},\"coordinates\":null,\"dimension\":1,\"grid_line_color\":null,\"group\":null,\"ticker\":null},\"id\":\"10153\",\"type\":\"Grid\"},{\"attributes\":{\"fill_alpha\":{\"value\":0.1},\"fill_color\":{\"value\":\"green\"},\"hatch_alpha\":{\"value\":0.1},\"hatch_color\":{\"value\":\"green\"},\"height\":{\"value\":0.9},\"left\":{\"field\":\"Start\"},\"line_alpha\":{\"value\":0.1},\"line_color\":{\"value\":\"green\"},\"right\":{\"field\":\"End\"},\"y\":{\"field\":\"Task\"}},\"id\":\"10165\",\"type\":\"HBar\"},{\"attributes\":{\"coordinates\":null,\"data_source\":{\"id\":\"10155\"},\"glyph\":{\"id\":\"10157\"},\"group\":null,\"hover_glyph\":null,\"muted_glyph\":{\"id\":\"10159\"},\"nonselection_glyph\":{\"id\":\"10158\"},\"view\":{\"id\":\"10161\"}},\"id\":\"10160\",\"type\":\"GlyphRenderer\"},{\"attributes\":{},\"id\":\"10498\",\"type\":\"Selection\"},{\"attributes\":{\"coordinates\":null,\"data_source\":{\"id\":\"10176\"},\"glyph\":{\"id\":\"10178\"},\"group\":null,\"hover_glyph\":null,\"muted_glyph\":{\"id\":\"10180\"},\"nonselection_glyph\":{\"id\":\"10179\"},\"view\":{\"id\":\"10182\"}},\"id\":\"10181\",\"type\":\"GlyphRenderer\"},{\"attributes\":{\"fill_alpha\":{\"value\":0.1},\"fill_color\":{\"value\":\"purple\"},\"hatch_alpha\":{\"value\":0.1},\"hatch_color\":{\"value\":\"purple\"},\"height\":{\"value\":0.9},\"left\":{\"field\":\"Start\"},\"line_alpha\":{\"value\":0.1},\"line_color\":{\"value\":\"purple\"},\"right\":{\"field\":\"End\"},\"y\":{\"field\":\"Task\"}},\"id\":\"10179\",\"type\":\"HBar\"},{\"attributes\":{\"callback\":null,\"formatters\":{\"@End\":\"datetime\",\"@Start\":\"datetime\"},\"tooltips\":[[\"Task\",\"@Task\"],[\"Start\",\"@Start{%F}\"],[\"End\",\"@End{%F}\"]]},\"id\":\"10192\",\"type\":\"HoverTool\"},{\"attributes\":{\"fill_color\":{\"value\":\"purple\"},\"hatch_color\":{\"value\":\"purple\"},\"height\":{\"value\":0.9},\"left\":{\"field\":\"Start\"},\"line_color\":{\"value\":\"purple\"},\"right\":{\"field\":\"End\"},\"y\":{\"field\":\"Task\"}},\"id\":\"10178\",\"type\":\"HBar\"},{\"attributes\":{\"fill_alpha\":{\"value\":0.2},\"fill_color\":{\"value\":\"red\"},\"hatch_alpha\":{\"value\":0.2},\"hatch_color\":{\"value\":\"red\"},\"height\":{\"value\":0.9},\"left\":{\"field\":\"Start\"},\"line_alpha\":{\"value\":0.2},\"line_color\":{\"value\":\"red\"},\"right\":{\"field\":\"End\"},\"y\":{\"field\":\"Task\"}},\"id\":\"10173\",\"type\":\"HBar\"},{\"attributes\":{\"coordinates\":null,\"fill_alpha\":0.1,\"fill_color\":\"lightgreen\",\"group\":null,\"left\":1684108800000.0,\"right\":1685923200000.0},\"id\":\"10191\",\"type\":\"BoxAnnotation\"},{\"attributes\":{\"axis_label\":\"Task\",\"coordinates\":null,\"formatter\":{\"id\":\"10486\"},\"group\":null,\"major_label_policy\":{\"id\":\"10487\"},\"ticker\":{\"id\":\"10152\"}},\"id\":\"10151\",\"type\":\"CategoricalAxis\"},{\"attributes\":{\"fill_alpha\":{\"value\":0.1},\"hatch_alpha\":{\"value\":0.1},\"hatch_color\":{\"value\":\"gray\"},\"height\":{\"value\":0.9},\"left\":{\"field\":\"Start\"},\"line_alpha\":{\"value\":0.1},\"line_color\":{\"value\":\"gray\"},\"right\":{\"field\":\"End\"},\"y\":{\"field\":\"Task\"}},\"id\":\"10158\",\"type\":\"HBar\"},{\"attributes\":{\"data\":{\"End\":{\"__ndarray__\":\"AABAOA+NeEI=\",\"dtype\":\"float64\",\"order\":\"little\",\"shape\":[1]},\"Start\":{\"__ndarray__\":\"AADAp42IeEI=\",\"dtype\":\"float64\",\"order\":\"little\",\"shape\":[1]},\"Task\":[\"Model training & evaluation\"],\"Week\":[\"Jun 5-19\"],\"index\":[2]},\"selected\":{\"id\":\"10496\"},\"selection_policy\":{\"id\":\"10495\"}},\"id\":\"10169\",\"type\":\"ColumnDataSource\"},{\"attributes\":{\"source\":{\"id\":\"10176\"}},\"id\":\"10182\",\"type\":\"CDSView\"},{\"attributes\":{\"source\":{\"id\":\"10162\"}},\"id\":\"10168\",\"type\":\"CDSView\"},{\"attributes\":{\"fill_alpha\":{\"value\":0.2},\"fill_color\":{\"value\":\"green\"},\"hatch_alpha\":{\"value\":0.2},\"hatch_color\":{\"value\":\"green\"},\"height\":{\"value\":0.9},\"left\":{\"field\":\"Start\"},\"line_alpha\":{\"value\":0.2},\"line_color\":{\"value\":\"green\"},\"right\":{\"field\":\"End\"},\"y\":{\"field\":\"Task\"}},\"id\":\"10166\",\"type\":\"HBar\"},{\"attributes\":{\"fill_alpha\":{\"value\":0.2},\"fill_color\":{\"value\":\"orange\"},\"hatch_alpha\":{\"value\":0.2},\"hatch_color\":{\"value\":\"orange\"},\"height\":{\"value\":0.9},\"left\":{\"field\":\"Start\"},\"line_alpha\":{\"value\":0.2},\"line_color\":{\"value\":\"orange\"},\"right\":{\"field\":\"End\"},\"y\":{\"field\":\"Task\"}},\"id\":\"10187\",\"type\":\"HBar\"},{\"attributes\":{},\"id\":\"10152\",\"type\":\"CategoricalTicker\"},{\"attributes\":{\"data\":{\"End\":{\"__ndarray__\":\"AABA6XiBeEI=\",\"dtype\":\"float64\",\"order\":\"little\",\"shape\":[1]},\"Start\":{\"__ndarray__\":\"AACAvkl9eEI=\",\"dtype\":\"float64\",\"order\":\"little\",\"shape\":[1]},\"Task\":[\"Data processing\"],\"Week\":[\"May 1-14\"],\"index\":[0]},\"selected\":{\"id\":\"10492\"},\"selection_policy\":{\"id\":\"10491\"}},\"id\":\"10155\",\"type\":\"ColumnDataSource\"},{\"attributes\":{\"fill_color\":{\"value\":\"red\"},\"hatch_color\":{\"value\":\"red\"},\"height\":{\"value\":0.9},\"left\":{\"field\":\"Start\"},\"line_color\":{\"value\":\"red\"},\"right\":{\"field\":\"End\"},\"y\":{\"field\":\"Task\"}},\"id\":\"10171\",\"type\":\"HBar\"},{\"attributes\":{\"coordinates\":null,\"fill_alpha\":0.1,\"fill_color\":\"lightgrey\",\"group\":null,\"left\":1682899200000.0,\"right\":1684022400000.0},\"id\":\"10190\",\"type\":\"BoxAnnotation\"},{\"attributes\":{},\"id\":\"10139\",\"type\":\"DataRange1d\"}],\"root_ids\":[\"10136\"]},\"title\":\"Bokeh Application\",\"version\":\"2.4.2\"}};\n",
       "  const render_items = [{\"docid\":\"3753d5a5-f171-4d9f-ba1a-8c5e15141b5f\",\"root_ids\":[\"10136\"],\"roots\":{\"10136\":\"99fa93c8-7343-4bd5-9fc6-e3791a84d995\"}}];\n",
       "  root.Bokeh.embed.embed_items_notebook(docs_json, render_items);\n",
       "\n",
       "  }\n",
       "  if (root.Bokeh !== undefined) {\n",
       "    embed_document(root);\n",
       "  } else {\n",
       "    let attempts = 0;\n",
       "    const timer = setInterval(function(root) {\n",
       "      if (root.Bokeh !== undefined) {\n",
       "        clearInterval(timer);\n",
       "        embed_document(root);\n",
       "      } else {\n",
       "        attempts++;\n",
       "        if (attempts > 100) {\n",
       "          clearInterval(timer);\n",
       "          console.log(\"Bokeh: ERROR: Unable to run BokehJS code because BokehJS library is missing\");\n",
       "        }\n",
       "      }\n",
       "    }, 10, root)\n",
       "  }\n",
       "})(window);"
      ],
      "application/vnd.bokehjs_exec.v0+json": ""
     },
     "metadata": {
      "application/vnd.bokehjs_exec.v0+json": {
       "id": "10136"
      }
     },
     "output_type": "display_data"
    }
   ],
   "source": [
    "#importing libraries\n",
    "import pandas as pd #pandas takes care of all file handling\n",
    "from bokeh.models import BoxAnnotation #bokeh is a plot library and boxannotation will help with aspects of the graph\n",
    "from bokeh.plotting import figure, show  #help with shape and view aspect of the graph\n",
    "from bokeh.io import output_notebook #gives it the \"in notebook\" display rather than an HTML display\n",
    "from bokeh.models import ColumnDataSource, HoverTool #added tools for better features of the graph\n",
    "\n",
    "output_notebook()\n",
    "\n",
    "#Data setup\n",
    "data = {\n",
    "    'Week': ['May 1-14', 'May 15-Jun 4', 'Jun 5-19', 'Jun 20-23', 'Jun 24-25'],\n",
    "    'Task': [\n",
    "        'Data processing',\n",
    "        'Key features & indicators',\n",
    "        'Model training & evaluation',\n",
    "        'A/b testing, Model refinement',\n",
    "        'Next Steps'\n",
    "    ],\n",
    "    'Start': ['2023-05-01', '2023-05-15', '2023-06-05', '2023-06-20', '2023-06-24'],\n",
    "    'End': ['2023-05-14', '2023-06-04', '2023-06-19', '2023-06-23', '2023-06-25']\n",
    "}\n",
    "\n",
    "df = pd.DataFrame(data)\n",
    "df['Start'] = pd.to_datetime(df['Start'])\n",
    "df['End'] = pd.to_datetime(df['End'])\n",
    "\n",
    "#Column data source creation\n",
    "source = ColumnDataSource(df)\n",
    "\n",
    "#colors for each task\n",
    "colors = ['gray', 'green', 'red', 'purple', 'orange']\n",
    "\n",
    "#figure creation\n",
    "p = figure(title=\"CAPSTONE Schedule\", x_axis_type='datetime', y_range=df['Task'], plot_width=800, plot_height=400, tools=\"\")\n",
    "\n",
    "for indx, task in enumerate(df['Task']):\n",
    "    task_source = ColumnDataSource(df[df['Task'] == task])\n",
    "    p.hbar(y='Task', height=0.9, left='Start', right='End', color=colors[indx], source=task_source)\n",
    "\n",
    "#shading the passive and active intervals\n",
    "box = BoxAnnotation(left=pd.to_datetime('2023-05-01'), right=pd.to_datetime('2023-05-14'), fill_color='lightgrey', fill_alpha=0.1)\n",
    "box2 = BoxAnnotation(left=pd.to_datetime('2023-05-15'), right=pd.to_datetime('2023-06-05'), fill_color='lightgreen', fill_alpha=0.1)\n",
    "\n",
    "#displaying them\n",
    "p.add_layout(box)\n",
    "p.add_layout(box2)\n",
    "\n",
    "#this allows the cursor to hover over it\n",
    "hover = HoverTool(tooltips=[(\"Task\", \"@Task\"), (\"Start\", \"@Start{%F}\"), (\"End\", \"@End{%F}\")], formatters={\"@Start\": \"datetime\", \"@End\": \"datetime\"})\n",
    "p.add_tools(hover)\n",
    "\n",
    "#these are the labels\n",
    "p.xaxis.axis_label = \"Date\"\n",
    "p.yaxis.axis_label = \"Task\"\n",
    "p.ygrid.grid_line_color = None\n",
    "p.xaxis.major_label_orientation = 1\n",
    "\n",
    "#shows the graph\n",
    "show(p)\n"
   ]
  },
  {
   "cell_type": "markdown",
   "id": "7514232f-161e-4cd0-a927-ccb48a2b7664",
   "metadata": {},
   "source": [
    "## Table of Contents"
   ]
  },
  {
   "cell_type": "markdown",
   "id": "5220c3d9-5f6f-4795-b89c-35592bd2b384",
   "metadata": {},
   "source": [
    "\n",
    "<a id=\"0\"></a> <br>\n",
    "1. [Cleaning the Data](#0.2)\n",
    "\n",
    "2. [User Interactions](#0.3)\n",
    "\n",
    "3. [Regex Clean Values](#0.4)\n",
    "\n",
    "3. [Colinearity](#0.5)\n"
   ]
  },
  {
   "cell_type": "markdown",
   "id": "fb406482-2b67-4208-a2d8-25bb24f897d6",
   "metadata": {},
   "source": [
    "## Cleaning the data:\n",
    "\n",
    "In this clean I will demonstrate a bit more depth on the dataset acquired.  The knowledge behind what areas I focused on and why.  First I want to credit the overall dataset could have been much dirtier but because this data was pretty organized to begin with there was just some minor areas to wrinkle out but overall moving to modelling was not the initial challenge.  I will show rather than explain."
   ]
  },
  {
   "cell_type": "markdown",
   "id": "02634c1c-0aba-4702-9b70-08ddff9c2041",
   "metadata": {},
   "source": [
    "**Recipe Data**"
   ]
  },
  {
   "cell_type": "code",
   "execution_count": 51,
   "id": "bea09a52-1b72-4ca4-84a5-b283ec88fc13",
   "metadata": {
    "tags": []
   },
   "outputs": [],
   "source": [
    "#reads in the data, and sets the column widths as maximum inorder to be able to see the entire value of each cell\n",
    "pd.set_option('display.max_colwidth', None)\n",
    "#reading in the recipe dataset with pandas as pd\n",
    "Raw_recipes = pd.read_csv('Capstone/RAW_recipes.csv')"
   ]
  },
  {
   "cell_type": "code",
   "execution_count": null,
   "id": "32e36820-5c86-419f-a04a-5c5ba7a7ab5e",
   "metadata": {},
   "outputs": [],
   "source": [
    "#reading in the recipe dataset with pandas as pd\n",
    "Raw_ints = pd.read_csv('Capstone/RAW_interactions.csv')"
   ]
  },
  {
   "cell_type": "markdown",
   "id": "f7d536e8-bfcd-4808-8389-a8378cc6b523",
   "metadata": {},
   "source": [
    "Task at hand:  Implicit features are far more valuable than explicit features. \n",
    "\n",
    "In our case thats nutrition & ingredients.  We can not leave behind descriptions and tags as columns to clean and correct of all the useless space and special characters that exist in those values.  In addition we need to combine the two tables and make sure there is no data leakage before starting our recommendation function."
   ]
  },
  {
   "cell_type": "markdown",
   "id": "c83eb711-9b80-4f70-b996-4d66a46ad2c5",
   "metadata": {},
   "source": [
    "Let's quickly review what we have!"
   ]
  },
  {
   "cell_type": "code",
   "execution_count": 90,
   "id": "da0bcb39-1289-4a6b-99d3-ee14235635fd",
   "metadata": {},
   "outputs": [
    {
     "data": {
      "text/plain": [
       "Index(['name', 'id', 'minutes', 'contributor_id', 'submitted', 'tags',\n",
       "       'nutrition', 'n_steps', 'steps', 'description', 'ingredients',\n",
       "       'n_ingredients', 'time_interval'],\n",
       "      dtype='object')"
      ]
     },
     "execution_count": 90,
     "metadata": {},
     "output_type": "execute_result"
    }
   ],
   "source": [
    "#list columns\n",
    "Raw_recipes.columns"
   ]
  },
  {
   "cell_type": "code",
   "execution_count": 92,
   "id": "7f1efbdb-9a2a-47ad-a0bd-b49c72b9d1f6",
   "metadata": {},
   "outputs": [
    {
     "data": {
      "text/plain": [
       "Index(['user_id', 'recipe_id', 'date', 'rating', 'review'], dtype='object')"
      ]
     },
     "execution_count": 92,
     "metadata": {},
     "output_type": "execute_result"
    }
   ],
   "source": [
    "#list columns\n",
    "Raw_ints.columns"
   ]
  },
  {
   "cell_type": "code",
   "execution_count": 93,
   "id": "c74e60ce-1c67-4a2c-98d6-0986a52bbd74",
   "metadata": {},
   "outputs": [
    {
     "data": {
      "text/plain": [
       "(231637, 13)"
      ]
     },
     "execution_count": 93,
     "metadata": {},
     "output_type": "execute_result"
    }
   ],
   "source": [
    "#number of rows in the dataset and number of columns\n",
    "Raw_recipes.shape"
   ]
  },
  {
   "cell_type": "code",
   "execution_count": 94,
   "id": "ab029d3a-9d9d-4695-8a69-cf7765d50f26",
   "metadata": {},
   "outputs": [
    {
     "data": {
      "text/plain": [
       "(1132367, 5)"
      ]
     },
     "execution_count": 94,
     "metadata": {},
     "output_type": "execute_result"
    }
   ],
   "source": [
    "#number of rows in the dataset and number of columns\n",
    "Raw_ints.shape"
   ]
  },
  {
   "cell_type": "markdown",
   "id": "23b43bd1-77f0-46f0-ad9f-c0edb4e397ec",
   "metadata": {},
   "source": [
    "Just to iterate here are the columns and shape of each table - its good to note that these are tables as is.  So far there's only been exploration no further cleaning or tampering just yet."
   ]
  },
  {
   "cell_type": "code",
   "execution_count": 96,
   "id": "09390a74-b8ba-4e52-9980-7fc165db8ab1",
   "metadata": {},
   "outputs": [
    {
     "data": {
      "text/plain": [
       "(230186, 13)"
      ]
     },
     "execution_count": 96,
     "metadata": {},
     "output_type": "execute_result"
    }
   ],
   "source": [
    "#Drop duplicate rows\n",
    "df_r = Raw_recipes.drop_duplicates('name')\n",
    "df_r.shape"
   ]
  },
  {
   "cell_type": "markdown",
   "id": "4786ef34-ecce-4b9b-b2ba-8c25ea2156c9",
   "metadata": {},
   "source": [
    "Dropping the duplicate names from the **'name'** column only reduced our data from 1451 rows.  I'm sure there's Na's - let's drop any Na's as well. "
   ]
  },
  {
   "cell_type": "code",
   "execution_count": 97,
   "id": "b898b7f6-780a-4191-a684-486b5d196c45",
   "metadata": {},
   "outputs": [
    {
     "data": {
      "text/plain": [
       "(212199, 13)"
      ]
     },
     "execution_count": 97,
     "metadata": {},
     "output_type": "execute_result"
    }
   ],
   "source": [
    "#Drop Na's in the dataset\n",
    "df_r = df_r.dropna()\n",
    "df_r.shape"
   ]
  },
  {
   "cell_type": "markdown",
   "id": "621b087e-c12f-4e55-8309-a23d897a796c",
   "metadata": {},
   "source": [
    "This dropped almost 18k Rows.  "
   ]
  },
  {
   "cell_type": "code",
   "execution_count": 99,
   "id": "daed3e92-2c8f-42e8-9ad8-73d2d423d35b",
   "metadata": {
    "collapsed": true,
    "jupyter": {
     "outputs_hidden": true
    },
    "tags": []
   },
   "outputs": [
    {
     "name": "stdout",
     "output_type": "stream",
     "text": [
      "                                     name      id  minutes  contributor_id  \\\n",
      "5                 apple a day  milk shake    5289        0            1533   \n",
      "8                bananas 4 ice cream  pie   70971      180          102353   \n",
      "11          better than sex  strawberries   42198     1460           41531   \n",
      "12        better then bush s  baked beans   67547     2970           85627   \n",
      "13             boat house  collard greens  107517      525          137696   \n",
      "...                                   ...     ...      ...             ...   \n",
      "231534              zucchini garlic pasta   49456       40           37779   \n",
      "231549  zucchini sausage brunch casserole  181958      540           89831   \n",
      "231554           zucchini tomato frittata   73629       45           29300   \n",
      "231573          zuni caf zucchini pickles  316950     2895           62264   \n",
      "231603            zupse bread swiss bread  115337      290          107135   \n",
      "\n",
      "         submitted  \\\n",
      "5       1999-12-06   \n",
      "8       2003-09-10   \n",
      "11      2002-10-03   \n",
      "12      2003-07-26   \n",
      "13      2005-01-03   \n",
      "...            ...   \n",
      "231534  2002-12-22   \n",
      "231549  2006-08-15   \n",
      "231554  2003-10-20   \n",
      "231573  2008-07-31   \n",
      "231603  2005-04-05   \n",
      "\n",
      "                                                                                                                                                                                                                                                                                                                                                                                                    tags  \\\n",
      "5                  ['15-minutes-or-less', 'time-to-make', 'course', 'main-ingredient', 'cuisine', 'preparation', 'occasion', 'north-american', 'low-protein', '5-ingredients-or-less', 'beverages', 'fruit', 'american', 'easy', 'kid-friendly', 'dietary', 'low-sodium', 'shakes', 'low-calorie', 'low-in-something', 'apples', 'number-of-servings', 'presentation', 'served-cold', '3-steps-or-less']   \n",
      "8                                                                                             ['weeknight', 'time-to-make', 'course', 'main-ingredient', 'preparation', 'pies-and-tarts', 'desserts', 'lunch', 'snacks', 'no-cook', 'refrigerator', 'kid-friendly', 'frozen-desserts', 'pies', 'chocolate', 'dietary', 'inexpensive', 'equipment', 'number-of-servings', 'technique', '4-hours-or-less']   \n",
      "11                                                                                                                            ['weeknight', 'time-to-make', 'course', 'main-ingredient', 'preparation', 'occasion', 'low-protein', 'pies-and-tarts', 'desserts', 'fruit', '1-day-or-more', 'pies', 'dietary', 'low-sodium', 'comfort-food', 'low-in-something', 'berries', 'strawberries', 'taste-mood']   \n",
      "12                                                                                                                                                                                      ['weeknight', 'time-to-make', 'course', 'main-ingredient', 'cuisine', 'preparation', 'occasion', 'north-american', 'side-dishes', 'beans', 'american', '1-day-or-more', 'oven', 'potluck', 'to-go', 'equipment']   \n",
      "13                                                                                                                                                                                                                                                                                               ['time-to-make', 'main-ingredient', 'preparation', 'vegetables', 'dietary', 'greens', 'collard-greens']   \n",
      "...                                                                                                                                                                                                                                                                                                                                                                                                  ...   \n",
      "231534                                                                                                                                                                           ['60-minutes-or-less', 'time-to-make', 'course', 'main-ingredient', 'preparation', 'main-dish', 'pasta', 'vegetables', 'easy', 'stove-top', 'dietary', 'one-dish-meal', 'pasta-rice-and-grains', 'squash', 'equipment']   \n",
      "231549                                                                        ['time-to-make', 'course', 'main-ingredient', 'preparation', 'occasion', 'casseroles', 'main-dish', 'eggs-dairy', 'oven', 'easy', 'refrigerator', 'beginner-cook', 'holiday-event', 'eggs', 'dietary', 'christmas', 'comfort-food', 'low-carb', 'low-in-something', 'meat', 'brunch', 'taste-mood', 'savory', 'equipment']   \n",
      "231554  ['60-minutes-or-less', 'time-to-make', 'course', 'main-ingredient', 'cuisine', 'preparation', 'occasion', 'north-american', 'very-low-carbs', 'omelets-and-frittatas', 'breakfast', 'eggs-dairy', 'vegetables', 'american', 'oven', 'european', 'italian', 'eggs', 'stove-top', 'dietary', 'low-calorie', 'low-carb', 'low-in-something', 'onions', 'squash', 'tomatoes', 'brunch', 'equipment']   \n",
      "231573                                                                                                                                                                                                                                                                           ['time-to-make', 'course', 'main-ingredient', 'preparation', 'condiments-etc', 'vegetables', '1-day-or-more', 'squash']   \n",
      "231603                                                                                                                                                                                                                                                                                         ['time-to-make', 'course', 'cuisine', 'preparation', 'healthy', 'breads', 'european', 'dietary', 'yeast']   \n",
      "\n",
      "                                                  nutrition  n_steps  \\\n",
      "5                  [160.2, 10.0, 55.0, 3.0, 9.0, 20.0, 7.0]        4   \n",
      "8       [4270.8, 254.0, 1306.0, 111.0, 127.0, 431.0, 220.0]        8   \n",
      "11            [734.1, 66.0, 199.0, 10.0, 10.0, 117.0, 28.0]        8   \n",
      "12             [462.4, 28.0, 214.0, 69.0, 14.0, 29.0, 23.0]        9   \n",
      "13                 [315.8, 0.0, 202.0, 9.0, 6.0, 0.0, 21.0]        7   \n",
      "...                                                     ...      ...   \n",
      "231534          [519.4, 31.0, 16.0, 19.0, 38.0, 36.0, 21.0]       11   \n",
      "231549          [616.3, 73.0, 11.0, 70.0, 71.0, 113.0, 3.0]       15   \n",
      "231554            [130.9, 14.0, 9.0, 11.0, 16.0, 13.0, 1.0]       11   \n",
      "231573           [343.6, 2.0, 284.0, 194.0, 5.0, 0.0, 25.0]       13   \n",
      "231603           [467.4, 18.0, 2.0, 42.0, 26.0, 34.0, 25.0]       14   \n",
      "\n",
      "                                                                                                                                                                                                                                                                                                                                                                                                                                                                                                                                                                                                                                                                                                                                                                                                                                                                                                                                                                                                                                                   steps  \\\n",
      "5                                                                                                                                                                                                                                                                                                                                                                                                                                                                                                                                                                                                                                                                                                                                                                                                                                                                                                                              ['combine ingredients in blender', 'cover and blend until smooth', 'sprinkle with ground cinnamon', 'makes about 2 cups']   \n",
      "8                                                                                                                                                                                                                                                                                                                                                                                                                                                                                                                                                                                             ['crumble cookies into a 9-inch pie plate , or cake pan', 'pat down to form an even layer', 'drizzle 1 cup of chocolate topping evenly over the cookies with a small spoon', 'scoop the vanilla ice cream on top of the chocolate and smooth down', 'cover with half of the sliced bananas', 'top with strawberry ice cream', 'cover and freeze until firm', 'before serving , top with 1 / 4 cup chocolate topping , whipped cream , and sliced bananas']   \n",
      "11                                                                                                                                                                                                                                                                                                                                                                                                                                                                                                                                                                                                                                                                                                            ['crush vanilla wafers into fine crumbs and line a square 8\" x8\" pan', 'mix butter or margarine and sugar', 'add beaten eggs', 'spread the mixture over the wafer crumbs', 'crush strawberries and spread over sugar , egg , and butter mixture', 'cover strawberries with whipped cream', 'sprinkle with chopped nuts', 'chill 24 hours']   \n",
      "12                                                                                                                                                                                                                                                                                                                                                                                                                                                                   ['in a very large sauce pan cover the beans and bouillon cubes in 3 inches of water', 'bring to a boil , cover , and let sit for 1 1 / 2 hours', 'preheat oven to 350 degrees f', \"drain and pour beans into a 9'x11' pan\", 'add the rest over the ingredients , stir , and bake until all the water has evaporated , about 3 hours', 'remove from oven , cover , and let sit overnight', 'preheat oven to 350 degrees f', 'add the next 5 cups of water , and bake until all the water has evaporated , about 3 hours', 'serving suggestions: challah bread , steak , hamburgers']   \n",
      "13                                                                                                                                                                                                                                                                                                                                                                                                                                                                                                                                                                                                                                                                                                                                ['put prepared greens in large pot', 'add water', 'bring to a boil , and boil for one hour', 'add sugar , molasses , hot sauce , whiskey , and ham hock', 'bring to a boil again , and boil for another hour', 'reduce heat and simmer for 4-6 hours', 'during the last hour of cooking , add a little salt to taste']   \n",
      "...                                                                                                                                                                                                                                                                                                                                                                                                                                                                                                                                                                                                                                                                                                                                                                                                                                                                                                                                                                                                                                                  ...   \n",
      "231534                                                                                                                                                                                                                                                                                                                                                                                                                                                                                                                           ['prepare pasta according to package directions', 'in a large skillet cook bacon over medium heat until crisp', 'remove bacon to drain on paper towel lined plate', 'discard all but 2 tablespoons of drippings', 'saute onion and garlic in bacon drippings for about 3 minutes or until tender', 'add zucchini and salt', 'saute about 6 minutes or until tender', 'drain pasta and add to zucchini mixture', 'add lemon juice and bacon', 'toss well', 'pour into a serving bowl and sprinkle with parmesan cheese']   \n",
      "231549                                                                                                                                                                                           ['grease a 13 x 9-inch baking dish', 'in a skillet cook the sausage meat until no longer pink', 'drain fat', 'add in the onions , garlic , zucchini', 'sate until the veggies are tender season the mixture with seasoned salt or white salt and black pepper', 'add in the chopped roasted red bell peppers', 'cool slightly', 'spread about 4 cups bread cubes in the greased baking dish', 'top with half of the sausage mixture then half of the shredded cheese', 'repeat with remaining bread cubes , then remaining sausage and then remaining cheddar cheese', 'in a bowl whisk together eggs with half and half cream', 'pour the egg mixture over the casserole', 'cover and chill for 8 hours', 'before baking sprinkle grated parmesan cheese on top', 'bake covered in a 325 degree oven for about 50-60 minutes or until hot and bubbly']   \n",
      "231554                                                                                                                                                                            ['preheat the oven to 350f', 'in a medium bowl , whisk together the eggs , parmesan cheese , salt , pepper and chives', 'set aside', 'in a 10-inch ovenproof non-stick skillet , heat 1 tablespoon of oil over medium heat', 'cook half the zucchini slices until tender , about 3 minutes , then move them to a small bowl', 'repeat with the rest of the zucchini and reserve', 'add the remaining tablespoon of oil to the skillet and cook the onions , tomato and garlic for 5 minutes , or until the onions are tender', 'return the zucchini to the skillet , evenly distributing it', 'add the egg mixture , and cook for 3 minutes , or until the bottom of the frittata is just set', 'place the frittata in the oven and bake for 12 to 15 minutes , or until it is completely set and golden brown', 'invert it onto a plate , cut into slices and serve']   \n",
      "231573  ['wash and trim the zucchini , then slice them one-sixteenth-inch thick', 'a mandoline works best', 'slice the onion very thin as well', 'combine the zucchini and onions in a large but shallow nonreactive bowl , add the salt and toss to distribute', 'add a few ice cubes and cold water to cover , then stir to dissolve the salt', 'after about 1 hour , taste and feel a piece of zucchini -- it should be slightly softened', 'drain and pat dry', 'combine the vinegar , sugar , dry mustard , mustard seeds and turmeric in a small saucepan and simmer for 3 minutes', 'set aside until just warm to the touch', 'return the zucchini to a dry bowl and pour over the cooled brine', 'stir to distribute the spices', 'transfer the pickle to jars , preferably ones that have \"shoulders\" to hold the zucchini and onions beneath the surface of the brine', 'seal tightly and refrigerate for at least a day before serving to allow the flavors to mellow and permeate the zucchini , turning them a brilliant chartreuse color']   \n",
      "231603                                                                                                                                                                                                                                                                                        ['add the yeast to one cup of the scalded , cooled milk to proof', 'mix the butter , sugar , salt and flour together', 'beat the egg and add to the remaining milk', 'make a well in the center of the flour mixture and add the milk / egg mixture', 'mix well', 'add milk / yeast mixture', 'mix well', 'turn out of bowl and knead until no longer sticky', 'replace in bowl , cover , and let rise until doubled', 'punch down and let rise again until doubled', 'while dough is rising for the second time , preheat oven to 375f', 'form into loaves on a greased cookie sheet', 'bake for approximately 35 minutes or bread sounds hollow when thumped', 'during the last ten minutes of baking , brush with an egg wash for a dark golden crust']   \n",
      "\n",
      "                                                                                                                                                                                                                                                                                                                                                                                                                                                      description  \\\n",
      "5                                                                                                                                                                                                                                                                                                                                                                                                                                                             NaN   \n",
      "8                                                                                                                                                                                                                                                                                                                                                                                                                                                             NaN   \n",
      "11                                                                                                                                                          simple but sexy. this was in my local newspaper's food section. cook time reflects refrigeration time.  i've been asked several times if this should be baked.  just to clarify, no, it is not, it is a refrigerator dessert. i'm not sure why it contains raw egg, but most tiramisu recipes do too.   \n",
      "12                                                                                                                                                                                                                                          i'd have to say that this is a labor of love dish, but i give you my word that this recipe is better than bush's. enjoy! oh, and also this recipe is easily doubled. in fact, i think it turns out better when it is.   \n",
      "13                                                                                                                                                                                                                                                                                                                                                                            my boss gave me this recipe several years ago. the recipe supposedly came from the    \n",
      "...                                                                                                                                                                                                                                                                                                                                                                                                                                                           ...   \n",
      "231534                                                                                                                                                                                                                                                                                                                                                                                                                                                        NaN   \n",
      "231549  you can prepare this casserole the night before and bake it the following morning, or prepare it in the morning to have for dinner! you can really use any amount of cheeses for this recipe, and you can increase the amount of sausage also, small pork breakfast sausages can be used in place of italian sausage, you won't have to remove them from the casings, just cook them and then crumble.... this casserole is worth making, it's delicious!   \n",
      "231554                                                                                                                                                                                                                                                                                                                                                                                                                                                        NaN   \n",
      "231573                                                                                                                                             refrigerator pickles for some of the zucchini bounty i am anticipating from second planting of zukes. note - this is a refrigerator pickle recipe - not intended for canning & storing in the pantry.\\r\\n\\r\\nadapted from judy rodgers' \"the zuni café cookbook\" nabbed from the la times food & drink weekly.   \n",
      "231603                                                                                                                                                                                                                                                                                                                                                                                                        not bread alone, 1st baptist church rochester, 1999   \n",
      "\n",
      "                                                                                                                                                                                                           ingredients  \\\n",
      "5                                                                                                                                             ['milk', 'vanilla ice cream', 'frozen apple juice concentrate', 'apple']   \n",
      "8                                                                                     ['chocolate sandwich style cookies', 'chocolate syrup', 'vanilla ice cream', 'bananas', 'strawberry ice cream', 'whipped cream']   \n",
      "11                                                                                                                   ['vanilla wafers', 'butter', 'powdered sugar', 'eggs', 'whipping cream', 'strawberry', 'walnuts']   \n",
      "12               ['great northern bean', 'chicken bouillon cubes', 'dark brown sugar', 'molasses', 'cornstarch', 'onion', 'garlic powder', 'mustard powder', 'chili powder', 'salt', 'black pepper', 'bacon', 'water']   \n",
      "13                                                                                                                           ['collard greens', 'brown sugar', 'molasses', 'hot sauce', 'whiskey', 'ham hock', 'salt']   \n",
      "...                                                                                                                                                                                                                ...   \n",
      "231534                                                                                                      ['wagon wheel macaroni', 'bacon', 'onion', 'garlic', 'zucchini', 'salt', 'lemon juice', 'parmesan cheese']   \n",
      "231549  ['italian sausages', 'green onions', 'fresh garlic', 'zucchini', 'roasted red peppers', 'seasoning salt', 'black pepper', 'italian bread', 'cheddar cheese', 'eggs', 'half-and-half cream', 'parmesan cheese']   \n",
      "231554                                                               ['eggs', 'parmesan cheese', 'salt', 'ground black pepper', 'chives', 'extra virgin olive oil', 'zucchini', 'vidalia onion', 'tomatoes', 'garlic']   \n",
      "231573                                                                                               ['zucchini', 'yellow onion', 'kosher salt', 'cider vinegar', 'sugar', 'dry mustard', 'mustard seeds', 'turmeric']   \n",
      "231603                                                                                                                                                    ['flour', 'butter', 'milk', 'salt', 'sugar', 'yeast', 'egg']   \n",
      "\n",
      "        n_ingredients time_interval  \n",
      "5                   4           NaN  \n",
      "8                   6       151-180  \n",
      "11                  7           NaN  \n",
      "12                 13           NaN  \n",
      "13                  7           NaN  \n",
      "...               ...           ...  \n",
      "231534              8         31-60  \n",
      "231549             12           NaN  \n",
      "231554             10         31-60  \n",
      "231573              8           NaN  \n",
      "231603              7           NaN  \n",
      "\n",
      "[18132 rows x 13 columns]\n"
     ]
    }
   ],
   "source": [
    "# Create a DataFrame of the rows with at least one missing value\n",
    "df_na = Raw_recipes[Raw_recipes.isna().any(axis=1)]\n",
    "\n",
    "# Now you can inspect the rows that will be dropped\n",
    "print(df_na)"
   ]
  },
  {
   "cell_type": "markdown",
   "id": "653803ab-d0e7-4ff6-807c-304f084251e8",
   "metadata": {},
   "source": [
    "Na's are in the 'description' column which isn't too alarming, but when I see it in the 'time interval' column - that makes one indication that even though it appears to have complete values in the tags column; that is not the case.\n",
    "\n",
    "To avoid further interruptions towards completing our goal lets continue by removing these columns - once the data is cleaned we now should start to add the features we were originally discussing.  Nutrition and ingredients."
   ]
  },
  {
   "cell_type": "code",
   "execution_count": 100,
   "id": "2c3d564c-53a7-4ea8-9249-f65d29ce1af3",
   "metadata": {},
   "outputs": [],
   "source": [
    "#Reset index\n",
    "df_r2 = df_r.reset_index(drop=True)\n",
    "#Split the nutrition values in to each column\n",
    "Nutri_Cols = pd.DataFrame(df_r2['nutrition'].str.strip('[]').str.replace(',', '').str.split().to_list())"
   ]
  },
  {
   "cell_type": "markdown",
   "id": "fc6fe5dd-cfb1-4d8b-8280-3182b0b6d76a",
   "metadata": {},
   "source": [
    "Setting up the nutrition table and providing column names for each numeric value - provided the originators."
   ]
  },
  {
   "cell_type": "code",
   "execution_count": 101,
   "id": "29c12749-f2a5-4661-8b61-1c12beed31fe",
   "metadata": {},
   "outputs": [
    {
     "data": {
      "text/html": [
       "<div>\n",
       "<style scoped>\n",
       "    .dataframe tbody tr th:only-of-type {\n",
       "        vertical-align: middle;\n",
       "    }\n",
       "\n",
       "    .dataframe tbody tr th {\n",
       "        vertical-align: top;\n",
       "    }\n",
       "\n",
       "    .dataframe thead th {\n",
       "        text-align: right;\n",
       "    }\n",
       "</style>\n",
       "<table border=\"1\" class=\"dataframe\">\n",
       "  <thead>\n",
       "    <tr style=\"text-align: right;\">\n",
       "      <th></th>\n",
       "      <th>Calories (#)</th>\n",
       "      <th>Total Fat (PDV)</th>\n",
       "      <th>Sugar (PDV)</th>\n",
       "      <th>Sodium (PDV)</th>\n",
       "      <th>Protein (PDV)</th>\n",
       "      <th>Saturated Fat</th>\n",
       "      <th>Carbohydrates (PDV)</th>\n",
       "    </tr>\n",
       "  </thead>\n",
       "  <tbody>\n",
       "    <tr>\n",
       "      <th>0</th>\n",
       "      <td>51.5</td>\n",
       "      <td>0.0</td>\n",
       "      <td>13.0</td>\n",
       "      <td>0.0</td>\n",
       "      <td>2.0</td>\n",
       "      <td>0.0</td>\n",
       "      <td>4.0</td>\n",
       "    </tr>\n",
       "    <tr>\n",
       "      <th>1</th>\n",
       "      <td>173.4</td>\n",
       "      <td>18.0</td>\n",
       "      <td>0.0</td>\n",
       "      <td>17.0</td>\n",
       "      <td>22.0</td>\n",
       "      <td>35.0</td>\n",
       "      <td>1.0</td>\n",
       "    </tr>\n",
       "    <tr>\n",
       "      <th>2</th>\n",
       "      <td>269.8</td>\n",
       "      <td>22.0</td>\n",
       "      <td>32.0</td>\n",
       "      <td>48.0</td>\n",
       "      <td>39.0</td>\n",
       "      <td>27.0</td>\n",
       "      <td>5.0</td>\n",
       "    </tr>\n",
       "    <tr>\n",
       "      <th>3</th>\n",
       "      <td>368.1</td>\n",
       "      <td>17.0</td>\n",
       "      <td>10.0</td>\n",
       "      <td>2.0</td>\n",
       "      <td>14.0</td>\n",
       "      <td>8.0</td>\n",
       "      <td>20.0</td>\n",
       "    </tr>\n",
       "    <tr>\n",
       "      <th>4</th>\n",
       "      <td>352.9</td>\n",
       "      <td>1.0</td>\n",
       "      <td>337.0</td>\n",
       "      <td>23.0</td>\n",
       "      <td>3.0</td>\n",
       "      <td>0.0</td>\n",
       "      <td>28.0</td>\n",
       "    </tr>\n",
       "  </tbody>\n",
       "</table>\n",
       "</div>"
      ],
      "text/plain": [
       "  Calories (#) Total Fat (PDV) Sugar (PDV) Sodium (PDV) Protein (PDV)  \\\n",
       "0         51.5             0.0        13.0          0.0           2.0   \n",
       "1        173.4            18.0         0.0         17.0          22.0   \n",
       "2        269.8            22.0        32.0         48.0          39.0   \n",
       "3        368.1            17.0        10.0          2.0          14.0   \n",
       "4        352.9             1.0       337.0         23.0           3.0   \n",
       "\n",
       "  Saturated Fat Carbohydrates (PDV)  \n",
       "0           0.0                 4.0  \n",
       "1          35.0                 1.0  \n",
       "2          27.0                 5.0  \n",
       "3           8.0                20.0  \n",
       "4           0.0                28.0  "
      ]
     },
     "execution_count": 101,
     "metadata": {},
     "output_type": "execute_result"
    }
   ],
   "source": [
    "#Create column names for each nutrition value\n",
    "Nutri_Cols.columns = ['Calories (#)', 'Total Fat (PDV)', 'Sugar (PDV)', 'Sodium (PDV)', 'Protein (PDV)', 'Saturated Fat', 'Carbohydrates (PDV)'] \n",
    "#Show the nutrition dataset\n",
    "Nutri_Cols.head(5)\n"
   ]
  },
  {
   "cell_type": "markdown",
   "id": "51f16c60-4a50-43c2-9ae4-1578f01bceee",
   "metadata": {},
   "source": [
    "Combining the dataset and droping the original nutrition column since that does not provide anymore value."
   ]
  },
  {
   "cell_type": "code",
   "execution_count": 104,
   "id": "78bc06d4-1878-4778-b7ec-c37f166cdde0",
   "metadata": {},
   "outputs": [],
   "source": [
    "#dropping the original column nutrition\n",
    "c = Raw_recipes.drop(columns = ['nutrition'])\n",
    "\n",
    "#combining the nutrition table back to the main database\n",
    "b = c.join(Nutri_Cols)"
   ]
  },
  {
   "cell_type": "code",
   "execution_count": 112,
   "id": "482f1646-002e-4f09-be8d-40002d452653",
   "metadata": {
    "tags": []
   },
   "outputs": [
    {
     "data": {
      "text/plain": [
       "name                     object\n",
       "id                        int64\n",
       "minutes                   int64\n",
       "contributor_id            int64\n",
       "submitted                object\n",
       "tags                     object\n",
       "n_steps                   int64\n",
       "steps                    object\n",
       "description              object\n",
       "ingredients              object\n",
       "n_ingredients             int64\n",
       "time_interval          category\n",
       "Calories (#)             object\n",
       "Total Fat (PDV)          object\n",
       "Sugar (PDV)              object\n",
       "Sodium (PDV)             object\n",
       "Protein (PDV)            object\n",
       "Saturated Fat            object\n",
       "Carbohydrates (PDV)      object\n",
       "dtype: object"
      ]
     },
     "execution_count": 112,
     "metadata": {},
     "output_type": "execute_result"
    }
   ],
   "source": [
    "#sanity check to see if the numerical values are read as number types\n",
    "b.dtypes"
   ]
  },
  {
   "cell_type": "code",
   "execution_count": 113,
   "id": "b31f4258-d5f0-4cf0-b23d-4f6e4e3b4e15",
   "metadata": {},
   "outputs": [],
   "source": [
    "# Convert columns to 'int64', invalid parsing will be set as NaN\n",
    "b['Calories (#)'] = pd.to_numeric(b['Calories (#)'], errors='coerce').astype('float64')\n",
    "b['Total Fat (PDV)'] = pd.to_numeric(b['Total Fat (PDV)'], errors='coerce').astype('float64')\n",
    "b['Sugar (PDV)'] = pd.to_numeric(b['Sugar (PDV)'], errors='coerce').astype('float64')\n",
    "b['Sodium (PDV)'] = pd.to_numeric(b['Sodium (PDV)'], errors='coerce').astype('float64')\n",
    "b['Protein (PDV)'] = pd.to_numeric(b['Protein (PDV)'], errors='coerce').astype('float64')\n",
    "b['Saturated Fat'] = pd.to_numeric(b['Saturated Fat'], errors='coerce').astype('float64')\n"
   ]
  },
  {
   "cell_type": "code",
   "execution_count": 118,
   "id": "6c6961a6-d46f-46ec-acfc-27daa32e101f",
   "metadata": {},
   "outputs": [
    {
     "data": {
      "text/plain": [
       "name                     object\n",
       "id                        int64\n",
       "minutes                   int64\n",
       "contributor_id            int64\n",
       "submitted                object\n",
       "tags                     object\n",
       "n_steps                   int64\n",
       "steps                    object\n",
       "description              object\n",
       "ingredients              object\n",
       "n_ingredients             int64\n",
       "time_interval          category\n",
       "Calories (#)            float64\n",
       "Total Fat (PDV)         float64\n",
       "Sugar (PDV)             float64\n",
       "Sodium (PDV)            float64\n",
       "Protein (PDV)           float64\n",
       "Saturated Fat           float64\n",
       "Carbohydrates (PDV)      object\n",
       "dtype: object"
      ]
     },
     "execution_count": 118,
     "metadata": {},
     "output_type": "execute_result"
    }
   ],
   "source": [
    "#2nd sanity check\n",
    "b.dtypes"
   ]
  },
  {
   "cell_type": "code",
   "execution_count": 127,
   "id": "28a4dc37-40f6-43db-aa5f-ce6fc0d88074",
   "metadata": {},
   "outputs": [
    {
     "data": {
      "text/plain": [
       "(231637, 19)"
      ]
     },
     "execution_count": 127,
     "metadata": {},
     "output_type": "execute_result"
    }
   ],
   "source": [
    "#Show shape of current dataset\n",
    "b.shape"
   ]
  },
  {
   "cell_type": "code",
   "execution_count": 130,
   "id": "675ce72d-c704-4261-9be2-5cb259614a7e",
   "metadata": {},
   "outputs": [
    {
     "name": "stdout",
     "output_type": "stream",
     "text": [
      "name                       1\n",
      "id                         0\n",
      "minutes                    0\n",
      "contributor_id             0\n",
      "submitted                  0\n",
      "tags                       0\n",
      "n_steps                    0\n",
      "steps                      0\n",
      "description             4979\n",
      "ingredients                0\n",
      "n_ingredients              0\n",
      "time_interval          14063\n",
      "Calories (#)           19438\n",
      "Total Fat (PDV)        19438\n",
      "Sugar (PDV)            19438\n",
      "Sodium (PDV)           19438\n",
      "Protein (PDV)          19438\n",
      "Saturated Fat          19438\n",
      "Carbohydrates (PDV)    19438\n",
      "dtype: int64\n"
     ]
    }
   ],
   "source": [
    "#counting if na's still exist in the data\n",
    "na_count = b.isna().sum()\n",
    "print(na_count)\n",
    "\n",
    "#let's drop the time interval column as this may not reflect the na's in the our feature extractions with nutrition column\n",
    "g = b.drop(columns = ['time_interval'])"
   ]
  },
  {
   "cell_type": "markdown",
   "id": "4c2557f6-f614-4b0b-bd81-5bf6b55f9ef4",
   "metadata": {},
   "source": [
    "**Nutrition EDA - viewing the nutrition by Calorie, Total Fat, Sugar and Protein**"
   ]
  },
  {
   "cell_type": "code",
   "execution_count": 136,
   "id": "35629e6d-bc86-4c48-b300-354f748fe689",
   "metadata": {},
   "outputs": [
    {
     "data": {
      "image/png": "[encoded data removed]",
      "text/plain": [
       "<Figure size 720x360 with 1 Axes>"
      ]
     },
     "metadata": {
      "needs_background": "light"
     },
     "output_type": "display_data"
    }
   ],
   "source": [
    "# Sort the DataFrame by 'Calories (#)' in descending order and select top 10\n",
    "top_calories = b.sort_values('Calories (#)', ascending=False).head(10)\n",
    "\n",
    "# Plot\n",
    "plt.figure(figsize=(10, 5))\n",
    "plt.barh(top_calories['name'], top_calories['Calories (#)'], color='skyblue')\n",
    "plt.xlabel('Calories (#)')\n",
    "plt.title('Top 10 Recipes with the Most Calories')\n",
    "plt.gca().invert_yaxis()  # to have the recipe with the most calories on top\n",
    "plt.show()\n"
   ]
  },
  {
   "cell_type": "code",
   "execution_count": 132,
   "id": "db5606a1-1bc9-465c-b653-693907dd257d",
   "metadata": {},
   "outputs": [
    {
     "data": {
      "image/png": "[encoded data removed]",
      "text/plain": [
       "<Figure size 720x360 with 1 Axes>"
      ]
     },
     "metadata": {
      "needs_background": "light"
     },
     "output_type": "display_data"
    },
    {
     "data": {
      "image/png": "[encoded data removed]",
      "text/plain": [
       "<Figure size 720x360 with 1 Axes>"
      ]
     },
     "metadata": {
      "needs_background": "light"
     },
     "output_type": "display_data"
    },
    {
     "data": {
      "image/png": "[encoded data removed]",
      "text/plain": [
       "<Figure size 720x360 with 1 Axes>"
      ]
     },
     "metadata": {
      "needs_background": "light"
     },
     "output_type": "display_data"
    }
   ],
   "source": [
    "# Sort the DataFrame by 'Total Fat (PDV)' in descending order and select top 10\n",
    "top_fat = b[b['Total Fat (PDV)'] > 0].sort_values('Total Fat (PDV)', ascending=False).head(10)\n",
    "\n",
    "# Plot\n",
    "plt.figure(figsize=(10, 5))\n",
    "plt.barh(top_fat['name'], top_fat['Total Fat (PDV)'], color='skyblue')\n",
    "plt.xlabel('Total Fat (PDV)')\n",
    "plt.title('Top 10 Recipes with the Most Total Fat')\n",
    "plt.gca().invert_yaxis()\n",
    "plt.show()\n",
    "\n",
    "# Sort the DataFrame by 'Sugar (PDV)' in descending order and select top 10\n",
    "top_sugar = b[b['Sugar (PDV)'] > 0].sort_values('Sugar (PDV)', ascending=False).head(10)\n",
    "\n",
    "# Plot\n",
    "plt.figure(figsize=(10, 5))\n",
    "plt.barh(top_sugar['name'], top_sugar['Sugar (PDV)'], color='skyblue')\n",
    "plt.xlabel('Sugar (PDV)')\n",
    "plt.title('Top 10 Recipes with the Most Sugar')\n",
    "plt.gca().invert_yaxis()\n",
    "plt.show()\n",
    "\n",
    "# Sort the DataFrame by 'Protein (PDV)' in descending order and select top 10\n",
    "top_protein = b[b['Protein (PDV)'] > 0].sort_values('Protein (PDV)', ascending=False).head(10)\n",
    "\n",
    "# Plot\n",
    "plt.figure(figsize=(10, 5))\n",
    "plt.barh(top_protein['name'], top_protein['Protein (PDV)'], color='skyblue')\n",
    "plt.xlabel('Protein (PDV)')\n",
    "plt.title('Top 10 Recipes with the Most Protein')\n",
    "plt.gca().invert_yaxis()\n",
    "plt.show()\n"
   ]
  },
  {
   "cell_type": "markdown",
   "id": "ae900063-3650-495b-9959-e8fa0414741b",
   "metadata": {},
   "source": [
    "There is a ton of exploration in this space that helps to better recommend recipes that are tailored to each individual users preference.  For the case of more complex solutions we will dive deeper into **next steps** portion.\n",
    "\n",
    "\n",
    "**Some interesting findings here:**\n",
    "\n",
    "*Calories* - marinated steaks with tangy butter, rainbow squares, cheesy rolls to have with soup or snack, breakfast sausages, chocolate rice\n",
    "\n",
    "*Total Fat* - creamy ruben soup, scallops with ginger, pumpkin tortilla soup, chocolate dipped bananas\n",
    "\n",
    "*Most Sugar* - sour cream cinnamon cupcakes, green chilli cheesy rice, loco moco maui style, oysters oceania.\n",
    "\n",
    "*Protein* - scallops with ginger, pumpkin tortilla soup perfection, slow cooker roast beef and how cinnamon bun having 40k+ calories. \n",
    "\n",
    "\n",
    "\n",
    "**Some surprising finds were** - almond roca having more protein than custards, and pumpkin tortilla soup having more protein than roast beef."
   ]
  },
  {
   "cell_type": "markdown",
   "id": "88651d46-b93e-4a4e-99af-4a00dad32226",
   "metadata": {},
   "source": [
    "**Extra EDA:** What are the bottom 10 for *Calories, Total Fat, Sugar & Protein?*"
   ]
  },
  {
   "cell_type": "code",
   "execution_count": 133,
   "id": "b1337aa3-47a8-4c86-a392-ad8e06670126",
   "metadata": {
    "tags": []
   },
   "outputs": [
    {
     "data": {
      "image/png": "[encoded data removed]",
      "text/plain": [
       "<Figure size 720x360 with 1 Axes>"
      ]
     },
     "metadata": {
      "needs_background": "light"
     },
     "output_type": "display_data"
    },
    {
     "data": {
      "image/png": "[encoded data removed]",
      "text/plain": [
       "<Figure size 720x360 with 1 Axes>"
      ]
     },
     "metadata": {
      "needs_background": "light"
     },
     "output_type": "display_data"
    },
    {
     "data": {
      "image/png": "[encoded data removed]",
      "text/plain": [
       "<Figure size 720x360 with 1 Axes>"
      ]
     },
     "metadata": {
      "needs_background": "light"
     },
     "output_type": "display_data"
    },
    {
     "data": {
      "image/png": "[encoded data removed]",
      "text/plain": [
       "<Figure size 720x360 with 1 Axes>"
      ]
     },
     "metadata": {
      "needs_background": "light"
     },
     "output_type": "display_data"
    }
   ],
   "source": [
    "# Sort the DataFrame by 'Total Fat (PDV)' in ascending order and select bottom 10\n",
    "bottom_fat = b[b['Total Fat (PDV)'] > 0].sort_values('Total Fat (PDV)', ascending=True).head(10)\n",
    "\n",
    "# Plot\n",
    "plt.figure(figsize=(10, 5))\n",
    "plt.barh(bottom_fat['name'], bottom_fat['Total Fat (PDV)'], color='skyblue')\n",
    "plt.xlabel('Total Fat (PDV)')\n",
    "plt.title('Top 10 Recipes with the Least Total Fat')\n",
    "plt.gca().invert_yaxis()\n",
    "plt.show()\n",
    "\n",
    "# Sort the DataFrame by 'Sugar (PDV)' in ascending order and select bottom 10\n",
    "bottom_sugar = b[b['Sugar (PDV)'] > 0].sort_values('Sugar (PDV)', ascending=True).head(10)\n",
    "\n",
    "# Plot\n",
    "plt.figure(figsize=(10, 5))\n",
    "plt.barh(bottom_sugar['name'], bottom_sugar['Sugar (PDV)'], color='skyblue')\n",
    "plt.xlabel('Sugar (PDV)')\n",
    "plt.title('Top 10 Recipes with the Least Sugar')\n",
    "plt.gca().invert_yaxis()\n",
    "plt.show()\n",
    "\n",
    "# Sort the DataFrame by 'Protein (PDV)' in ascending order and select bottom 10\n",
    "bottom_protein = b[b['Protein (PDV)'] > 0].sort_values('Protein (PDV)', ascending=True).head(10)\n",
    "\n",
    "# Plot\n",
    "plt.figure(figsize=(10, 5))\n",
    "plt.barh(bottom_protein['name'], bottom_protein['Protein (PDV)'], color='skyblue')\n",
    "plt.xlabel('Protein (PDV)')\n",
    "plt.title('Top 10 Recipes with the Least Protein')\n",
    "plt.gca().invert_yaxis()\n",
    "plt.show()\n",
    "\n",
    "# Sort the DataFrame by 'Calories (#)' in ascending order and select bottom 10\n",
    "bottom_calories = b.sort_values('Calories (#)', ascending=True).head(10)\n",
    "\n",
    "# Plot\n",
    "plt.figure(figsize=(10, 5))\n",
    "plt.barh(bottom_calories['name'], bottom_calories['Calories (#)'], color='skyblue')\n",
    "plt.xlabel('Calories (#)')\n",
    "plt.title('Top 10 Recipes with the Least Calories')\n",
    "plt.gca().invert_yaxis()  \n",
    "plt.show()\n"
   ]
  },
  {
   "cell_type": "markdown",
   "id": "9bb0a6c0-4777-4f08-b6f2-5d16306a6747",
   "metadata": {},
   "source": [
    "This is why exploration deserves more credit: for example this 'top 10 recipes with the least calories' visual - shows empty values.  *grilled skewered Beef* definitely has calories. "
   ]
  },
  {
   "cell_type": "code",
   "execution_count": 134,
   "id": "ec52c9cd-c3b4-41dc-8247-9377403e80fa",
   "metadata": {},
   "outputs": [],
   "source": [
    "#using another drop na to drop any missing/nan values\n",
    "recipe_clean = g.dropna()"
   ]
  },
  {
   "cell_type": "code",
   "execution_count": 135,
   "id": "d3ff6f06-52e6-4b0c-a1d2-d05c7d2cb662",
   "metadata": {},
   "outputs": [
    {
     "data": {
      "text/plain": [
       "(207619, 18)"
      ]
     },
     "execution_count": 135,
     "metadata": {},
     "output_type": "execute_result"
    }
   ],
   "source": [
    "#seeing how many dropped and making sure we dropped the correct values\n",
    "recipe_clean.shape"
   ]
  },
  {
   "cell_type": "markdown",
   "id": "8857b32c-c0c2-48ab-aadf-83d080ba8295",
   "metadata": {},
   "source": [
    "24k were further dropped and this is very possible with the calories chart above showing zero calories towards some recipes when we know are full of calories."
   ]
  },
  {
   "cell_type": "markdown",
   "id": "190ec2e4-fdf8-4088-930f-671ffbae9caf",
   "metadata": {},
   "source": [
    "## User Interactions"
   ]
  },
  {
   "cell_type": "markdown",
   "id": "535212c3-fd73-4f5c-bae2-373da9e37e88",
   "metadata": {},
   "source": [
    "Before further EDA Let's combine the user interactions dataset.  Let's drop na's and any other issues we see within the data set."
   ]
  },
  {
   "cell_type": "code",
   "execution_count": 120,
   "id": "2ed89080-fb15-451a-8ed7-2e0840596ceb",
   "metadata": {},
   "outputs": [
    {
     "data": {
      "text/plain": [
       "(1132367, 5)"
      ]
     },
     "execution_count": 120,
     "metadata": {},
     "output_type": "execute_result"
    }
   ],
   "source": [
    "#Raw user interactions data set\n",
    "Raw_ints.head(5)\n",
    "Raw_ints.shape"
   ]
  },
  {
   "cell_type": "code",
   "execution_count": 121,
   "id": "8e3ae7bd-7654-4d09-bab6-3cc576badb45",
   "metadata": {},
   "outputs": [
    {
     "data": {
      "text/plain": [
       "(1125283, 5)"
      ]
     },
     "execution_count": 121,
     "metadata": {},
     "output_type": "execute_result"
    }
   ],
   "source": [
    "#drop duplicates \n",
    "df_int = Raw_ints.drop_duplicates('review')\n",
    "df_int.shape"
   ]
  },
  {
   "cell_type": "markdown",
   "id": "a75aa705-3112-4a2c-9efc-e92e1de223f1",
   "metadata": {},
   "source": [
    "70084 are now dropped from using drop duplicates function."
   ]
  },
  {
   "cell_type": "markdown",
   "id": "a96f499c-ee67-40e8-bcce-5e4c3d843543",
   "metadata": {},
   "source": [
    "Of all the columns to drop duplicates, reviews would be the first.  We are not looking for auto-generated reviews or the same type of review for a different product that may also not be considered a valuable review.\n",
    "\n",
    "\n",
    "These decisions are very subjective but these tough calls must be made inorder to move towards a recommendation on only the data we can ensure is quality.  The remaining must be further vetted."
   ]
  },
  {
   "cell_type": "code",
   "execution_count": 122,
   "id": "61629efb-fe46-41a3-8b28-cefbde39d471",
   "metadata": {},
   "outputs": [
    {
     "data": {
      "text/plain": [
       "(1125282, 5)"
      ]
     },
     "execution_count": 122,
     "metadata": {},
     "output_type": "execute_result"
    }
   ],
   "source": [
    "#drop Na's\n",
    "df_int = df_int.dropna()\n",
    "df_int.shape"
   ]
  },
  {
   "cell_type": "markdown",
   "id": "4426ba3c-0dd6-4cde-9524-87287de8dbd1",
   "metadata": {},
   "source": [
    "1 was dropped that has Na - this could have been the extra empty row."
   ]
  },
  {
   "cell_type": "code",
   "execution_count": 138,
   "id": "9eb75d94-2488-46d1-9994-d9c556bf4636",
   "metadata": {},
   "outputs": [
    {
     "data": {
      "text/html": [
       "<div>\n",
       "<style scoped>\n",
       "    .dataframe tbody tr th:only-of-type {\n",
       "        vertical-align: middle;\n",
       "    }\n",
       "\n",
       "    .dataframe tbody tr th {\n",
       "        vertical-align: top;\n",
       "    }\n",
       "\n",
       "    .dataframe thead th {\n",
       "        text-align: right;\n",
       "    }\n",
       "</style>\n",
       "<table border=\"1\" class=\"dataframe\">\n",
       "  <thead>\n",
       "    <tr style=\"text-align: right;\">\n",
       "      <th></th>\n",
       "      <th>user_id</th>\n",
       "      <th>recipe_id</th>\n",
       "      <th>date</th>\n",
       "      <th>rating</th>\n",
       "      <th>review</th>\n",
       "    </tr>\n",
       "  </thead>\n",
       "  <tbody>\n",
       "    <tr>\n",
       "      <th>0</th>\n",
       "      <td>38094</td>\n",
       "      <td>40893</td>\n",
       "      <td>2003-02-17</td>\n",
       "      <td>4</td>\n",
       "      <td>Great with a salad. Cooked on top of stove for 15 minutes.Added a shake of cayenne and a pinch of salt.  Used low fat sour cream.  Thanks.</td>\n",
       "    </tr>\n",
       "    <tr>\n",
       "      <th>1</th>\n",
       "      <td>1293707</td>\n",
       "      <td>40893</td>\n",
       "      <td>2011-12-21</td>\n",
       "      <td>5</td>\n",
       "      <td>So simple, so delicious! Great for chilly fall evening. Should have doubled it ;)&lt;br/&gt;&lt;br/&gt;Second time around, forgot the remaining cumin. We usually love cumin, but didn't notice the missing 1/2 teaspoon!</td>\n",
       "    </tr>\n",
       "    <tr>\n",
       "      <th>2</th>\n",
       "      <td>8937</td>\n",
       "      <td>44394</td>\n",
       "      <td>2002-12-01</td>\n",
       "      <td>4</td>\n",
       "      <td>This worked very well and is EASY.  I used not quite a whole package (10oz) of white chips.  Great!</td>\n",
       "    </tr>\n",
       "    <tr>\n",
       "      <th>3</th>\n",
       "      <td>126440</td>\n",
       "      <td>85009</td>\n",
       "      <td>2010-02-27</td>\n",
       "      <td>5</td>\n",
       "      <td>I made the Mexican topping and took it to bunko.  Everyone loved it.</td>\n",
       "    </tr>\n",
       "    <tr>\n",
       "      <th>4</th>\n",
       "      <td>57222</td>\n",
       "      <td>85009</td>\n",
       "      <td>2011-10-01</td>\n",
       "      <td>5</td>\n",
       "      <td>Made the cheddar bacon topping, adding a sprinkling of black pepper. Yum!</td>\n",
       "    </tr>\n",
       "  </tbody>\n",
       "</table>\n",
       "</div>"
      ],
      "text/plain": [
       "   user_id  recipe_id        date  rating  \\\n",
       "0    38094      40893  2003-02-17       4   \n",
       "1  1293707      40893  2011-12-21       5   \n",
       "2     8937      44394  2002-12-01       4   \n",
       "3   126440      85009  2010-02-27       5   \n",
       "4    57222      85009  2011-10-01       5   \n",
       "\n",
       "                                                                                                                                                                                                          review  \n",
       "0                                                                     Great with a salad. Cooked on top of stove for 15 minutes.Added a shake of cayenne and a pinch of salt.  Used low fat sour cream.  Thanks.  \n",
       "1  So simple, so delicious! Great for chilly fall evening. Should have doubled it ;)<br/><br/>Second time around, forgot the remaining cumin. We usually love cumin, but didn't notice the missing 1/2 teaspoon!  \n",
       "2                                                                                                            This worked very well and is EASY.  I used not quite a whole package (10oz) of white chips.  Great!  \n",
       "3                                                                                                                                           I made the Mexican topping and took it to bunko.  Everyone loved it.  \n",
       "4                                                                                                                                      Made the cheddar bacon topping, adding a sprinkling of black pepper. Yum!  "
      ]
     },
     "execution_count": 138,
     "metadata": {},
     "output_type": "execute_result"
    }
   ],
   "source": [
    "df_int2 = df_int.reset_index(drop=True)\n",
    "df_int2.head(5)"
   ]
  },
  {
   "cell_type": "markdown",
   "id": "7ae32937-5ed1-4ab9-9e52-0ff0850ce919",
   "metadata": {},
   "source": [
    "I want to rename the dataset before completing the merge to avoid any errors."
   ]
  },
  {
   "cell_type": "code",
   "execution_count": 141,
   "id": "ed1eef99-fd1f-401f-987d-d60ada514204",
   "metadata": {},
   "outputs": [],
   "source": [
    "#Rename Columns\n",
    "df_int2.columns = ['user', 'id', 'date', 'rate', 'rev']"
   ]
  },
  {
   "cell_type": "markdown",
   "id": "dfbfb764-f809-4105-9912-95a924c70f81",
   "metadata": {},
   "source": [
    "I'm merging with the dataset - using 'inner' method and combining it on the id.\n",
    "\n",
    "\n",
    "*Note: in the above cell I changed the recipe id = id for that this extact reason*"
   ]
  },
  {
   "cell_type": "code",
   "execution_count": 142,
   "id": "4f397552-8877-435f-9304-09e34d259ae6",
   "metadata": {},
   "outputs": [],
   "source": [
    "#Inner merge the renamed columns with the Recipe Data set on 'Id'\n",
    "resultdf =recipe_clean.merge(df_int2,how=\"inner\",on=\"id\")"
   ]
  },
  {
   "cell_type": "code",
   "execution_count": 143,
   "id": "70cb2b11-00a9-4222-880a-f1e942e86c08",
   "metadata": {
    "tags": []
   },
   "outputs": [
    {
     "data": {
      "text/html": [
       "<div>\n",
       "<style scoped>\n",
       "    .dataframe tbody tr th:only-of-type {\n",
       "        vertical-align: middle;\n",
       "    }\n",
       "\n",
       "    .dataframe tbody tr th {\n",
       "        vertical-align: top;\n",
       "    }\n",
       "\n",
       "    .dataframe thead th {\n",
       "        text-align: right;\n",
       "    }\n",
       "</style>\n",
       "<table border=\"1\" class=\"dataframe\">\n",
       "  <thead>\n",
       "    <tr style=\"text-align: right;\">\n",
       "      <th></th>\n",
       "      <th>name</th>\n",
       "      <th>id</th>\n",
       "      <th>minutes</th>\n",
       "      <th>contributor_id</th>\n",
       "      <th>submitted</th>\n",
       "      <th>tags</th>\n",
       "      <th>n_steps</th>\n",
       "      <th>steps</th>\n",
       "      <th>description</th>\n",
       "      <th>ingredients</th>\n",
       "      <th>...</th>\n",
       "      <th>Total Fat (PDV)</th>\n",
       "      <th>Sugar (PDV)</th>\n",
       "      <th>Sodium (PDV)</th>\n",
       "      <th>Protein (PDV)</th>\n",
       "      <th>Saturated Fat</th>\n",
       "      <th>Carbohydrates (PDV)</th>\n",
       "      <th>user</th>\n",
       "      <th>date</th>\n",
       "      <th>rate</th>\n",
       "      <th>rev</th>\n",
       "    </tr>\n",
       "  </thead>\n",
       "  <tbody>\n",
       "    <tr>\n",
       "      <th>0</th>\n",
       "      <td>arriba   baked winter squash mexican style</td>\n",
       "      <td>137739</td>\n",
       "      <td>55</td>\n",
       "      <td>47892</td>\n",
       "      <td>2005-09-16</td>\n",
       "      <td>['60-minutes-or-less', 'time-to-make', 'course', 'main-ingredient', 'cuisine', 'preparation', 'occasion', 'north-american', 'side-dishes', 'vegetables', 'mexican', 'easy', 'fall', 'holiday-event', 'vegetarian', 'winter', 'dietary', 'christmas', 'seasonal', 'squash']</td>\n",
       "      <td>11</td>\n",
       "      <td>['make a choice and proceed with recipe', 'depending on size of squash , cut into half or fourths', 'remove seeds', 'for spicy squash , drizzle olive oil or melted butter over each cut squash piece', 'season with mexican seasoning mix ii', 'for sweet squash , drizzle melted honey , butter , grated piloncillo over each cut squash piece', 'season with sweet mexican spice mix', 'bake at 350 degrees , again depending on size , for 40 minutes up to an hour , until a fork can easily pierce the skin', 'be careful not to burn the squash especially if you opt to use sugar or butter', 'if you feel more comfortable , cover the squash with aluminum foil the first half hour , give or take , of baking', 'if desired , season with salt']</td>\n",
       "      <td>autumn is my favorite time of year to cook! this recipe \\r\\ncan be prepared either spicy or sweet, your choice!\\r\\ntwo of my posted mexican-inspired seasoning mix recipes are offered as suggestions.</td>\n",
       "      <td>['winter squash', 'mexican seasoning', 'mixed spice', 'honey', 'butter', 'olive oil', 'salt']</td>\n",
       "      <td>...</td>\n",
       "      <td>0.0</td>\n",
       "      <td>13.0</td>\n",
       "      <td>0.0</td>\n",
       "      <td>2.0</td>\n",
       "      <td>0.0</td>\n",
       "      <td>4.0</td>\n",
       "      <td>4470</td>\n",
       "      <td>2006-02-18</td>\n",
       "      <td>5</td>\n",
       "      <td>I used an acorn squash and recipe#137681 Sweet Mexican spice blend. Only used 1 tsp honey &amp; 1 tsp butter between both halves,, sprinkled the squash liberally with the spice mix. Baked covered for 45 minutes uncovered or 15.  I basted the squash   with the the butter/honey from the cavity  allowing it to get a golden color.  Lovely Squash recipe Thanks Cookgirl</td>\n",
       "    </tr>\n",
       "    <tr>\n",
       "      <th>1</th>\n",
       "      <td>arriba   baked winter squash mexican style</td>\n",
       "      <td>137739</td>\n",
       "      <td>55</td>\n",
       "      <td>47892</td>\n",
       "      <td>2005-09-16</td>\n",
       "      <td>['60-minutes-or-less', 'time-to-make', 'course', 'main-ingredient', 'cuisine', 'preparation', 'occasion', 'north-american', 'side-dishes', 'vegetables', 'mexican', 'easy', 'fall', 'holiday-event', 'vegetarian', 'winter', 'dietary', 'christmas', 'seasonal', 'squash']</td>\n",
       "      <td>11</td>\n",
       "      <td>['make a choice and proceed with recipe', 'depending on size of squash , cut into half or fourths', 'remove seeds', 'for spicy squash , drizzle olive oil or melted butter over each cut squash piece', 'season with mexican seasoning mix ii', 'for sweet squash , drizzle melted honey , butter , grated piloncillo over each cut squash piece', 'season with sweet mexican spice mix', 'bake at 350 degrees , again depending on size , for 40 minutes up to an hour , until a fork can easily pierce the skin', 'be careful not to burn the squash especially if you opt to use sugar or butter', 'if you feel more comfortable , cover the squash with aluminum foil the first half hour , give or take , of baking', 'if desired , season with salt']</td>\n",
       "      <td>autumn is my favorite time of year to cook! this recipe \\r\\ncan be prepared either spicy or sweet, your choice!\\r\\ntwo of my posted mexican-inspired seasoning mix recipes are offered as suggestions.</td>\n",
       "      <td>['winter squash', 'mexican seasoning', 'mixed spice', 'honey', 'butter', 'olive oil', 'salt']</td>\n",
       "      <td>...</td>\n",
       "      <td>0.0</td>\n",
       "      <td>13.0</td>\n",
       "      <td>0.0</td>\n",
       "      <td>2.0</td>\n",
       "      <td>0.0</td>\n",
       "      <td>4.0</td>\n",
       "      <td>593927</td>\n",
       "      <td>2010-08-21</td>\n",
       "      <td>5</td>\n",
       "      <td>This was a nice change. I used butternut squash and the sweet option using a good local honey and unsalted butter. I did not add salt. We ate this on top of recipe#322603 with Balkan yogurt. I may make this again same option. Made for Ramadan Tag 2010.</td>\n",
       "    </tr>\n",
       "    <tr>\n",
       "      <th>2</th>\n",
       "      <td>arriba   baked winter squash mexican style</td>\n",
       "      <td>137739</td>\n",
       "      <td>55</td>\n",
       "      <td>47892</td>\n",
       "      <td>2005-09-16</td>\n",
       "      <td>['60-minutes-or-less', 'time-to-make', 'course', 'main-ingredient', 'cuisine', 'preparation', 'occasion', 'north-american', 'side-dishes', 'vegetables', 'mexican', 'easy', 'fall', 'holiday-event', 'vegetarian', 'winter', 'dietary', 'christmas', 'seasonal', 'squash']</td>\n",
       "      <td>11</td>\n",
       "      <td>['make a choice and proceed with recipe', 'depending on size of squash , cut into half or fourths', 'remove seeds', 'for spicy squash , drizzle olive oil or melted butter over each cut squash piece', 'season with mexican seasoning mix ii', 'for sweet squash , drizzle melted honey , butter , grated piloncillo over each cut squash piece', 'season with sweet mexican spice mix', 'bake at 350 degrees , again depending on size , for 40 minutes up to an hour , until a fork can easily pierce the skin', 'be careful not to burn the squash especially if you opt to use sugar or butter', 'if you feel more comfortable , cover the squash with aluminum foil the first half hour , give or take , of baking', 'if desired , season with salt']</td>\n",
       "      <td>autumn is my favorite time of year to cook! this recipe \\r\\ncan be prepared either spicy or sweet, your choice!\\r\\ntwo of my posted mexican-inspired seasoning mix recipes are offered as suggestions.</td>\n",
       "      <td>['winter squash', 'mexican seasoning', 'mixed spice', 'honey', 'butter', 'olive oil', 'salt']</td>\n",
       "      <td>...</td>\n",
       "      <td>0.0</td>\n",
       "      <td>13.0</td>\n",
       "      <td>0.0</td>\n",
       "      <td>2.0</td>\n",
       "      <td>0.0</td>\n",
       "      <td>4.0</td>\n",
       "      <td>178427</td>\n",
       "      <td>2011-12-05</td>\n",
       "      <td>5</td>\n",
       "      <td>Excellent recipe! I used butternut squash and the sweet option. The mexican spice mix put this over the top. Thanks for sharing.</td>\n",
       "    </tr>\n",
       "    <tr>\n",
       "      <th>3</th>\n",
       "      <td>a bit different  breakfast pizza</td>\n",
       "      <td>31490</td>\n",
       "      <td>30</td>\n",
       "      <td>26278</td>\n",
       "      <td>2002-06-17</td>\n",
       "      <td>['30-minutes-or-less', 'time-to-make', 'course', 'main-ingredient', 'cuisine', 'preparation', 'occasion', 'north-american', 'breakfast', 'main-dish', 'pork', 'american', 'oven', 'easy', 'kid-friendly', 'pizza', 'dietary', 'northeastern-united-states', 'meat', 'equipment']</td>\n",
       "      <td>9</td>\n",
       "      <td>['preheat oven to 425 degrees f', 'press dough into the bottom and sides of a 12 inch pizza pan', 'bake for 5 minutes until set but not browned', 'cut sausage into small pieces', 'whisk eggs and milk in a bowl until frothy', 'spoon sausage over baked crust and sprinkle with cheese', 'pour egg mixture slowly over sausage and cheese', 's&amp; p to taste', 'bake 15-20 minutes or until eggs are set and crust is brown']</td>\n",
       "      <td>this recipe calls for the crust to be prebaked a bit before adding ingredients. feel free to change sausage to ham or bacon. this warms well in the microwave for those late risers.</td>\n",
       "      <td>['prepared pizza crust', 'sausage patty', 'eggs', 'milk', 'salt and pepper', 'cheese']</td>\n",
       "      <td>...</td>\n",
       "      <td>18.0</td>\n",
       "      <td>0.0</td>\n",
       "      <td>17.0</td>\n",
       "      <td>22.0</td>\n",
       "      <td>35.0</td>\n",
       "      <td>1.0</td>\n",
       "      <td>28603</td>\n",
       "      <td>2002-08-19</td>\n",
       "      <td>0</td>\n",
       "      <td>Have not tried this, but it sounds delicious. Reminds me of a layover I had at the Atlanta airport.  I had a ham, egg, and cheese pizza at one of the pizza chain places on the concourse.  About $2.99 with coffee... It was one of the best breakfast dishes I ever had!  (But a strange place to find a delicious breakfast...lol)</td>\n",
       "    </tr>\n",
       "    <tr>\n",
       "      <th>4</th>\n",
       "      <td>a bit different  breakfast pizza</td>\n",
       "      <td>31490</td>\n",
       "      <td>30</td>\n",
       "      <td>26278</td>\n",
       "      <td>2002-06-17</td>\n",
       "      <td>['30-minutes-or-less', 'time-to-make', 'course', 'main-ingredient', 'cuisine', 'preparation', 'occasion', 'north-american', 'breakfast', 'main-dish', 'pork', 'american', 'oven', 'easy', 'kid-friendly', 'pizza', 'dietary', 'northeastern-united-states', 'meat', 'equipment']</td>\n",
       "      <td>9</td>\n",
       "      <td>['preheat oven to 425 degrees f', 'press dough into the bottom and sides of a 12 inch pizza pan', 'bake for 5 minutes until set but not browned', 'cut sausage into small pieces', 'whisk eggs and milk in a bowl until frothy', 'spoon sausage over baked crust and sprinkle with cheese', 'pour egg mixture slowly over sausage and cheese', 's&amp; p to taste', 'bake 15-20 minutes or until eggs are set and crust is brown']</td>\n",
       "      <td>this recipe calls for the crust to be prebaked a bit before adding ingredients. feel free to change sausage to ham or bacon. this warms well in the microwave for those late risers.</td>\n",
       "      <td>['prepared pizza crust', 'sausage patty', 'eggs', 'milk', 'salt and pepper', 'cheese']</td>\n",
       "      <td>...</td>\n",
       "      <td>18.0</td>\n",
       "      <td>0.0</td>\n",
       "      <td>17.0</td>\n",
       "      <td>22.0</td>\n",
       "      <td>35.0</td>\n",
       "      <td>1.0</td>\n",
       "      <td>346277</td>\n",
       "      <td>2006-08-27</td>\n",
       "      <td>5</td>\n",
       "      <td>This recipe was wonderful.  Instead of using the precooked sausage I substituted uncooked sausage then cooked and drained it. It turned out perfect!</td>\n",
       "    </tr>\n",
       "  </tbody>\n",
       "</table>\n",
       "<p>5 rows × 22 columns</p>\n",
       "</div>"
      ],
      "text/plain": [
       "                                         name      id  minutes  \\\n",
       "0  arriba   baked winter squash mexican style  137739       55   \n",
       "1  arriba   baked winter squash mexican style  137739       55   \n",
       "2  arriba   baked winter squash mexican style  137739       55   \n",
       "3            a bit different  breakfast pizza   31490       30   \n",
       "4            a bit different  breakfast pizza   31490       30   \n",
       "\n",
       "   contributor_id   submitted  \\\n",
       "0           47892  2005-09-16   \n",
       "1           47892  2005-09-16   \n",
       "2           47892  2005-09-16   \n",
       "3           26278  2002-06-17   \n",
       "4           26278  2002-06-17   \n",
       "\n",
       "                                                                                                                                                                                                                                                                               tags  \\\n",
       "0        ['60-minutes-or-less', 'time-to-make', 'course', 'main-ingredient', 'cuisine', 'preparation', 'occasion', 'north-american', 'side-dishes', 'vegetables', 'mexican', 'easy', 'fall', 'holiday-event', 'vegetarian', 'winter', 'dietary', 'christmas', 'seasonal', 'squash']   \n",
       "1        ['60-minutes-or-less', 'time-to-make', 'course', 'main-ingredient', 'cuisine', 'preparation', 'occasion', 'north-american', 'side-dishes', 'vegetables', 'mexican', 'easy', 'fall', 'holiday-event', 'vegetarian', 'winter', 'dietary', 'christmas', 'seasonal', 'squash']   \n",
       "2        ['60-minutes-or-less', 'time-to-make', 'course', 'main-ingredient', 'cuisine', 'preparation', 'occasion', 'north-american', 'side-dishes', 'vegetables', 'mexican', 'easy', 'fall', 'holiday-event', 'vegetarian', 'winter', 'dietary', 'christmas', 'seasonal', 'squash']   \n",
       "3  ['30-minutes-or-less', 'time-to-make', 'course', 'main-ingredient', 'cuisine', 'preparation', 'occasion', 'north-american', 'breakfast', 'main-dish', 'pork', 'american', 'oven', 'easy', 'kid-friendly', 'pizza', 'dietary', 'northeastern-united-states', 'meat', 'equipment']   \n",
       "4  ['30-minutes-or-less', 'time-to-make', 'course', 'main-ingredient', 'cuisine', 'preparation', 'occasion', 'north-american', 'breakfast', 'main-dish', 'pork', 'american', 'oven', 'easy', 'kid-friendly', 'pizza', 'dietary', 'northeastern-united-states', 'meat', 'equipment']   \n",
       "\n",
       "   n_steps  \\\n",
       "0       11   \n",
       "1       11   \n",
       "2       11   \n",
       "3        9   \n",
       "4        9   \n",
       "\n",
       "                                                                                                                                                                                                                                                                                                                                                                                                                                                                                                                                                                                                                                                                                                                                                         steps  \\\n",
       "0  ['make a choice and proceed with recipe', 'depending on size of squash , cut into half or fourths', 'remove seeds', 'for spicy squash , drizzle olive oil or melted butter over each cut squash piece', 'season with mexican seasoning mix ii', 'for sweet squash , drizzle melted honey , butter , grated piloncillo over each cut squash piece', 'season with sweet mexican spice mix', 'bake at 350 degrees , again depending on size , for 40 minutes up to an hour , until a fork can easily pierce the skin', 'be careful not to burn the squash especially if you opt to use sugar or butter', 'if you feel more comfortable , cover the squash with aluminum foil the first half hour , give or take , of baking', 'if desired , season with salt']   \n",
       "1  ['make a choice and proceed with recipe', 'depending on size of squash , cut into half or fourths', 'remove seeds', 'for spicy squash , drizzle olive oil or melted butter over each cut squash piece', 'season with mexican seasoning mix ii', 'for sweet squash , drizzle melted honey , butter , grated piloncillo over each cut squash piece', 'season with sweet mexican spice mix', 'bake at 350 degrees , again depending on size , for 40 minutes up to an hour , until a fork can easily pierce the skin', 'be careful not to burn the squash especially if you opt to use sugar or butter', 'if you feel more comfortable , cover the squash with aluminum foil the first half hour , give or take , of baking', 'if desired , season with salt']   \n",
       "2  ['make a choice and proceed with recipe', 'depending on size of squash , cut into half or fourths', 'remove seeds', 'for spicy squash , drizzle olive oil or melted butter over each cut squash piece', 'season with mexican seasoning mix ii', 'for sweet squash , drizzle melted honey , butter , grated piloncillo over each cut squash piece', 'season with sweet mexican spice mix', 'bake at 350 degrees , again depending on size , for 40 minutes up to an hour , until a fork can easily pierce the skin', 'be careful not to burn the squash especially if you opt to use sugar or butter', 'if you feel more comfortable , cover the squash with aluminum foil the first half hour , give or take , of baking', 'if desired , season with salt']   \n",
       "3                                                                                                                                                                                                                                                                                                                               ['preheat oven to 425 degrees f', 'press dough into the bottom and sides of a 12 inch pizza pan', 'bake for 5 minutes until set but not browned', 'cut sausage into small pieces', 'whisk eggs and milk in a bowl until frothy', 'spoon sausage over baked crust and sprinkle with cheese', 'pour egg mixture slowly over sausage and cheese', 's& p to taste', 'bake 15-20 minutes or until eggs are set and crust is brown']   \n",
       "4                                                                                                                                                                                                                                                                                                                               ['preheat oven to 425 degrees f', 'press dough into the bottom and sides of a 12 inch pizza pan', 'bake for 5 minutes until set but not browned', 'cut sausage into small pieces', 'whisk eggs and milk in a bowl until frothy', 'spoon sausage over baked crust and sprinkle with cheese', 'pour egg mixture slowly over sausage and cheese', 's& p to taste', 'bake 15-20 minutes or until eggs are set and crust is brown']   \n",
       "\n",
       "                                                                                                                                                                                              description  \\\n",
       "0  autumn is my favorite time of year to cook! this recipe \\r\\ncan be prepared either spicy or sweet, your choice!\\r\\ntwo of my posted mexican-inspired seasoning mix recipes are offered as suggestions.   \n",
       "1  autumn is my favorite time of year to cook! this recipe \\r\\ncan be prepared either spicy or sweet, your choice!\\r\\ntwo of my posted mexican-inspired seasoning mix recipes are offered as suggestions.   \n",
       "2  autumn is my favorite time of year to cook! this recipe \\r\\ncan be prepared either spicy or sweet, your choice!\\r\\ntwo of my posted mexican-inspired seasoning mix recipes are offered as suggestions.   \n",
       "3                    this recipe calls for the crust to be prebaked a bit before adding ingredients. feel free to change sausage to ham or bacon. this warms well in the microwave for those late risers.   \n",
       "4                    this recipe calls for the crust to be prebaked a bit before adding ingredients. feel free to change sausage to ham or bacon. this warms well in the microwave for those late risers.   \n",
       "\n",
       "                                                                                     ingredients  \\\n",
       "0  ['winter squash', 'mexican seasoning', 'mixed spice', 'honey', 'butter', 'olive oil', 'salt']   \n",
       "1  ['winter squash', 'mexican seasoning', 'mixed spice', 'honey', 'butter', 'olive oil', 'salt']   \n",
       "2  ['winter squash', 'mexican seasoning', 'mixed spice', 'honey', 'butter', 'olive oil', 'salt']   \n",
       "3         ['prepared pizza crust', 'sausage patty', 'eggs', 'milk', 'salt and pepper', 'cheese']   \n",
       "4         ['prepared pizza crust', 'sausage patty', 'eggs', 'milk', 'salt and pepper', 'cheese']   \n",
       "\n",
       "   ...  Total Fat (PDV)  Sugar (PDV)  Sodium (PDV)  Protein (PDV)  \\\n",
       "0  ...              0.0         13.0           0.0            2.0   \n",
       "1  ...              0.0         13.0           0.0            2.0   \n",
       "2  ...              0.0         13.0           0.0            2.0   \n",
       "3  ...             18.0          0.0          17.0           22.0   \n",
       "4  ...             18.0          0.0          17.0           22.0   \n",
       "\n",
       "   Saturated Fat  Carbohydrates (PDV)    user        date  rate  \\\n",
       "0            0.0                  4.0    4470  2006-02-18     5   \n",
       "1            0.0                  4.0  593927  2010-08-21     5   \n",
       "2            0.0                  4.0  178427  2011-12-05     5   \n",
       "3           35.0                  1.0   28603  2002-08-19     0   \n",
       "4           35.0                  1.0  346277  2006-08-27     5   \n",
       "\n",
       "                                                                                                                                                                                                                                                                                                                                                                           rev  \n",
       "0   I used an acorn squash and recipe#137681 Sweet Mexican spice blend. Only used 1 tsp honey & 1 tsp butter between both halves,, sprinkled the squash liberally with the spice mix. Baked covered for 45 minutes uncovered or 15.  I basted the squash   with the the butter/honey from the cavity  allowing it to get a golden color.  Lovely Squash recipe Thanks Cookgirl  \n",
       "1                                                                                                                 This was a nice change. I used butternut squash and the sweet option using a good local honey and unsalted butter. I did not add salt. We ate this on top of recipe#322603 with Balkan yogurt. I may make this again same option. Made for Ramadan Tag 2010.  \n",
       "2                                                                                                                                                                                                                                             Excellent recipe! I used butternut squash and the sweet option. The mexican spice mix put this over the top. Thanks for sharing.  \n",
       "3                                        Have not tried this, but it sounds delicious. Reminds me of a layover I had at the Atlanta airport.  I had a ham, egg, and cheese pizza at one of the pizza chain places on the concourse.  About $2.99 with coffee... It was one of the best breakfast dishes I ever had!  (But a strange place to find a delicious breakfast...lol)  \n",
       "4                                                                                                                                                                                                                         This recipe was wonderful.  Instead of using the precooked sausage I substituted uncooked sausage then cooked and drained it. It turned out perfect!  \n",
       "\n",
       "[5 rows x 22 columns]"
      ]
     },
     "execution_count": 143,
     "metadata": {},
     "output_type": "execute_result"
    }
   ],
   "source": [
    "#show the new dataset\n",
    "resultdf.head(5)"
   ]
  },
  {
   "cell_type": "code",
   "execution_count": 144,
   "id": "74607ec9-6266-4c25-b97e-d03a23a420e4",
   "metadata": {},
   "outputs": [
    {
     "data": {
      "text/plain": [
       "(1003921, 22)"
      ]
     },
     "execution_count": 144,
     "metadata": {},
     "output_type": "execute_result"
    }
   ],
   "source": [
    "#Show shape of new dataset\n",
    "resultdf.shape"
   ]
  },
  {
   "cell_type": "code",
   "execution_count": 145,
   "id": "cc73aa7c-9b2a-43d9-aa82-36150c88cccc",
   "metadata": {},
   "outputs": [],
   "source": [
    "#corrects the new data, seeks for duplicates\n",
    "bool_series = resultdf.duplicated()"
   ]
  },
  {
   "cell_type": "code",
   "execution_count": 146,
   "id": "c892f2c9-8809-4d46-9ece-f18be47994da",
   "metadata": {},
   "outputs": [
    {
     "data": {
      "text/plain": [
       "0          False\n",
       "1          False\n",
       "2          False\n",
       "3          False\n",
       "4          False\n",
       "           ...  \n",
       "1003916    False\n",
       "1003917    False\n",
       "1003918    False\n",
       "1003919    False\n",
       "1003920    False\n",
       "Length: 1003921, dtype: bool"
      ]
     },
     "execution_count": 146,
     "metadata": {},
     "output_type": "execute_result"
    }
   ],
   "source": [
    "#Sanity check on duplicates\n",
    "bool_series"
   ]
  },
  {
   "cell_type": "code",
   "execution_count": 147,
   "id": "4bbff9f8-1786-41d2-ae64-51429665dfab",
   "metadata": {},
   "outputs": [],
   "source": [
    "# Applying the method\n",
    "check_nan = resultdf.isnull().values.any()"
   ]
  },
  {
   "cell_type": "code",
   "execution_count": 148,
   "id": "3f327a34-0a81-4997-881b-ee20eb4e4075",
   "metadata": {},
   "outputs": [
    {
     "data": {
      "text/plain": [
       "False"
      ]
     },
     "execution_count": 148,
     "metadata": {},
     "output_type": "execute_result"
    }
   ],
   "source": [
    "check_nan"
   ]
  },
  {
   "cell_type": "code",
   "execution_count": 149,
   "id": "b2791311-1924-4bed-a490-3fbce0211aab",
   "metadata": {},
   "outputs": [
    {
     "name": "stdout",
     "output_type": "stream",
     "text": [
      "Number of NaN values present: name                   0\n",
      "id                     0\n",
      "minutes                0\n",
      "contributor_id         0\n",
      "submitted              0\n",
      "tags                   0\n",
      "n_steps                0\n",
      "steps                  0\n",
      "description            0\n",
      "ingredients            0\n",
      "n_ingredients          0\n",
      "Calories (#)           0\n",
      "Total Fat (PDV)        0\n",
      "Sugar (PDV)            0\n",
      "Sodium (PDV)           0\n",
      "Protein (PDV)          0\n",
      "Saturated Fat          0\n",
      "Carbohydrates (PDV)    0\n",
      "user                   0\n",
      "date                   0\n",
      "rate                   0\n",
      "rev                    0\n",
      "dtype: int64\n"
     ]
    }
   ],
   "source": [
    "# applying the method\n",
    "count_nan = resultdf.isnull().sum()\n",
    " \n",
    "# printing the number of values present\n",
    "# in the column\n",
    "print('Number of NaN values present: ' + str(count_nan))"
   ]
  },
  {
   "cell_type": "markdown",
   "id": "5772bba6-97b8-4534-9b83-50dd0bc2f62b",
   "metadata": {},
   "source": [
    "**This validates that the data is clean, no nan's or missing values.**"
   ]
  },
  {
   "cell_type": "markdown",
   "id": "b528fb92-85b6-4b4f-95ad-9ef8896ce80a",
   "metadata": {},
   "source": [
    "Missing values really speak to the data integrity.  Given that the original data sets were at 230k in recipes and 1.15 million for user interactions."
   ]
  },
  {
   "cell_type": "markdown",
   "id": "71e6f6c5-d2de-4614-95b9-ca73df78925c",
   "metadata": {},
   "source": [
    "## REGEX CLEAN VALUES"
   ]
  },
  {
   "cell_type": "markdown",
   "id": "7f1d1894-65e6-4c48-b662-c0463a0536e1",
   "metadata": {},
   "source": [
    "*Definition*\n",
    "\n",
    "\n",
    "Regular Expressions, also known as “regex” or “regexp”, are used to match strings of text such as particular characters, words, or patterns of characters. It means that we can match and extract any string pattern from the text with the help of regular expressions"
   ]
  },
  {
   "cell_type": "markdown",
   "id": "b1ad7461-f7b4-44a2-9dcc-5ad948751f30",
   "metadata": {},
   "source": [
    "We will clean the string values that would be required for further use in the recommendation system.\n",
    "Ingredients is great.\n",
    "Steps is another great option.\n",
    "Tags are also amazing to do this with as well."
   ]
  },
  {
   "cell_type": "code",
   "execution_count": 150,
   "id": "2346af9d-45ce-48d9-8eba-786b2b1d2203",
   "metadata": {},
   "outputs": [
    {
     "name": "stderr",
     "output_type": "stream",
     "text": [
      "/var/folders/3h/c9q_p3653g7088wkgdk7bfmm0000gn/T/ipykernel_49538/3664929890.py:1: FutureWarning: The default value of regex will change from True to False in a future version.\n",
      "  resultdf['ingredients'] = resultdf['ingredients'].str.replace('[^\\w\\s]','')\n"
     ]
    }
   ],
   "source": [
    "#Regex to clean the ingredients columns\n",
    "resultdf['ingredients'] = resultdf['ingredients'].str.replace('[^\\w\\s]','')  "
   ]
  },
  {
   "cell_type": "code",
   "execution_count": 151,
   "id": "08afafb1-331d-4370-9673-a59530eb5e86",
   "metadata": {},
   "outputs": [
    {
     "name": "stderr",
     "output_type": "stream",
     "text": [
      "/var/folders/3h/c9q_p3653g7088wkgdk7bfmm0000gn/T/ipykernel_49538/3993976844.py:1: FutureWarning: The default value of regex will change from True to False in a future version.\n",
      "  resultdf['steps'] = resultdf['steps'].str.replace('[^\\w\\s]','')\n"
     ]
    }
   ],
   "source": [
    "#Regex to clean the steps columns\n",
    "resultdf['steps'] = resultdf['steps'].str.replace('[^\\w\\s]','')  "
   ]
  },
  {
   "cell_type": "code",
   "execution_count": 152,
   "id": "505db5e9-c32c-4627-a86c-5a310fc112da",
   "metadata": {},
   "outputs": [
    {
     "name": "stderr",
     "output_type": "stream",
     "text": [
      "/var/folders/3h/c9q_p3653g7088wkgdk7bfmm0000gn/T/ipykernel_49538/2344264071.py:1: FutureWarning: The default value of regex will change from True to False in a future version.\n",
      "  resultdf['tags'] = resultdf['tags'].str.replace('[^\\w\\s]','')\n"
     ]
    }
   ],
   "source": [
    "#Regex to clean the tags columns\n",
    "resultdf['tags'] = resultdf['tags'].str.replace('[^\\w\\s]','')  "
   ]
  },
  {
   "cell_type": "code",
   "execution_count": 153,
   "id": "689b0831-5ae0-40cd-b97b-d58d46442ccf",
   "metadata": {},
   "outputs": [
    {
     "data": {
      "text/plain": [
       "(1003921, 22)"
      ]
     },
     "execution_count": 153,
     "metadata": {},
     "output_type": "execute_result"
    }
   ],
   "source": [
    "#copy the cleaned dataset\n",
    "df2_clean = resultdf.copy()\n",
    "df2_clean.shape"
   ]
  },
  {
   "cell_type": "code",
   "execution_count": 154,
   "id": "a663e583-6e45-4ebb-a37b-e958e67406b4",
   "metadata": {
    "collapsed": true,
    "jupyter": {
     "outputs_hidden": true
    },
    "tags": []
   },
   "outputs": [
    {
     "data": {
      "text/html": [
       "<div>\n",
       "<style scoped>\n",
       "    .dataframe tbody tr th:only-of-type {\n",
       "        vertical-align: middle;\n",
       "    }\n",
       "\n",
       "    .dataframe tbody tr th {\n",
       "        vertical-align: top;\n",
       "    }\n",
       "\n",
       "    .dataframe thead th {\n",
       "        text-align: right;\n",
       "    }\n",
       "</style>\n",
       "<table border=\"1\" class=\"dataframe\">\n",
       "  <thead>\n",
       "    <tr style=\"text-align: right;\">\n",
       "      <th></th>\n",
       "      <th>name</th>\n",
       "      <th>id</th>\n",
       "      <th>minutes</th>\n",
       "      <th>contributor_id</th>\n",
       "      <th>submitted</th>\n",
       "      <th>tags</th>\n",
       "      <th>n_steps</th>\n",
       "      <th>steps</th>\n",
       "      <th>description</th>\n",
       "      <th>ingredients</th>\n",
       "      <th>...</th>\n",
       "      <th>Total Fat (PDV)</th>\n",
       "      <th>Sugar (PDV)</th>\n",
       "      <th>Sodium (PDV)</th>\n",
       "      <th>Protein (PDV)</th>\n",
       "      <th>Saturated Fat</th>\n",
       "      <th>Carbohydrates (PDV)</th>\n",
       "      <th>user</th>\n",
       "      <th>date</th>\n",
       "      <th>rate</th>\n",
       "      <th>rev</th>\n",
       "    </tr>\n",
       "  </thead>\n",
       "  <tbody>\n",
       "    <tr>\n",
       "      <th>0</th>\n",
       "      <td>arriba   baked winter squash mexican style</td>\n",
       "      <td>137739</td>\n",
       "      <td>55</td>\n",
       "      <td>47892</td>\n",
       "      <td>2005-09-16</td>\n",
       "      <td>60minutesorless timetomake course mainingredient cuisine preparation occasion northamerican sidedishes vegetables mexican easy fall holidayevent vegetarian winter dietary christmas seasonal squash</td>\n",
       "      <td>11</td>\n",
       "      <td>make a choice and proceed with recipe depending on size of squash  cut into half or fourths remove seeds for spicy squash  drizzle olive oil or melted butter over each cut squash piece season with mexican seasoning mix ii for sweet squash  drizzle melted honey  butter  grated piloncillo over each cut squash piece season with sweet mexican spice mix bake at 350 degrees  again depending on size  for 40 minutes up to an hour  until a fork can easily pierce the skin be careful not to burn the squash especially if you opt to use sugar or butter if you feel more comfortable  cover the squash with aluminum foil the first half hour  give or take  of baking if desired  season with salt</td>\n",
       "      <td>autumn is my favorite time of year to cook! this recipe \\r\\ncan be prepared either spicy or sweet, your choice!\\r\\ntwo of my posted mexican-inspired seasoning mix recipes are offered as suggestions.</td>\n",
       "      <td>winter squash mexican seasoning mixed spice honey butter olive oil salt</td>\n",
       "      <td>...</td>\n",
       "      <td>0.0</td>\n",
       "      <td>13.0</td>\n",
       "      <td>0.0</td>\n",
       "      <td>2.0</td>\n",
       "      <td>0.0</td>\n",
       "      <td>4.0</td>\n",
       "      <td>4470</td>\n",
       "      <td>2006-02-18</td>\n",
       "      <td>5</td>\n",
       "      <td>I used an acorn squash and recipe#137681 Sweet Mexican spice blend. Only used 1 tsp honey &amp; 1 tsp butter between both halves,, sprinkled the squash liberally with the spice mix. Baked covered for 45 minutes uncovered or 15.  I basted the squash   with the the butter/honey from the cavity  allowing it to get a golden color.  Lovely Squash recipe Thanks Cookgirl</td>\n",
       "    </tr>\n",
       "    <tr>\n",
       "      <th>1</th>\n",
       "      <td>arriba   baked winter squash mexican style</td>\n",
       "      <td>137739</td>\n",
       "      <td>55</td>\n",
       "      <td>47892</td>\n",
       "      <td>2005-09-16</td>\n",
       "      <td>60minutesorless timetomake course mainingredient cuisine preparation occasion northamerican sidedishes vegetables mexican easy fall holidayevent vegetarian winter dietary christmas seasonal squash</td>\n",
       "      <td>11</td>\n",
       "      <td>make a choice and proceed with recipe depending on size of squash  cut into half or fourths remove seeds for spicy squash  drizzle olive oil or melted butter over each cut squash piece season with mexican seasoning mix ii for sweet squash  drizzle melted honey  butter  grated piloncillo over each cut squash piece season with sweet mexican spice mix bake at 350 degrees  again depending on size  for 40 minutes up to an hour  until a fork can easily pierce the skin be careful not to burn the squash especially if you opt to use sugar or butter if you feel more comfortable  cover the squash with aluminum foil the first half hour  give or take  of baking if desired  season with salt</td>\n",
       "      <td>autumn is my favorite time of year to cook! this recipe \\r\\ncan be prepared either spicy or sweet, your choice!\\r\\ntwo of my posted mexican-inspired seasoning mix recipes are offered as suggestions.</td>\n",
       "      <td>winter squash mexican seasoning mixed spice honey butter olive oil salt</td>\n",
       "      <td>...</td>\n",
       "      <td>0.0</td>\n",
       "      <td>13.0</td>\n",
       "      <td>0.0</td>\n",
       "      <td>2.0</td>\n",
       "      <td>0.0</td>\n",
       "      <td>4.0</td>\n",
       "      <td>593927</td>\n",
       "      <td>2010-08-21</td>\n",
       "      <td>5</td>\n",
       "      <td>This was a nice change. I used butternut squash and the sweet option using a good local honey and unsalted butter. I did not add salt. We ate this on top of recipe#322603 with Balkan yogurt. I may make this again same option. Made for Ramadan Tag 2010.</td>\n",
       "    </tr>\n",
       "    <tr>\n",
       "      <th>2</th>\n",
       "      <td>arriba   baked winter squash mexican style</td>\n",
       "      <td>137739</td>\n",
       "      <td>55</td>\n",
       "      <td>47892</td>\n",
       "      <td>2005-09-16</td>\n",
       "      <td>60minutesorless timetomake course mainingredient cuisine preparation occasion northamerican sidedishes vegetables mexican easy fall holidayevent vegetarian winter dietary christmas seasonal squash</td>\n",
       "      <td>11</td>\n",
       "      <td>make a choice and proceed with recipe depending on size of squash  cut into half or fourths remove seeds for spicy squash  drizzle olive oil or melted butter over each cut squash piece season with mexican seasoning mix ii for sweet squash  drizzle melted honey  butter  grated piloncillo over each cut squash piece season with sweet mexican spice mix bake at 350 degrees  again depending on size  for 40 minutes up to an hour  until a fork can easily pierce the skin be careful not to burn the squash especially if you opt to use sugar or butter if you feel more comfortable  cover the squash with aluminum foil the first half hour  give or take  of baking if desired  season with salt</td>\n",
       "      <td>autumn is my favorite time of year to cook! this recipe \\r\\ncan be prepared either spicy or sweet, your choice!\\r\\ntwo of my posted mexican-inspired seasoning mix recipes are offered as suggestions.</td>\n",
       "      <td>winter squash mexican seasoning mixed spice honey butter olive oil salt</td>\n",
       "      <td>...</td>\n",
       "      <td>0.0</td>\n",
       "      <td>13.0</td>\n",
       "      <td>0.0</td>\n",
       "      <td>2.0</td>\n",
       "      <td>0.0</td>\n",
       "      <td>4.0</td>\n",
       "      <td>178427</td>\n",
       "      <td>2011-12-05</td>\n",
       "      <td>5</td>\n",
       "      <td>Excellent recipe! I used butternut squash and the sweet option. The mexican spice mix put this over the top. Thanks for sharing.</td>\n",
       "    </tr>\n",
       "    <tr>\n",
       "      <th>3</th>\n",
       "      <td>a bit different  breakfast pizza</td>\n",
       "      <td>31490</td>\n",
       "      <td>30</td>\n",
       "      <td>26278</td>\n",
       "      <td>2002-06-17</td>\n",
       "      <td>30minutesorless timetomake course mainingredient cuisine preparation occasion northamerican breakfast maindish pork american oven easy kidfriendly pizza dietary northeasternunitedstates meat equipment</td>\n",
       "      <td>9</td>\n",
       "      <td>preheat oven to 425 degrees f press dough into the bottom and sides of a 12 inch pizza pan bake for 5 minutes until set but not browned cut sausage into small pieces whisk eggs and milk in a bowl until frothy spoon sausage over baked crust and sprinkle with cheese pour egg mixture slowly over sausage and cheese s p to taste bake 1520 minutes or until eggs are set and crust is brown</td>\n",
       "      <td>this recipe calls for the crust to be prebaked a bit before adding ingredients. feel free to change sausage to ham or bacon. this warms well in the microwave for those late risers.</td>\n",
       "      <td>prepared pizza crust sausage patty eggs milk salt and pepper cheese</td>\n",
       "      <td>...</td>\n",
       "      <td>18.0</td>\n",
       "      <td>0.0</td>\n",
       "      <td>17.0</td>\n",
       "      <td>22.0</td>\n",
       "      <td>35.0</td>\n",
       "      <td>1.0</td>\n",
       "      <td>28603</td>\n",
       "      <td>2002-08-19</td>\n",
       "      <td>0</td>\n",
       "      <td>Have not tried this, but it sounds delicious. Reminds me of a layover I had at the Atlanta airport.  I had a ham, egg, and cheese pizza at one of the pizza chain places on the concourse.  About $2.99 with coffee... It was one of the best breakfast dishes I ever had!  (But a strange place to find a delicious breakfast...lol)</td>\n",
       "    </tr>\n",
       "    <tr>\n",
       "      <th>4</th>\n",
       "      <td>a bit different  breakfast pizza</td>\n",
       "      <td>31490</td>\n",
       "      <td>30</td>\n",
       "      <td>26278</td>\n",
       "      <td>2002-06-17</td>\n",
       "      <td>30minutesorless timetomake course mainingredient cuisine preparation occasion northamerican breakfast maindish pork american oven easy kidfriendly pizza dietary northeasternunitedstates meat equipment</td>\n",
       "      <td>9</td>\n",
       "      <td>preheat oven to 425 degrees f press dough into the bottom and sides of a 12 inch pizza pan bake for 5 minutes until set but not browned cut sausage into small pieces whisk eggs and milk in a bowl until frothy spoon sausage over baked crust and sprinkle with cheese pour egg mixture slowly over sausage and cheese s p to taste bake 1520 minutes or until eggs are set and crust is brown</td>\n",
       "      <td>this recipe calls for the crust to be prebaked a bit before adding ingredients. feel free to change sausage to ham or bacon. this warms well in the microwave for those late risers.</td>\n",
       "      <td>prepared pizza crust sausage patty eggs milk salt and pepper cheese</td>\n",
       "      <td>...</td>\n",
       "      <td>18.0</td>\n",
       "      <td>0.0</td>\n",
       "      <td>17.0</td>\n",
       "      <td>22.0</td>\n",
       "      <td>35.0</td>\n",
       "      <td>1.0</td>\n",
       "      <td>346277</td>\n",
       "      <td>2006-08-27</td>\n",
       "      <td>5</td>\n",
       "      <td>This recipe was wonderful.  Instead of using the precooked sausage I substituted uncooked sausage then cooked and drained it. It turned out perfect!</td>\n",
       "    </tr>\n",
       "  </tbody>\n",
       "</table>\n",
       "<p>5 rows × 22 columns</p>\n",
       "</div>"
      ],
      "text/plain": [
       "                                         name      id  minutes  \\\n",
       "0  arriba   baked winter squash mexican style  137739       55   \n",
       "1  arriba   baked winter squash mexican style  137739       55   \n",
       "2  arriba   baked winter squash mexican style  137739       55   \n",
       "3            a bit different  breakfast pizza   31490       30   \n",
       "4            a bit different  breakfast pizza   31490       30   \n",
       "\n",
       "   contributor_id   submitted  \\\n",
       "0           47892  2005-09-16   \n",
       "1           47892  2005-09-16   \n",
       "2           47892  2005-09-16   \n",
       "3           26278  2002-06-17   \n",
       "4           26278  2002-06-17   \n",
       "\n",
       "                                                                                                                                                                                                       tags  \\\n",
       "0      60minutesorless timetomake course mainingredient cuisine preparation occasion northamerican sidedishes vegetables mexican easy fall holidayevent vegetarian winter dietary christmas seasonal squash   \n",
       "1      60minutesorless timetomake course mainingredient cuisine preparation occasion northamerican sidedishes vegetables mexican easy fall holidayevent vegetarian winter dietary christmas seasonal squash   \n",
       "2      60minutesorless timetomake course mainingredient cuisine preparation occasion northamerican sidedishes vegetables mexican easy fall holidayevent vegetarian winter dietary christmas seasonal squash   \n",
       "3  30minutesorless timetomake course mainingredient cuisine preparation occasion northamerican breakfast maindish pork american oven easy kidfriendly pizza dietary northeasternunitedstates meat equipment   \n",
       "4  30minutesorless timetomake course mainingredient cuisine preparation occasion northamerican breakfast maindish pork american oven easy kidfriendly pizza dietary northeasternunitedstates meat equipment   \n",
       "\n",
       "   n_steps  \\\n",
       "0       11   \n",
       "1       11   \n",
       "2       11   \n",
       "3        9   \n",
       "4        9   \n",
       "\n",
       "                                                                                                                                                                                                                                                                                                                                                                                                                                                                                                                                                                                                                                                                                                           steps  \\\n",
       "0  make a choice and proceed with recipe depending on size of squash  cut into half or fourths remove seeds for spicy squash  drizzle olive oil or melted butter over each cut squash piece season with mexican seasoning mix ii for sweet squash  drizzle melted honey  butter  grated piloncillo over each cut squash piece season with sweet mexican spice mix bake at 350 degrees  again depending on size  for 40 minutes up to an hour  until a fork can easily pierce the skin be careful not to burn the squash especially if you opt to use sugar or butter if you feel more comfortable  cover the squash with aluminum foil the first half hour  give or take  of baking if desired  season with salt   \n",
       "1  make a choice and proceed with recipe depending on size of squash  cut into half or fourths remove seeds for spicy squash  drizzle olive oil or melted butter over each cut squash piece season with mexican seasoning mix ii for sweet squash  drizzle melted honey  butter  grated piloncillo over each cut squash piece season with sweet mexican spice mix bake at 350 degrees  again depending on size  for 40 minutes up to an hour  until a fork can easily pierce the skin be careful not to burn the squash especially if you opt to use sugar or butter if you feel more comfortable  cover the squash with aluminum foil the first half hour  give or take  of baking if desired  season with salt   \n",
       "2  make a choice and proceed with recipe depending on size of squash  cut into half or fourths remove seeds for spicy squash  drizzle olive oil or melted butter over each cut squash piece season with mexican seasoning mix ii for sweet squash  drizzle melted honey  butter  grated piloncillo over each cut squash piece season with sweet mexican spice mix bake at 350 degrees  again depending on size  for 40 minutes up to an hour  until a fork can easily pierce the skin be careful not to burn the squash especially if you opt to use sugar or butter if you feel more comfortable  cover the squash with aluminum foil the first half hour  give or take  of baking if desired  season with salt   \n",
       "3                                                                                                                                                                                                                                                                                                               preheat oven to 425 degrees f press dough into the bottom and sides of a 12 inch pizza pan bake for 5 minutes until set but not browned cut sausage into small pieces whisk eggs and milk in a bowl until frothy spoon sausage over baked crust and sprinkle with cheese pour egg mixture slowly over sausage and cheese s p to taste bake 1520 minutes or until eggs are set and crust is brown   \n",
       "4                                                                                                                                                                                                                                                                                                               preheat oven to 425 degrees f press dough into the bottom and sides of a 12 inch pizza pan bake for 5 minutes until set but not browned cut sausage into small pieces whisk eggs and milk in a bowl until frothy spoon sausage over baked crust and sprinkle with cheese pour egg mixture slowly over sausage and cheese s p to taste bake 1520 minutes or until eggs are set and crust is brown   \n",
       "\n",
       "                                                                                                                                                                                              description  \\\n",
       "0  autumn is my favorite time of year to cook! this recipe \\r\\ncan be prepared either spicy or sweet, your choice!\\r\\ntwo of my posted mexican-inspired seasoning mix recipes are offered as suggestions.   \n",
       "1  autumn is my favorite time of year to cook! this recipe \\r\\ncan be prepared either spicy or sweet, your choice!\\r\\ntwo of my posted mexican-inspired seasoning mix recipes are offered as suggestions.   \n",
       "2  autumn is my favorite time of year to cook! this recipe \\r\\ncan be prepared either spicy or sweet, your choice!\\r\\ntwo of my posted mexican-inspired seasoning mix recipes are offered as suggestions.   \n",
       "3                    this recipe calls for the crust to be prebaked a bit before adding ingredients. feel free to change sausage to ham or bacon. this warms well in the microwave for those late risers.   \n",
       "4                    this recipe calls for the crust to be prebaked a bit before adding ingredients. feel free to change sausage to ham or bacon. this warms well in the microwave for those late risers.   \n",
       "\n",
       "                                                               ingredients  \\\n",
       "0  winter squash mexican seasoning mixed spice honey butter olive oil salt   \n",
       "1  winter squash mexican seasoning mixed spice honey butter olive oil salt   \n",
       "2  winter squash mexican seasoning mixed spice honey butter olive oil salt   \n",
       "3      prepared pizza crust sausage patty eggs milk salt and pepper cheese   \n",
       "4      prepared pizza crust sausage patty eggs milk salt and pepper cheese   \n",
       "\n",
       "   ...  Total Fat (PDV)  Sugar (PDV)  Sodium (PDV)  Protein (PDV)  \\\n",
       "0  ...              0.0         13.0           0.0            2.0   \n",
       "1  ...              0.0         13.0           0.0            2.0   \n",
       "2  ...              0.0         13.0           0.0            2.0   \n",
       "3  ...             18.0          0.0          17.0           22.0   \n",
       "4  ...             18.0          0.0          17.0           22.0   \n",
       "\n",
       "   Saturated Fat  Carbohydrates (PDV)    user        date  rate  \\\n",
       "0            0.0                  4.0    4470  2006-02-18     5   \n",
       "1            0.0                  4.0  593927  2010-08-21     5   \n",
       "2            0.0                  4.0  178427  2011-12-05     5   \n",
       "3           35.0                  1.0   28603  2002-08-19     0   \n",
       "4           35.0                  1.0  346277  2006-08-27     5   \n",
       "\n",
       "                                                                                                                                                                                                                                                                                                                                                                           rev  \n",
       "0   I used an acorn squash and recipe#137681 Sweet Mexican spice blend. Only used 1 tsp honey & 1 tsp butter between both halves,, sprinkled the squash liberally with the spice mix. Baked covered for 45 minutes uncovered or 15.  I basted the squash   with the the butter/honey from the cavity  allowing it to get a golden color.  Lovely Squash recipe Thanks Cookgirl  \n",
       "1                                                                                                                 This was a nice change. I used butternut squash and the sweet option using a good local honey and unsalted butter. I did not add salt. We ate this on top of recipe#322603 with Balkan yogurt. I may make this again same option. Made for Ramadan Tag 2010.  \n",
       "2                                                                                                                                                                                                                                             Excellent recipe! I used butternut squash and the sweet option. The mexican spice mix put this over the top. Thanks for sharing.  \n",
       "3                                        Have not tried this, but it sounds delicious. Reminds me of a layover I had at the Atlanta airport.  I had a ham, egg, and cheese pizza at one of the pizza chain places on the concourse.  About $2.99 with coffee... It was one of the best breakfast dishes I ever had!  (But a strange place to find a delicious breakfast...lol)  \n",
       "4                                                                                                                                                                                                                         This recipe was wonderful.  Instead of using the precooked sausage I substituted uncooked sausage then cooked and drained it. It turned out perfect!  \n",
       "\n",
       "[5 rows x 22 columns]"
      ]
     },
     "execution_count": 154,
     "metadata": {},
     "output_type": "execute_result"
    }
   ],
   "source": [
    "#Display the clean data\n",
    "df2_clean.head(5)"
   ]
  },
  {
   "cell_type": "markdown",
   "id": "4bd4e2af-0d5a-4d26-834a-21d884e5f9d2",
   "metadata": {},
   "source": [
    "Now the final dataset sits at 1 million rows, combining user review and recipe details in 1 table."
   ]
  },
  {
   "cell_type": "code",
   "execution_count": 155,
   "id": "d00569ab-2171-4796-9f2b-75ba4b9b312d",
   "metadata": {},
   "outputs": [],
   "source": [
    "#Add user counts another feature\n",
    "df2_usercount = df2_clean.groupby(['user']).count().reset_index()"
   ]
  },
  {
   "cell_type": "code",
   "execution_count": 156,
   "id": "9ca55380-e8ba-4e09-95f8-7506a647400d",
   "metadata": {},
   "outputs": [
    {
     "data": {
      "text/html": [
       "<div>\n",
       "<style scoped>\n",
       "    .dataframe tbody tr th:only-of-type {\n",
       "        vertical-align: middle;\n",
       "    }\n",
       "\n",
       "    .dataframe tbody tr th {\n",
       "        vertical-align: top;\n",
       "    }\n",
       "\n",
       "    .dataframe thead th {\n",
       "        text-align: right;\n",
       "    }\n",
       "</style>\n",
       "<table border=\"1\" class=\"dataframe\">\n",
       "  <thead>\n",
       "    <tr style=\"text-align: right;\">\n",
       "      <th></th>\n",
       "      <th>user</th>\n",
       "      <th>name</th>\n",
       "      <th>id</th>\n",
       "      <th>minutes</th>\n",
       "      <th>contributor_id</th>\n",
       "      <th>submitted</th>\n",
       "      <th>tags</th>\n",
       "      <th>n_steps</th>\n",
       "      <th>steps</th>\n",
       "      <th>description</th>\n",
       "      <th>...</th>\n",
       "      <th>Calories (#)</th>\n",
       "      <th>Total Fat (PDV)</th>\n",
       "      <th>Sugar (PDV)</th>\n",
       "      <th>Sodium (PDV)</th>\n",
       "      <th>Protein (PDV)</th>\n",
       "      <th>Saturated Fat</th>\n",
       "      <th>Carbohydrates (PDV)</th>\n",
       "      <th>date</th>\n",
       "      <th>rate</th>\n",
       "      <th>rev</th>\n",
       "    </tr>\n",
       "  </thead>\n",
       "  <tbody>\n",
       "    <tr>\n",
       "      <th>0</th>\n",
       "      <td>1533</td>\n",
       "      <td>110</td>\n",
       "      <td>110</td>\n",
       "      <td>110</td>\n",
       "      <td>110</td>\n",
       "      <td>110</td>\n",
       "      <td>110</td>\n",
       "      <td>110</td>\n",
       "      <td>110</td>\n",
       "      <td>110</td>\n",
       "      <td>...</td>\n",
       "      <td>110</td>\n",
       "      <td>110</td>\n",
       "      <td>110</td>\n",
       "      <td>110</td>\n",
       "      <td>110</td>\n",
       "      <td>110</td>\n",
       "      <td>110</td>\n",
       "      <td>110</td>\n",
       "      <td>110</td>\n",
       "      <td>110</td>\n",
       "    </tr>\n",
       "    <tr>\n",
       "      <th>1</th>\n",
       "      <td>1535</td>\n",
       "      <td>706</td>\n",
       "      <td>706</td>\n",
       "      <td>706</td>\n",
       "      <td>706</td>\n",
       "      <td>706</td>\n",
       "      <td>706</td>\n",
       "      <td>706</td>\n",
       "      <td>706</td>\n",
       "      <td>706</td>\n",
       "      <td>...</td>\n",
       "      <td>706</td>\n",
       "      <td>706</td>\n",
       "      <td>706</td>\n",
       "      <td>706</td>\n",
       "      <td>706</td>\n",
       "      <td>706</td>\n",
       "      <td>706</td>\n",
       "      <td>706</td>\n",
       "      <td>706</td>\n",
       "      <td>706</td>\n",
       "    </tr>\n",
       "    <tr>\n",
       "      <th>2</th>\n",
       "      <td>1581</td>\n",
       "      <td>1</td>\n",
       "      <td>1</td>\n",
       "      <td>1</td>\n",
       "      <td>1</td>\n",
       "      <td>1</td>\n",
       "      <td>1</td>\n",
       "      <td>1</td>\n",
       "      <td>1</td>\n",
       "      <td>1</td>\n",
       "      <td>...</td>\n",
       "      <td>1</td>\n",
       "      <td>1</td>\n",
       "      <td>1</td>\n",
       "      <td>1</td>\n",
       "      <td>1</td>\n",
       "      <td>1</td>\n",
       "      <td>1</td>\n",
       "      <td>1</td>\n",
       "      <td>1</td>\n",
       "      <td>1</td>\n",
       "    </tr>\n",
       "    <tr>\n",
       "      <th>3</th>\n",
       "      <td>1634</td>\n",
       "      <td>53</td>\n",
       "      <td>53</td>\n",
       "      <td>53</td>\n",
       "      <td>53</td>\n",
       "      <td>53</td>\n",
       "      <td>53</td>\n",
       "      <td>53</td>\n",
       "      <td>53</td>\n",
       "      <td>53</td>\n",
       "      <td>...</td>\n",
       "      <td>53</td>\n",
       "      <td>53</td>\n",
       "      <td>53</td>\n",
       "      <td>53</td>\n",
       "      <td>53</td>\n",
       "      <td>53</td>\n",
       "      <td>53</td>\n",
       "      <td>53</td>\n",
       "      <td>53</td>\n",
       "      <td>53</td>\n",
       "    </tr>\n",
       "    <tr>\n",
       "      <th>4</th>\n",
       "      <td>1676</td>\n",
       "      <td>28</td>\n",
       "      <td>28</td>\n",
       "      <td>28</td>\n",
       "      <td>28</td>\n",
       "      <td>28</td>\n",
       "      <td>28</td>\n",
       "      <td>28</td>\n",
       "      <td>28</td>\n",
       "      <td>28</td>\n",
       "      <td>...</td>\n",
       "      <td>28</td>\n",
       "      <td>28</td>\n",
       "      <td>28</td>\n",
       "      <td>28</td>\n",
       "      <td>28</td>\n",
       "      <td>28</td>\n",
       "      <td>28</td>\n",
       "      <td>28</td>\n",
       "      <td>28</td>\n",
       "      <td>28</td>\n",
       "    </tr>\n",
       "  </tbody>\n",
       "</table>\n",
       "<p>5 rows × 22 columns</p>\n",
       "</div>"
      ],
      "text/plain": [
       "   user  name   id  minutes  contributor_id  submitted  tags  n_steps  steps  \\\n",
       "0  1533   110  110      110             110        110   110      110    110   \n",
       "1  1535   706  706      706             706        706   706      706    706   \n",
       "2  1581     1    1        1               1          1     1        1      1   \n",
       "3  1634    53   53       53              53         53    53       53     53   \n",
       "4  1676    28   28       28              28         28    28       28     28   \n",
       "\n",
       "   description  ...  Calories (#)  Total Fat (PDV)  Sugar (PDV)  Sodium (PDV)  \\\n",
       "0          110  ...           110              110          110           110   \n",
       "1          706  ...           706              706          706           706   \n",
       "2            1  ...             1                1            1             1   \n",
       "3           53  ...            53               53           53            53   \n",
       "4           28  ...            28               28           28            28   \n",
       "\n",
       "   Protein (PDV)  Saturated Fat  Carbohydrates (PDV)  date  rate  rev  \n",
       "0            110            110                  110   110   110  110  \n",
       "1            706            706                  706   706   706  706  \n",
       "2              1              1                    1     1     1    1  \n",
       "3             53             53                   53    53    53   53  \n",
       "4             28             28                   28    28    28   28  \n",
       "\n",
       "[5 rows x 22 columns]"
      ]
     },
     "execution_count": 156,
     "metadata": {},
     "output_type": "execute_result"
    }
   ],
   "source": [
    "#Show user counts\n",
    "df2_usercount.head(5)"
   ]
  },
  {
   "cell_type": "markdown",
   "id": "acab637b-1056-498c-8dde-1a0e35c03eef",
   "metadata": {},
   "source": [
    "We only need one column and then combine it back to the original dataframe before we can sample and begin the modeling."
   ]
  },
  {
   "cell_type": "code",
   "execution_count": 158,
   "id": "21d0b2ec-2545-4cde-8804-4b59d106e250",
   "metadata": {},
   "outputs": [],
   "source": [
    "#Drop all columns but 1\n",
    "#Change count name\n",
    "#Add the count column to the main dataset\n",
    "df2_usercounta = df2_usercount[['user','name']]\n",
    "df2_usercounta.columns = ['user', 'count']\n",
    "df2_usercounta.sort_values('count')\n",
    "resultdf2 =df2_usercounta.merge(df2_clean,how=\"inner\",on=\"user\")\n"
   ]
  },
  {
   "cell_type": "code",
   "execution_count": 159,
   "id": "e1883a33-447a-4274-a6da-09db0730d0d4",
   "metadata": {},
   "outputs": [
    {
     "data": {
      "text/plain": [
       "(1003921, 23)"
      ]
     },
     "execution_count": 159,
     "metadata": {},
     "output_type": "execute_result"
    }
   ],
   "source": [
    "#View new dataset\n",
    "resultdf2\n",
    "resultdf2.shape"
   ]
  },
  {
   "cell_type": "code",
   "execution_count": 161,
   "id": "6db25eea-1d2d-4569-a32f-998e5aa99746",
   "metadata": {},
   "outputs": [
    {
     "data": {
      "text/html": [
       "<div>\n",
       "<style scoped>\n",
       "    .dataframe tbody tr th:only-of-type {\n",
       "        vertical-align: middle;\n",
       "    }\n",
       "\n",
       "    .dataframe tbody tr th {\n",
       "        vertical-align: top;\n",
       "    }\n",
       "\n",
       "    .dataframe thead th {\n",
       "        text-align: right;\n",
       "    }\n",
       "</style>\n",
       "<table border=\"1\" class=\"dataframe\">\n",
       "  <thead>\n",
       "    <tr style=\"text-align: right;\">\n",
       "      <th></th>\n",
       "      <th>user</th>\n",
       "      <th>count</th>\n",
       "      <th>name</th>\n",
       "      <th>id</th>\n",
       "      <th>minutes</th>\n",
       "      <th>contributor_id</th>\n",
       "      <th>submitted</th>\n",
       "      <th>tags</th>\n",
       "      <th>n_steps</th>\n",
       "      <th>steps</th>\n",
       "      <th>...</th>\n",
       "      <th>Calories (#)</th>\n",
       "      <th>Total Fat (PDV)</th>\n",
       "      <th>Sugar (PDV)</th>\n",
       "      <th>Sodium (PDV)</th>\n",
       "      <th>Protein (PDV)</th>\n",
       "      <th>Saturated Fat</th>\n",
       "      <th>Carbohydrates (PDV)</th>\n",
       "      <th>date</th>\n",
       "      <th>rate</th>\n",
       "      <th>rev</th>\n",
       "    </tr>\n",
       "  </thead>\n",
       "  <tbody>\n",
       "    <tr>\n",
       "      <th>0</th>\n",
       "      <td>1533</td>\n",
       "      <td>110</td>\n",
       "      <td>apricot mousse</td>\n",
       "      <td>68986</td>\n",
       "      <td>25</td>\n",
       "      <td>60989</td>\n",
       "      <td>2003-08-13</td>\n",
       "      <td>30minutesorless timetomake course mainingredient preparation for1or2 5ingredientsorless gelatin desserts fruit easy beginnercook puddingsandmousses dietary numberofservings presentation servedcold</td>\n",
       "      <td>9</td>\n",
       "      <td>put apricots in bowl and cover with boiling water set aside for 1 hour to soften place drained apricots in blender  add honey and blend until smooth in a small saucepan  dissolve gelatin in 2 tbls of water place on low heat and stir until all gelatin is dissolved combine cottage cheese and yogurt in a seperate bowl and whip until smooth pour yogurt mixture into a bowl and slowly stir in the gelatin  the fold in the apricot puree refrigerate for 1 hour before serving enjoy</td>\n",
       "      <td>...</td>\n",
       "      <td>1009.4</td>\n",
       "      <td>64.0</td>\n",
       "      <td>32.0</td>\n",
       "      <td>105.0</td>\n",
       "      <td>76.0</td>\n",
       "      <td>33.0</td>\n",
       "      <td>47.0</td>\n",
       "      <td>2003-09-28</td>\n",
       "      <td>5</td>\n",
       "      <td>I made this tonight and oh my it turned out very nice. it was smooth (i used the blender) very tasty and everyone enjoyed it.\\r\\nThanks Bekah. Its a keeper.</td>\n",
       "    </tr>\n",
       "    <tr>\n",
       "      <th>1</th>\n",
       "      <td>1533</td>\n",
       "      <td>110</td>\n",
       "      <td>bacon and cheese egg appetizers</td>\n",
       "      <td>31048</td>\n",
       "      <td>27</td>\n",
       "      <td>23302</td>\n",
       "      <td>2002-06-12</td>\n",
       "      <td>bacon 30minutesorless timetomake course mainingredient cuisine preparation occasion northamerican appetizers breakfast lunch eggsdairy pork american canadian southernunitedstates easy european dinnerparty fingerfood holidayevent kidfriendly picnic english cheese eggs stovetop dietary christmas newyears thanksgiving glutenfree californian pacificnorthwest independenceday northeasternunitedstates freeofsomething meat togo equipment presentation</td>\n",
       "      <td>4</td>\n",
       "      <td>using a knife cut the outside of the egg white just as far as the yolk  and carefully remove the egg white leaving the yolks intact mash the egg yolks and stir with the mayonnaise  bacon  vinegar  cheese  and salt fill the egg white halves with the mixture top with the crumbled bacon</td>\n",
       "      <td>...</td>\n",
       "      <td>472.1</td>\n",
       "      <td>43.0</td>\n",
       "      <td>146.0</td>\n",
       "      <td>3.0</td>\n",
       "      <td>13.0</td>\n",
       "      <td>44.0</td>\n",
       "      <td>17.0</td>\n",
       "      <td>2002-07-28</td>\n",
       "      <td>5</td>\n",
       "      <td>A tray of these barely made it to the table.\\r\\nI never new so many people liked stuffed eggs.\\r\\nI never changed a thing, just tripled the recipe. Very good recipe its a keeper.</td>\n",
       "    </tr>\n",
       "    <tr>\n",
       "      <th>2</th>\n",
       "      <td>1533</td>\n",
       "      <td>110</td>\n",
       "      <td>barley   potato soup</td>\n",
       "      <td>48475</td>\n",
       "      <td>80</td>\n",
       "      <td>38532</td>\n",
       "      <td>2002-12-12</td>\n",
       "      <td>weeknight timetomake course mainingredient preparation soupsstews vegetables dietary pastariceandgrains 4hoursorless</td>\n",
       "      <td>6</td>\n",
       "      <td>bring the broth to a boil and add the barley stir  then let simmer for 30 minutes  covered meanwhile  heat the olive oil and butter in a saute pan over medium heat add the onion  celery  garlic  parsley  red pepper flakes  and the remaining herbs and saute until the vegetables are softened but not browned when the barley has cooked for 30 minutes  add this mixture to it along with the carrots and potatoes cook everything together at a simmer for another 30 minutes serve with a generous sprinkle of parmesan on top</td>\n",
       "      <td>...</td>\n",
       "      <td>520.0</td>\n",
       "      <td>12.0</td>\n",
       "      <td>6.0</td>\n",
       "      <td>64.0</td>\n",
       "      <td>54.0</td>\n",
       "      <td>13.0</td>\n",
       "      <td>28.0</td>\n",
       "      <td>2003-09-23</td>\n",
       "      <td>4</td>\n",
       "      <td>This soup was very good, I do agree it needs a little more barley and broth. I will make it again, Thanks</td>\n",
       "    </tr>\n",
       "    <tr>\n",
       "      <th>3</th>\n",
       "      <td>1533</td>\n",
       "      <td>110</td>\n",
       "      <td>basic beer batter</td>\n",
       "      <td>114839</td>\n",
       "      <td>1450</td>\n",
       "      <td>195447</td>\n",
       "      <td>2005-03-31</td>\n",
       "      <td>timetomake course preparation condimentsetc 1dayormore dietary lowsodium cookingmixes lowinsomething</td>\n",
       "      <td>4</td>\n",
       "      <td>combine all dry ingredients add liquid ingredients and mix well allow batter to chill in refrigerator for a least 1 hour before using dip food in batter and place into hot oil</td>\n",
       "      <td>...</td>\n",
       "      <td>238.0</td>\n",
       "      <td>17.0</td>\n",
       "      <td>57.0</td>\n",
       "      <td>9.0</td>\n",
       "      <td>13.0</td>\n",
       "      <td>11.0</td>\n",
       "      <td>9.0</td>\n",
       "      <td>2005-04-18</td>\n",
       "      <td>5</td>\n",
       "      <td>I used this on halibut last night, I make homemade fish and chips.\\r\\nThe taste was great the beer was not overpowering. thanks so much for posting. Its a keeper.</td>\n",
       "    </tr>\n",
       "    <tr>\n",
       "      <th>4</th>\n",
       "      <td>1533</td>\n",
       "      <td>110</td>\n",
       "      <td>basil garlic butter</td>\n",
       "      <td>32311</td>\n",
       "      <td>15</td>\n",
       "      <td>35193</td>\n",
       "      <td>2002-06-26</td>\n",
       "      <td>15minutesorless timetomake course cuisine preparation occasion northamerican lowprotein 5ingredientsorless verylowcarbs condimentsetc american easy nocook refrigerator dinnerparty spring summer vegetarian freezer dietary lowsodium seasonal pacificnorthwest lowcarb inexpensive lowinsomething equipment numberofservings technique</td>\n",
       "      <td>6</td>\n",
       "      <td>place the butter in a mixing bowl add basil  garlic  and cheese and whip with an electric mixer until mixture is smooth and evenly blended add salt to taste pack butter into four crocks allow flavors to blend for at least 4 hours before serving can be frozen for up to 3 months</td>\n",
       "      <td>...</td>\n",
       "      <td>404.7</td>\n",
       "      <td>41.0</td>\n",
       "      <td>9.0</td>\n",
       "      <td>10.0</td>\n",
       "      <td>44.0</td>\n",
       "      <td>54.0</td>\n",
       "      <td>2.0</td>\n",
       "      <td>2005-03-30</td>\n",
       "      <td>5</td>\n",
       "      <td>Hi Ginny, I make this all the time now and have it in the freezer. Its great for the bbq and i love adding it to mashed potatoed.. there is so many uses for it, thanks.</td>\n",
       "    </tr>\n",
       "  </tbody>\n",
       "</table>\n",
       "<p>5 rows × 23 columns</p>\n",
       "</div>"
      ],
      "text/plain": [
       "   user  count                             name      id  minutes  \\\n",
       "0  1533    110                   apricot mousse   68986       25   \n",
       "1  1533    110  bacon and cheese egg appetizers   31048       27   \n",
       "2  1533    110             barley   potato soup   48475       80   \n",
       "3  1533    110                basic beer batter  114839     1450   \n",
       "4  1533    110              basil garlic butter   32311       15   \n",
       "\n",
       "   contributor_id   submitted  \\\n",
       "0           60989  2003-08-13   \n",
       "1           23302  2002-06-12   \n",
       "2           38532  2002-12-12   \n",
       "3          195447  2005-03-31   \n",
       "4           35193  2002-06-26   \n",
       "\n",
       "                                                                                                                                                                                                                                                                                                                                                                                                                                                             tags  \\\n",
       "0                                                                                                                                                                                                                                                            30minutesorless timetomake course mainingredient preparation for1or2 5ingredientsorless gelatin desserts fruit easy beginnercook puddingsandmousses dietary numberofservings presentation servedcold   \n",
       "1  bacon 30minutesorless timetomake course mainingredient cuisine preparation occasion northamerican appetizers breakfast lunch eggsdairy pork american canadian southernunitedstates easy european dinnerparty fingerfood holidayevent kidfriendly picnic english cheese eggs stovetop dietary christmas newyears thanksgiving glutenfree californian pacificnorthwest independenceday northeasternunitedstates freeofsomething meat togo equipment presentation   \n",
       "2                                                                                                                                                                                                                                                                                                                                            weeknight timetomake course mainingredient preparation soupsstews vegetables dietary pastariceandgrains 4hoursorless   \n",
       "3                                                                                                                                                                                                                                                                                                                                                            timetomake course preparation condimentsetc 1dayormore dietary lowsodium cookingmixes lowinsomething   \n",
       "4                                                                                                                        15minutesorless timetomake course cuisine preparation occasion northamerican lowprotein 5ingredientsorless verylowcarbs condimentsetc american easy nocook refrigerator dinnerparty spring summer vegetarian freezer dietary lowsodium seasonal pacificnorthwest lowcarb inexpensive lowinsomething equipment numberofservings technique   \n",
       "\n",
       "   n_steps  \\\n",
       "0        9   \n",
       "1        4   \n",
       "2        6   \n",
       "3        4   \n",
       "4        6   \n",
       "\n",
       "                                                                                                                                                                                                                                                                                                                                                                                                                                                                                                                                    steps  \\\n",
       "0                                           put apricots in bowl and cover with boiling water set aside for 1 hour to soften place drained apricots in blender  add honey and blend until smooth in a small saucepan  dissolve gelatin in 2 tbls of water place on low heat and stir until all gelatin is dissolved combine cottage cheese and yogurt in a seperate bowl and whip until smooth pour yogurt mixture into a bowl and slowly stir in the gelatin  the fold in the apricot puree refrigerate for 1 hour before serving enjoy    \n",
       "1                                                                                                                                                                                                                                            using a knife cut the outside of the egg white just as far as the yolk  and carefully remove the egg white leaving the yolks intact mash the egg yolks and stir with the mayonnaise  bacon  vinegar  cheese  and salt fill the egg white halves with the mixture top with the crumbled bacon   \n",
       "2  bring the broth to a boil and add the barley stir  then let simmer for 30 minutes  covered meanwhile  heat the olive oil and butter in a saute pan over medium heat add the onion  celery  garlic  parsley  red pepper flakes  and the remaining herbs and saute until the vegetables are softened but not browned when the barley has cooked for 30 minutes  add this mixture to it along with the carrots and potatoes cook everything together at a simmer for another 30 minutes serve with a generous sprinkle of parmesan on top   \n",
       "3                                                                                                                                                                                                                                                                                                                                                         combine all dry ingredients add liquid ingredients and mix well allow batter to chill in refrigerator for a least 1 hour before using dip food in batter and place into hot oil   \n",
       "4                                                                                                                                                                                                                                                   place the butter in a mixing bowl add basil  garlic  and cheese and whip with an electric mixer until mixture is smooth and evenly blended add salt to taste pack butter into four crocks allow flavors to blend for at least 4 hours before serving can be frozen for up to 3 months   \n",
       "\n",
       "   ... Calories (#) Total Fat (PDV)  Sugar (PDV)  Sodium (PDV)  Protein (PDV)  \\\n",
       "0  ...       1009.4            64.0         32.0         105.0           76.0   \n",
       "1  ...        472.1            43.0        146.0           3.0           13.0   \n",
       "2  ...        520.0            12.0          6.0          64.0           54.0   \n",
       "3  ...        238.0            17.0         57.0           9.0           13.0   \n",
       "4  ...        404.7            41.0          9.0          10.0           44.0   \n",
       "\n",
       "   Saturated Fat  Carbohydrates (PDV)        date  rate  \\\n",
       "0           33.0                 47.0  2003-09-28     5   \n",
       "1           44.0                 17.0  2002-07-28     5   \n",
       "2           13.0                 28.0  2003-09-23     4   \n",
       "3           11.0                  9.0  2005-04-18     5   \n",
       "4           54.0                  2.0  2005-03-30     5   \n",
       "\n",
       "                                                                                                                                                                                  rev  \n",
       "0                        I made this tonight and oh my it turned out very nice. it was smooth (i used the blender) very tasty and everyone enjoyed it.\\r\\nThanks Bekah. Its a keeper.  \n",
       "1  A tray of these barely made it to the table.\\r\\nI never new so many people liked stuffed eggs.\\r\\nI never changed a thing, just tripled the recipe. Very good recipe its a keeper.  \n",
       "2                                                                          This soup was very good, I do agree it needs a little more barley and broth. I will make it again, Thanks   \n",
       "3                  I used this on halibut last night, I make homemade fish and chips.\\r\\nThe taste was great the beer was not overpowering. thanks so much for posting. Its a keeper.  \n",
       "4            Hi Ginny, I make this all the time now and have it in the freezer. Its great for the bbq and i love adding it to mashed potatoed.. there is so many uses for it, thanks.  \n",
       "\n",
       "[5 rows x 23 columns]"
      ]
     },
     "execution_count": 161,
     "metadata": {},
     "output_type": "execute_result"
    }
   ],
   "source": [
    "#View new data values\n",
    "resultdf2.head(5)"
   ]
  },
  {
   "cell_type": "code",
   "execution_count": 164,
   "id": "442636ba-d2be-4e30-b618-2264741d4aca",
   "metadata": {},
   "outputs": [
    {
     "data": {
      "image/png": "[encoded data removed]",
      "text/plain": [
       "<Figure size 720x432 with 1 Axes>"
      ]
     },
     "metadata": {
      "needs_background": "light"
     },
     "output_type": "display_data"
    }
   ],
   "source": [
    "# Create a new column for the length of the recipe name\n",
    "resultdf2['recipe_name_length'] = resultdf2['name'].str.len()\n",
    "\n",
    "# Plot a histogram of recipe name lengths\n",
    "plt.figure(figsize=(10,6))\n",
    "plt.hist(resultdf2['recipe_name_length'], bins=20, color='skyblue', edgecolor='black')\n",
    "plt.title('Histogram of Recipe Name Lengths')\n",
    "plt.xlabel('Length of Recipe Name')\n",
    "plt.ylabel('Frequency')\n",
    "plt.show()\n",
    "\n"
   ]
  },
  {
   "cell_type": "markdown",
   "id": "4bad54ed-06ee-4e58-9370-7163e7a55d58",
   "metadata": {},
   "source": [
    "A few reasons why I wanted to show the distribution for name.\n",
    "\n",
    "1. I wanted to collect all the information about each set, combine it and then provide more basic EDA on the actual set.\n",
    "2. first model relies heavely on the name column\n",
    "\n",
    "\n",
    "\n",
    "The purpose of visualizing the distribution of name lengths in a dataset of recipes may not have immediate apparent value for recipe analysis. However, it can still serve a few potential purposes depending on what the analysis aims to achieve:\n",
    "\n",
    "**Text Analysis:** If you're doing a text analysis, knowing the length of the names could be useful. For instance, shorter names might be easier to remember or more attractive to users. If there's a noticeable difference in popularity or ratings between recipes with short names and those with long names, that could be an interesting finding.\n",
    "\n",
    "**Feature Engineering:** The length of the name could potentially be used as a feature in a machine learning model. It's not necessarily the case that it would be a useful feature, but visualizing the distribution of lengths could be a part of the exploratory data analysis process to understand more about the dataset."
   ]
  },
  {
   "cell_type": "code",
   "execution_count": 176,
   "id": "5ce31f7f-231d-472c-bbdb-e3eabc9e2ac1",
   "metadata": {},
   "outputs": [
    {
     "name": "stdout",
     "output_type": "stream",
     "text": [
      "[1009.4  472.1  520.  ... 2652.  2744.6 3337.2]\n"
     ]
    },
    {
     "data": {
      "text/plain": [
       "dtype('float64')"
      ]
     },
     "execution_count": 176,
     "metadata": {},
     "output_type": "execute_result"
    }
   ],
   "source": [
    "print(resultdf2['Calories (#)'].unique())\n",
    "resultdf2['Calories (#)'].dtype\n"
   ]
  },
  {
   "cell_type": "code",
   "execution_count": 177,
   "id": "2ddc2bdc-c942-4d92-aa61-ff650e36813e",
   "metadata": {},
   "outputs": [],
   "source": [
    "#making sure the calories column is numeric\n",
    "resultdf2['Calories (#)'] = pd.to_numeric(resultdf2['Calories (#)'], errors='coerce')\n"
   ]
  },
  {
   "cell_type": "code",
   "execution_count": 200,
   "id": "c0bf2102-19c3-4eee-9f53-bf6f53b167e0",
   "metadata": {
    "collapsed": true,
    "jupyter": {
     "outputs_hidden": true
    },
    "tags": []
   },
   "outputs": [
    {
     "name": "stdout",
     "output_type": "stream",
     "text": [
      "[3.200e+01 1.460e+02 6.000e+00 ... 1.965e+03 8.360e+03 1.105e+03]\n",
      "[1.0500e+02 3.0000e+00 6.4000e+01 9.0000e+00 1.0000e+01 1.5000e+01\n",
      " 1.4200e+02 1.7000e+01 0.0000e+00 2.7000e+01 2.0000e+00 7.0000e+00\n",
      " 6.0000e+00 1.9000e+01 4.0000e+00 2.2000e+01 1.2000e+01 3.5000e+01\n",
      " 3.1000e+01 4.0000e+01 5.4000e+01 2.1000e+01 3.7000e+01 1.0000e+00\n",
      " 7.3000e+01 6.0000e+01 7.1000e+01 2.5000e+01 1.1700e+02 4.1000e+01\n",
      " 4.3000e+01 4.4000e+01 8.0000e+00 1.1000e+01 5.0000e+00 1.4000e+01\n",
      " 6.2000e+01 8.1000e+01 2.4000e+01 5.1000e+01 9.0000e+01 1.6000e+01\n",
      " 8.6000e+01 6.3000e+01 4.5000e+01 8.3000e+01 5.6000e+01 2.6000e+01\n",
      " 2.9000e+01 8.8000e+01 7.2000e+01 1.3000e+01 3.6000e+01 4.9000e+01\n",
      " 8.0000e+01 3.8000e+01 2.8000e+01 9.9000e+01 3.0000e+01 1.5200e+02\n",
      " 1.2700e+02 8.5000e+01 4.8000e+01 6.7000e+01 1.8000e+01 1.0100e+02\n",
      " 5.3000e+01 1.2300e+02 7.9000e+01 7.0000e+01 6.1000e+01 7.7000e+01\n",
      " 3.3000e+01 8.7000e+01 2.9700e+02 3.2000e+01 1.0300e+02 9.7000e+01\n",
      " 1.1600e+02 3.4000e+01 5.5000e+01 2.0000e+01 6.6000e+01 4.2000e+01\n",
      " 1.7900e+02 5.7000e+01 2.4600e+02 3.9000e+01 7.4000e+01 4.6000e+01\n",
      " 2.5800e+02 2.3000e+01 5.8000e+01 1.3400e+02 6.2000e+02 1.3600e+02\n",
      " 5.2000e+01 6.8000e+01 1.1200e+02 5.0000e+01 2.2700e+02 6.9000e+01\n",
      " 6.5000e+01 7.5000e+01 4.5700e+02 4.3800e+02 4.7000e+01 2.3500e+02\n",
      " 1.1800e+02 2.4500e+02 1.0200e+02 8.2000e+01 9.2000e+01 1.0000e+02\n",
      " 5.9000e+01 6.9400e+02 7.8000e+01 2.0000e+02 7.6000e+01 3.4900e+02\n",
      " 2.9300e+02 4.2300e+02 1.2000e+02 1.4500e+02 2.8300e+02 2.3580e+03\n",
      " 1.1000e+02 9.5000e+01 1.4800e+02 1.0400e+02 1.3300e+02 1.3000e+02\n",
      " 8.4000e+01 9.4000e+01 1.4300e+02 1.3900e+02 6.7100e+02 1.8200e+02\n",
      " 1.7600e+02 9.8000e+01 1.6500e+02 1.2200e+02 2.8400e+02 3.3500e+02\n",
      " 1.0900e+02 2.4300e+02 8.9000e+01 1.7000e+02 4.7200e+02 1.7300e+02\n",
      " 3.7900e+02 1.6600e+02 2.0400e+02 1.5500e+02 2.7400e+02 2.1500e+02\n",
      " 1.4000e+02 1.1100e+02 1.4900e+02 1.0700e+02 1.4100e+02 1.3800e+02\n",
      " 1.3100e+02 1.6700e+02 1.9900e+02 2.1400e+02 2.1000e+02 1.2600e+02\n",
      " 1.1400e+02 5.9300e+02 3.4000e+02 1.6400e+02 9.3000e+01 1.4700e+02\n",
      " 2.6000e+02 1.9800e+02 1.5600e+02 1.5700e+02 1.0800e+02 1.1500e+02\n",
      " 2.5200e+02 3.4920e+03 1.9400e+02 1.6800e+02 2.4700e+02 1.6900e+02\n",
      " 9.6000e+01 1.3500e+02 9.1000e+01 2.2900e+02 2.3200e+02 1.5300e+02\n",
      " 2.9100e+02 1.2500e+02 1.2200e+03 3.2900e+02 1.2800e+02 2.9500e+02\n",
      " 3.8400e+02 2.2800e+02 4.3300e+02 1.3700e+02 1.2100e+02 1.8400e+02\n",
      " 1.1300e+02 3.8800e+02 1.7100e+02 2.1900e+02 3.6800e+02 4.6700e+02\n",
      " 5.8100e+02 1.4600e+02 2.0300e+02 1.8500e+02 1.5100e+02 2.1200e+02\n",
      " 1.8900e+02 4.4100e+02 3.9300e+02 2.3270e+03 1.1900e+02 2.3700e+02\n",
      " 2.1600e+02 1.9600e+02 3.6400e+02 1.5800e+02 5.8300e+02 1.9300e+02\n",
      " 1.6300e+02 2.7000e+02 6.0400e+02 2.0600e+02 4.3500e+02 2.6500e+02\n",
      " 1.2400e+02 2.4100e+02 4.8500e+02 1.6000e+02 2.2000e+02 2.5300e+02\n",
      " 5.5090e+03 2.1800e+02 3.1900e+02 8.7400e+02 2.5000e+02 4.0400e+02\n",
      " 2.2500e+02 7.8800e+02 1.5000e+02 3.0100e+02 1.0600e+02 4.2200e+02\n",
      " 4.0300e+02 4.7310e+03 1.0180e+03 6.1800e+02 3.5500e+02 2.0800e+02\n",
      " 9.4400e+02 2.0500e+02 1.5900e+02 1.8600e+02 1.7700e+02 1.9000e+02\n",
      " 7.1300e+02 2.6200e+02 1.8000e+02 1.2390e+03 8.0200e+02 3.0500e+02\n",
      " 1.8700e+02 2.8800e+02 7.9700e+02 2.9200e+02 1.7400e+02 1.3200e+02\n",
      " 1.4400e+02 3.0200e+02 2.2300e+02 3.6300e+02 2.2400e+02 1.2900e+02\n",
      " 3.5400e+02 8.5000e+02 1.5400e+02 3.2400e+02 3.2700e+02 2.9000e+02\n",
      " 2.2100e+02 3.0700e+02 6.4500e+02 1.5730e+03 3.7300e+02 1.6100e+02\n",
      " 2.2600e+02 9.4430e+03 2.7100e+02 8.0600e+02 7.7600e+02 1.7500e+02\n",
      " 3.3800e+02 8.2900e+02 1.7800e+02 5.9000e+02 3.2100e+02 8.5800e+02\n",
      " 2.5700e+02 1.9200e+02 6.3000e+02 3.7700e+02 4.0000e+02 4.8800e+02\n",
      " 4.8000e+02 3.8300e+02 5.2300e+02 1.9700e+02 2.3800e+02 2.9400e+02\n",
      " 2.6800e+02 1.9100e+02 3.7200e+02 1.6200e+02 3.3600e+02 2.3100e+02\n",
      " 2.8700e+02 2.3730e+03 4.9800e+02 4.7740e+03 3.4800e+02 3.1700e+02\n",
      " 1.1790e+03 3.6100e+02 2.7200e+02 3.3400e+02 7.6500e+02 2.4400e+02\n",
      " 4.5540e+03 4.5500e+02 2.1300e+02 2.5900e+02 2.8900e+02 3.0400e+02\n",
      " 1.8300e+02 2.6400e+02 4.9500e+02 4.6900e+02 2.3900e+02 1.8100e+02\n",
      " 2.3590e+03 7.0500e+02 4.9900e+02 4.7150e+03 3.8600e+02 3.3700e+02\n",
      " 2.0700e+02 2.7050e+03 2.4440e+03 4.1400e+02 2.6940e+03 2.8200e+02\n",
      " 5.9500e+02 2.0200e+02 3.7100e+02 3.3200e+02 5.8400e+02 9.9000e+02\n",
      " 3.5000e+02 4.3400e+02 4.3000e+02 4.6800e+02 6.3100e+02 2.5500e+02\n",
      " 1.7200e+02 3.6200e+02 4.1100e+02 1.1800e+03 3.1000e+02 5.0000e+02\n",
      " 2.3300e+02 6.7000e+02 2.5600e+02 3.8700e+02 7.6000e+02 5.1900e+02\n",
      " 3.0600e+02 3.4400e+02 4.3700e+02 2.7700e+02 2.0850e+03 4.1900e+02\n",
      " 8.8400e+02 2.3650e+03 2.0900e+02 6.1700e+02 5.9200e+02 3.4200e+02\n",
      " 3.9400e+02 1.1650e+03 5.1000e+02 4.2400e+02 1.5710e+03 1.1940e+03\n",
      " 3.9100e+02 4.4000e+02 1.1710e+03 9.1700e+02 3.1500e+02 1.1890e+03\n",
      " 9.7000e+02 1.5280e+03 2.6340e+03 4.6100e+02 8.6800e+02 2.0100e+02\n",
      " 2.2200e+02 3.5100e+02 1.8800e+02 1.3420e+03 4.3900e+02 1.9500e+02\n",
      " 6.0700e+02 6.7400e+02 2.1100e+02 2.5100e+02 3.7500e+02 6.6900e+02\n",
      " 4.7300e+02 5.8200e+02 9.3100e+02 2.6600e+02 4.6500e+02 8.7500e+02\n",
      " 1.1630e+03 6.1900e+02 1.2950e+03 5.9600e+02 2.7300e+02 7.9800e+02\n",
      " 5.1500e+02 6.1400e+02 4.5100e+02 3.2600e+02 3.5410e+03 2.6700e+02\n",
      " 8.7100e+02 2.4800e+02 4.3200e+02 6.1500e+02 5.0700e+02 7.7700e+02\n",
      " 2.4000e+02 2.7600e+02 4.1500e+02 1.7530e+03 6.2800e+02 2.6300e+03\n",
      " 2.8000e+02 7.1500e+02 4.4400e+02 2.3600e+03 2.1700e+02 4.8600e+02\n",
      " 3.9000e+02 5.2500e+02 4.2100e+02 5.8900e+02 3.9700e+02 7.8900e+02\n",
      " 4.8100e+02 7.8400e+02 4.0540e+03 4.6300e+02 6.8600e+02 3.3900e+02\n",
      " 3.0000e+02 5.0200e+02 2.3000e+02 5.4200e+02 4.0500e+02 2.8100e+02\n",
      " 1.2130e+03 2.3680e+03 4.2700e+02 4.0380e+03 2.4200e+02 4.4500e+02\n",
      " 6.0000e+02 4.8300e+02 5.3300e+02 2.7800e+02 2.9600e+02 4.1800e+02\n",
      " 6.0200e+02 6.3800e+02 9.8500e+02 1.3240e+03 3.1800e+02 3.6510e+03\n",
      " 2.3400e+02 3.1200e+02 8.1000e+02 4.0100e+02 3.6600e+02 2.3600e+02\n",
      " 3.2000e+02 3.4310e+03 4.0600e+02 3.2500e+02 3.8900e+02 1.6690e+03\n",
      " 1.1830e+03 4.0200e+02 2.3250e+03 4.4300e+02 9.4600e+02 5.1700e+02\n",
      " 3.3100e+02 3.7000e+02 6.1200e+02 3.2200e+02 4.6500e+03 2.6100e+02\n",
      " 2.9800e+02 4.7540e+03 3.2300e+02 1.7700e+03 4.8200e+02 5.1400e+02\n",
      " 5.0300e+02 2.0670e+03 1.6950e+03 3.5700e+02 1.1810e+03 6.0100e+02\n",
      " 8.7600e+02 3.1600e+02 3.5400e+03 5.9400e+02 5.4600e+02 4.4700e+02\n",
      " 1.5180e+03 2.4900e+02 4.4900e+02 2.6300e+02 4.7600e+02 4.7160e+03\n",
      " 4.3100e+02 3.8500e+02 7.3330e+03 4.2900e+02 1.2930e+03 1.1870e+03\n",
      " 2.7900e+02 3.1440e+03 2.8500e+02 9.3030e+03 2.3820e+03 4.1700e+02\n",
      " 2.8600e+02 7.3100e+02 5.5800e+02 3.3000e+02 4.9020e+03 8.0400e+02\n",
      " 1.2380e+03 8.2500e+02 3.1100e+02 5.9700e+02 3.1470e+03 1.6460e+03\n",
      " 5.5500e+02 9.4000e+02 5.5100e+02 2.5400e+02 3.1460e+03 1.5720e+03\n",
      " 4.4800e+02 7.1200e+02 3.5200e+02 1.3480e+03 3.1300e+02 3.0300e+02\n",
      " 6.7200e+02 2.9900e+02 2.3860e+03 2.3620e+03 7.7500e+02 4.6200e+02\n",
      " 7.7200e+02 4.6400e+02 6.4300e+02 7.8300e+02 6.0800e+02 2.3690e+03\n",
      " 3.5600e+02 3.4500e+02 1.7780e+03 4.7270e+03 6.4100e+02 8.1500e+02\n",
      " 1.8370e+03 4.7200e+03 3.5900e+02 4.8400e+02 5.9100e+02 7.4200e+02\n",
      " 1.1780e+03 3.2800e+02 7.0940e+03 1.3320e+03 2.3610e+03 7.9900e+02\n",
      " 1.5510e+03 1.7490e+03 2.7500e+02 3.7400e+02 5.3200e+02 7.9200e+02\n",
      " 2.3800e+03 6.7300e+02 2.5380e+03 6.0500e+02 1.5930e+03 6.9500e+02\n",
      " 4.0700e+02 3.9500e+02 5.3400e+02 2.5540e+03 1.7720e+03 5.8600e+02\n",
      " 3.6000e+02 5.3100e+02 3.5370e+03 1.1900e+03 3.5800e+02 1.2090e+03\n",
      " 6.8400e+02 2.3570e+03 3.1400e+02 3.6900e+02 4.7500e+02 6.5700e+02\n",
      " 1.4380e+03 5.6300e+02 3.9900e+02 5.5400e+02 7.3300e+02 8.8700e+02\n",
      " 3.4100e+02 8.7300e+02 5.7700e+02 7.8600e+02 2.9338e+04 3.8200e+02\n",
      " 6.2500e+02 8.7900e+02 4.1200e+02 6.6300e+02 2.4330e+03 4.0900e+02\n",
      " 6.9800e+02 7.9300e+02 8.2300e+02 8.8600e+02 1.2000e+03 1.2180e+03\n",
      " 6.4800e+02 7.5400e+02 7.0800e+02 5.8500e+02 5.2000e+02 1.4010e+03\n",
      " 7.5000e+02 1.1640e+03 2.3280e+03 5.8700e+02 3.7800e+02 7.2100e+02\n",
      " 4.5200e+02 1.4780e+03 2.1990e+03 3.3300e+02 7.9100e+02 8.9600e+02\n",
      " 5.4900e+02 5.3500e+02 2.3910e+03 1.0050e+03 5.9900e+02 3.0800e+02\n",
      " 5.2900e+02 2.5270e+03 4.7900e+02 5.0500e+02 5.5200e+02 6.0600e+02\n",
      " 7.8700e+02 4.7800e+02 5.1800e+02 9.3200e+02 7.0880e+03 2.4160e+03\n",
      " 2.6900e+02 1.3090e+03 1.3400e+03 7.4000e+02 4.1600e+02 4.1300e+02\n",
      " 3.6500e+02 1.1130e+03 3.7720e+03 5.6800e+02 1.8070e+03 3.4610e+03\n",
      " 8.1400e+02 2.0270e+03 1.1920e+03 4.7170e+03 8.9300e+02 3.4600e+02\n",
      " 8.0900e+02 1.7440e+03 3.6700e+02 1.2480e+03 9.9900e+02 4.9200e+02\n",
      " 3.9200e+02 5.7100e+02 4.8900e+02 1.2770e+03 1.0000e+03 5.6100e+02\n",
      " 1.2360e+03 6.6400e+02 4.4600e+02 4.6520e+03 6.2700e+02 3.0900e+02\n",
      " 6.7600e+02 1.1690e+03 7.9000e+02 2.3640e+03 5.9800e+02 7.8500e+02\n",
      " 7.7100e+02 2.3790e+03 1.1860e+03 7.3800e+02 3.9600e+02 5.3800e+02\n",
      " 2.4080e+03 4.7230e+03 6.9200e+02 2.4050e+03 5.5600e+02 1.1850e+03\n",
      " 1.0190e+03 3.0970e+03 5.6200e+02 6.3900e+02 1.1910e+03 6.3300e+02\n",
      " 1.1880e+03 5.0400e+02 3.5390e+03 9.0200e+02 1.8930e+03 7.8200e+02\n",
      " 1.7550e+03 6.9900e+02 1.0340e+03 1.2050e+03 3.8100e+02 1.0677e+04\n",
      " 9.2400e+02 1.4664e+04 1.2250e+03 4.3600e+02 8.4300e+02 8.2600e+02\n",
      " 7.5300e+02 4.4400e+03 2.8790e+03 4.2500e+02 4.1000e+02]\n",
      "[7.600e+01 1.300e+01 5.400e+01 4.400e+01 1.100e+01 2.000e+00 1.210e+02\n",
      " 4.000e+00 0.000e+00 3.900e+01 1.000e+00 3.500e+01 2.100e+01 8.000e+00\n",
      " 1.800e+01 9.000e+00 4.600e+01 6.100e+01 6.000e+00 9.800e+01 6.200e+01\n",
      " 5.600e+01 5.800e+01 1.800e+02 1.600e+01 2.800e+01 3.000e+00 7.000e+00\n",
      " 9.500e+01 1.000e+01 5.000e+00 8.200e+01 4.000e+01 9.300e+01 1.700e+01\n",
      " 6.700e+01 3.400e+01 1.200e+01 2.200e+01 1.270e+02 7.100e+01 7.200e+01\n",
      " 4.100e+01 3.700e+01 5.500e+01 1.170e+02 2.700e+01 2.500e+01 2.000e+01\n",
      " 1.500e+01 2.300e+01 1.900e+01 5.100e+01 1.310e+02 6.900e+01 1.400e+01\n",
      " 4.900e+01 5.000e+01 3.000e+01 3.200e+01 1.020e+02 5.300e+01 9.900e+01\n",
      " 2.600e+01 6.300e+01 1.050e+02 1.580e+02 7.300e+01 1.330e+02 1.080e+02\n",
      " 1.030e+02 1.010e+02 1.470e+02 9.400e+01 4.300e+01 6.800e+01 1.130e+02\n",
      " 3.100e+01 6.000e+01 2.900e+01 1.340e+02 1.280e+02 5.200e+01 7.400e+01\n",
      " 7.800e+01 6.500e+01 8.400e+01 1.140e+02 9.600e+01 7.000e+01 1.000e+02\n",
      " 1.190e+02 3.600e+01 1.070e+02 6.600e+01 3.300e+01 2.210e+02 9.200e+01\n",
      " 1.040e+02 5.700e+01 8.300e+01 1.480e+02 4.800e+01 1.260e+02 1.750e+02\n",
      " 1.370e+02 3.800e+01 4.700e+01 6.400e+01 8.500e+01 8.100e+01 2.250e+02\n",
      " 1.180e+02 8.000e+01 1.220e+02 4.500e+01 7.700e+01 1.510e+02 2.170e+02\n",
      " 8.700e+01 4.200e+01 2.400e+01 9.100e+01 1.430e+02 8.900e+01 2.050e+02\n",
      " 7.900e+01 1.360e+02 1.230e+02 5.900e+01 1.740e+02 4.050e+02 1.300e+02\n",
      " 9.700e+01 1.930e+02 1.240e+02 1.390e+02 8.600e+01 1.290e+02 8.800e+01\n",
      " 1.400e+02 6.320e+02 1.550e+02 1.120e+02 1.100e+02 1.060e+02 7.500e+01\n",
      " 1.150e+02 1.640e+02 1.720e+02 1.110e+02 5.170e+02 1.320e+02 2.230e+02\n",
      " 8.970e+02 1.380e+02 2.180e+02 2.130e+02 2.080e+02 1.630e+02 1.200e+02\n",
      " 1.160e+02 2.020e+02 1.520e+02 1.420e+02 1.870e+02 2.380e+02 1.250e+02\n",
      " 1.970e+02 1.920e+02 9.000e+01 1.440e+02 1.490e+02 1.090e+02 2.370e+02\n",
      " 3.450e+02 1.700e+02 1.590e+02 2.450e+02 1.690e+02 2.310e+02 1.620e+02\n",
      " 1.350e+02 1.950e+02 2.300e+02 2.330e+02 4.570e+02 3.380e+02 1.450e+02\n",
      " 3.060e+02 1.530e+02 4.440e+02 1.790e+02 3.990e+02 1.660e+02 2.200e+02\n",
      " 1.890e+02 3.750e+02 1.500e+02 1.770e+02 1.460e+02 2.280e+02 1.730e+02\n",
      " 1.880e+02 2.470e+02 3.510e+02 2.980e+02 1.560e+02 1.900e+02 1.810e+02\n",
      " 1.860e+02 1.540e+02 1.410e+02 4.060e+02 3.050e+02 3.030e+02 1.600e+02\n",
      " 3.000e+02 2.390e+02 2.010e+02 3.910e+02 3.440e+02 2.840e+02 3.180e+02\n",
      " 2.090e+02 1.960e+02 3.710e+02 4.480e+02 1.710e+02 1.670e+02 1.830e+02\n",
      " 2.870e+02 2.570e+02 2.340e+02 3.130e+02 3.810e+02 2.190e+02 3.220e+02\n",
      " 2.640e+02 3.230e+02 7.950e+02 2.040e+02 3.140e+02 1.650e+02 2.000e+02\n",
      " 2.510e+02 2.790e+02 2.240e+02 1.850e+02 3.268e+03 2.690e+02 3.250e+02\n",
      " 2.030e+02 2.920e+02 3.600e+02 1.980e+02 2.720e+02 2.220e+02 5.240e+02\n",
      " 1.760e+02 2.440e+02 1.820e+02 2.160e+02 1.990e+02 1.465e+03 1.610e+02\n",
      " 3.020e+02 2.560e+02 1.680e+02 3.640e+02 2.097e+03 2.610e+02 2.420e+02\n",
      " 3.830e+02 2.780e+02 2.120e+02 3.720e+02 3.630e+02 3.870e+02 2.850e+02\n",
      " 2.490e+02 2.960e+02 2.820e+02 2.550e+02 1.380e+03 3.160e+02 1.570e+02\n",
      " 5.350e+02 2.410e+02 2.140e+02 2.540e+02 4.080e+02 2.950e+02 4.510e+02\n",
      " 2.700e+02 3.580e+02 4.190e+02 3.880e+02 3.210e+02 2.860e+02 2.580e+02\n",
      " 2.060e+02 3.080e+02 1.910e+02 5.250e+02 9.160e+02 9.360e+02 2.800e+02\n",
      " 3.420e+02 2.110e+02 7.850e+02 2.730e+02 2.260e+02 2.270e+02 3.605e+03\n",
      " 2.630e+02 2.530e+02 2.320e+02 2.400e+02 3.350e+02 2.480e+02 2.360e+02\n",
      " 5.120e+02 4.840e+02 2.150e+02 4.620e+02 2.740e+02 8.730e+02 5.460e+02\n",
      " 2.070e+02 2.290e+02 2.520e+02 3.840e+02 4.000e+02 5.410e+02 4.780e+02\n",
      " 2.660e+02 5.750e+02 4.670e+02 2.590e+02 4.980e+02 2.880e+02 2.970e+02\n",
      " 3.070e+02 2.680e+02 1.940e+02 2.710e+02 3.090e+02 4.120e+02 4.090e+02\n",
      " 4.250e+02 3.570e+02 2.750e+02 1.840e+02 1.355e+03 3.280e+02 2.890e+02\n",
      " 3.040e+02 2.430e+02 3.790e+02 2.100e+02 3.120e+02 3.610e+02 4.450e+02\n",
      " 3.110e+02 4.390e+02 5.000e+02 1.100e+03 7.460e+02 2.638e+03 4.210e+02\n",
      " 2.830e+02 1.780e+02 2.910e+02 3.770e+02 4.300e+02 2.600e+02 3.780e+02\n",
      " 2.770e+02 2.460e+02 3.150e+02 7.540e+02 3.340e+02 5.030e+02 8.340e+02\n",
      " 5.160e+02 5.340e+02 5.130e+02 3.850e+02 3.460e+02 5.970e+02 5.260e+02\n",
      " 5.090e+02 5.230e+02 3.670e+02 3.961e+03 2.650e+02 3.490e+02 8.280e+02\n",
      " 2.154e+03 3.900e+02 3.100e+02 2.500e+02 3.430e+02 6.310e+02 3.620e+02\n",
      " 3.400e+02 2.350e+02 2.095e+03 2.439e+03 4.600e+02 2.760e+02 1.428e+03\n",
      " 7.510e+02 3.310e+02 4.590e+02 2.940e+02 3.800e+02 3.300e+02 3.200e+02\n",
      " 4.350e+02 3.470e+02 4.850e+02 3.290e+02 3.156e+03 4.820e+02 2.620e+02\n",
      " 1.232e+03 4.890e+02 4.909e+03 3.390e+02 6.860e+02 5.590e+02 4.290e+02\n",
      " 6.950e+02 8.560e+02 3.950e+02 8.100e+02 4.130e+02 2.225e+03 5.530e+02\n",
      " 3.010e+02 2.930e+02 3.740e+02 6.030e+02 7.080e+02 5.570e+02 1.701e+03\n",
      " 3.170e+02 6.340e+02 1.271e+03 3.700e+02 2.810e+02 4.640e+02 2.090e+03\n",
      " 5.050e+02 5.720e+02 2.670e+02 4.490e+02 1.237e+03 7.010e+02 1.028e+03\n",
      " 5.690e+02 3.260e+02 3.540e+02 4.900e+02 1.740e+03 4.500e+02 1.470e+03\n",
      " 3.480e+02 2.637e+03 4.010e+02 3.320e+02 2.238e+03 1.315e+03 7.140e+02\n",
      " 1.030e+03 6.050e+02 6.550e+02 5.500e+02 6.540e+03 3.680e+02 4.340e+02\n",
      " 3.890e+02 2.900e+02 6.260e+02 4.140e+02 4.560e+02 4.740e+02 4.430e+02\n",
      " 4.270e+02 5.270e+02 4.540e+02 4.356e+03 1.043e+03 1.425e+03 6.270e+02\n",
      " 4.150e+02 5.150e+02 5.850e+02 2.246e+03 6.230e+02 5.930e+02 3.240e+02\n",
      " 3.690e+02 5.470e+02 4.830e+02 8.080e+02 4.630e+02 4.960e+02 7.920e+02\n",
      " 3.520e+02 4.260e+02 9.970e+02 4.020e+02 5.630e+02 7.420e+02 4.180e+02\n",
      " 2.281e+03 1.274e+03 3.410e+02 5.600e+02 3.820e+02 4.220e+02 3.330e+02\n",
      " 6.552e+03 3.560e+02 2.230e+03 3.190e+02 6.120e+02 2.990e+02 1.206e+03\n",
      " 5.540e+02 3.370e+02 5.190e+02 4.860e+02 5.650e+02 3.360e+02 6.150e+02\n",
      " 4.760e+02 4.110e+02 5.550e+02 9.850e+02 8.860e+02 4.330e+02 2.242e+03\n",
      " 6.910e+02 4.360e+02 2.841e+03 2.929e+03 8.510e+02 3.940e+02 6.160e+02\n",
      " 9.220e+02 4.990e+02 5.320e+02 3.530e+02 4.550e+02 8.350e+02 3.980e+02\n",
      " 5.510e+02 5.140e+02 3.650e+02 4.660e+02 7.270e+02 4.720e+02 1.051e+03\n",
      " 1.023e+03 3.550e+02 7.590e+02 7.750e+02 3.970e+02 6.140e+02 7.020e+02\n",
      " 5.300e+02 2.030e+03 2.524e+03 4.930e+02]\n",
      "[  33.   44.   13. ... 1571. 1231. 1052.]\n",
      "[4.7000e+01 1.7000e+01 2.8000e+01 9.0000e+00 2.0000e+00 1.6000e+01\n",
      " 1.3200e+02 0.0000e+00 1.2000e+01 4.0000e+00 1.4000e+01 5.0000e+00\n",
      " 2.4000e+01 6.0000e+00 1.3000e+01 1.0000e+00 7.0000e+00 2.2000e+01\n",
      " 1.0000e+01 3.0000e+00 2.9000e+01 1.1000e+01 2.5000e+01 1.9000e+01\n",
      " 1.8000e+01 3.3000e+01 1.5000e+01 2.0000e+01 5.0000e+01 8.0000e+00\n",
      " 3.6000e+01 3.0000e+01 7.4000e+01 2.6000e+01 1.0400e+02 3.5000e+01\n",
      " 3.1000e+01 3.2000e+01 6.2000e+01 5.6000e+01 2.1000e+01 2.0100e+02\n",
      " 3.7000e+01 1.6300e+02 1.0900e+02 4.3000e+01 3.4000e+01 2.7000e+01\n",
      " 2.3000e+01 1.3400e+02 5.5000e+01 7.3000e+01 6.5000e+01 1.6800e+02\n",
      " 5.8000e+01 1.9300e+02 9.3000e+01 2.1400e+02 3.8800e+02 1.6000e+02\n",
      " 7.2000e+01 1.1200e+02 1.3800e+02 1.0500e+02 1.1300e+02 1.3100e+02\n",
      " 4.0000e+01 4.2000e+01 1.8200e+02 8.1000e+01 1.9700e+02 9.4000e+01\n",
      " 9.7000e+01 7.6000e+01 1.1000e+02 5.9000e+01 2.5300e+02 1.8900e+02\n",
      " 6.7000e+01 1.4900e+02 3.8000e+01 3.9000e+01 5.7000e+01 8.2000e+01\n",
      " 4.1000e+01 5.2000e+01 8.4000e+01 8.9000e+01 1.7000e+02 4.5000e+01\n",
      " 1.0200e+02 4.4000e+01 1.1900e+02 6.3000e+01 8.5000e+01 2.0400e+02\n",
      " 2.6800e+02 7.1000e+01 1.0000e+02 1.5200e+02 2.1000e+02 6.9000e+01\n",
      " 1.3000e+02 2.4900e+02 1.5100e+02 6.6000e+01 1.1700e+02 4.1000e+02\n",
      " 5.3000e+01 7.0000e+01 1.0300e+02 1.0800e+02 1.1800e+02 1.7500e+02\n",
      " 4.8000e+01 8.7000e+01 2.5200e+02 2.3300e+02 6.1000e+01 9.5000e+01\n",
      " 1.1100e+02 4.0700e+02 4.9000e+01 5.4000e+01 1.0700e+02 5.5100e+02\n",
      " 7.7000e+01 2.0500e+02 1.8500e+02 1.7100e+02 1.4300e+02 4.6000e+01\n",
      " 1.2800e+02 1.4200e+02 1.5600e+02 1.8100e+02 8.3000e+01 1.6400e+02\n",
      " 1.1400e+02 1.4700e+02 5.1000e+01 2.4400e+02 1.6500e+02 1.4500e+02\n",
      " 9.6000e+01 2.4300e+02 1.5000e+02 2.6300e+02 7.8000e+01 2.1600e+02\n",
      " 6.4000e+01 1.7600e+02 1.2700e+02 9.2000e+01 3.6400e+02 2.9500e+02\n",
      " 2.0600e+02 1.4800e+02 1.3600e+02 1.2400e+02 1.3500e+02 1.6200e+02\n",
      " 1.2300e+02 1.2000e+02 2.1300e+02 9.1000e+01 8.8000e+01 1.2200e+02\n",
      " 1.2600e+02 6.0000e+01 2.4500e+02 1.8800e+02 2.6700e+02 1.5500e+02\n",
      " 2.8000e+02 1.0100e+02 1.3300e+02 6.8000e+01 1.9000e+02 9.0000e+01\n",
      " 2.5100e+02 1.2900e+02 3.5400e+02 1.8400e+02 1.5800e+02 7.5000e+01\n",
      " 1.4600e+02 5.6200e+02 2.3100e+02 1.5700e+02 8.0000e+01 1.2100e+02\n",
      " 7.9000e+01 1.1600e+02 4.3800e+02 8.6000e+01 3.2900e+02 3.1100e+02\n",
      " 1.0600e+02 2.8500e+02 2.7000e+02 1.3900e+02 2.2600e+02 2.7300e+02\n",
      " 1.3700e+02 3.8300e+02 1.4100e+02 1.8300e+02 2.7700e+02 9.8000e+01\n",
      " 1.6100e+02 2.2500e+02 3.1000e+02 1.4400e+02 2.5000e+02 3.6900e+02\n",
      " 1.1500e+02 3.5800e+02 2.0200e+02 1.7300e+02 2.1900e+02 2.8800e+02\n",
      " 2.1700e+02 2.0000e+02 1.2500e+02 3.3600e+02 9.9000e+01 2.1100e+02\n",
      " 2.8400e+02 3.2600e+02 3.4500e+02 1.6900e+02 2.2200e+02 9.8500e+02\n",
      " 1.8700e+02 1.5300e+02 2.3000e+02 2.8700e+02 2.4100e+02 1.6700e+02\n",
      " 2.3700e+02 1.7700e+02 2.6100e+02 2.5500e+02 1.8600e+02 2.3200e+02\n",
      " 3.1300e+02 3.0200e+02 3.5100e+02 3.6000e+02 1.9900e+02 2.2100e+02\n",
      " 2.9400e+02 3.5700e+02 4.1700e+02 1.5900e+02 2.7400e+02 1.7900e+02\n",
      " 1.7200e+02 2.9100e+02 6.2300e+02 2.4000e+02 2.3500e+02 2.8100e+02\n",
      " 2.2000e+02 1.9100e+02 2.4600e+02 2.8900e+02 2.5900e+02 3.7400e+02\n",
      " 3.6300e+02 2.5600e+02 2.2800e+02 4.7600e+02 1.9500e+02 3.7000e+02\n",
      " 1.8000e+02 2.5650e+03 3.3000e+02 2.7800e+02 2.0300e+02 2.7900e+02\n",
      " 1.9200e+02 4.0100e+02 2.7600e+02 2.6200e+02 2.0800e+02 3.1800e+02\n",
      " 3.5200e+02 2.3600e+02 3.6700e+02 1.9400e+02 2.6500e+02 2.1800e+02\n",
      " 1.5400e+02 2.6900e+02 1.7800e+02 3.0300e+02 1.7400e+02 3.9100e+02\n",
      " 3.8100e+02 2.6000e+02 3.5500e+02 2.2700e+02 5.0800e+02 2.2400e+02\n",
      " 2.9700e+02 3.0900e+02 1.4000e+02 2.3800e+02 2.1200e+02 3.6100e+02\n",
      " 4.2200e+02 2.8200e+02 1.6600e+02 4.0400e+02 3.1400e+02 3.5300e+02\n",
      " 2.6600e+02 4.4800e+02 3.6200e+02 2.4200e+02 3.3400e+02 3.2000e+02\n",
      " 5.8300e+02 2.9600e+02 2.0700e+02 3.0800e+02 3.2500e+02 1.9600e+02\n",
      " 3.2300e+02 4.4700e+02 2.7200e+02 2.8600e+02 2.1500e+02 3.2700e+02\n",
      " 3.1200e+02 7.1700e+02 1.9800e+02 2.9300e+02 3.5000e+02 3.4000e+02\n",
      " 3.0000e+02 3.0500e+02 2.0900e+02 4.4200e+02 3.6098e+04 3.3300e+02\n",
      " 4.7100e+02 4.2600e+02 3.4800e+02 3.4100e+02 3.7100e+02 3.4700e+02\n",
      " 4.2500e+02 2.2900e+02 4.6100e+02 3.3900e+02 3.2400e+02 2.3900e+02\n",
      " 6.0300e+02 2.6400e+02 3.3100e+02 3.4300e+02 2.2300e+02 2.7500e+02\n",
      " 4.7800e+02 2.3400e+02 5.3400e+02 5.9100e+02 4.2300e+02 8.1500e+02\n",
      " 4.4100e+02 2.5700e+02 3.2200e+02 2.8300e+02 2.9900e+02 4.6900e+02\n",
      " 5.0700e+02 2.5800e+02 5.8600e+02 3.4200e+02 3.2100e+02 4.2900e+02\n",
      " 4.4000e+02 4.0000e+02 3.6500e+02 2.2750e+03 4.6800e+02 2.7100e+02\n",
      " 3.7700e+02 5.1700e+02 4.4500e+02 2.9000e+02 6.3900e+02 5.4000e+02\n",
      " 3.0600e+02 3.0700e+02 3.7200e+02 3.4400e+02 2.9200e+02 3.1900e+02\n",
      " 3.3700e+02 4.5700e+02 3.9300e+02 3.1700e+02 4.1500e+02 2.5400e+02\n",
      " 3.9900e+02 1.1880e+03 4.7700e+02 7.1100e+02 3.1600e+02 4.2700e+02\n",
      " 6.8800e+02 9.4800e+02 3.5900e+02 6.7300e+02 4.3900e+02 2.9800e+02\n",
      " 4.8400e+02 3.7800e+02 6.8300e+02 2.4800e+02 4.7400e+02 1.4400e+03\n",
      " 3.3500e+02 4.3200e+02 4.1400e+02 4.5400e+02 4.0200e+02 5.9500e+02\n",
      " 1.5110e+03 3.6800e+02 3.8700e+02 5.3100e+02 1.4530e+03 4.9500e+02\n",
      " 5.4800e+02 3.9200e+02 5.0200e+02 4.1300e+02 5.0400e+02 5.2700e+02\n",
      " 4.0900e+02 4.5500e+02 8.1600e+02 3.0100e+02 3.8000e+02 4.4900e+02\n",
      " 3.4900e+02 4.9200e+02 5.2900e+02 3.5600e+02 3.1500e+02 5.8100e+02\n",
      " 3.9800e+02 3.8900e+02 3.8600e+02 4.3400e+02 7.4000e+02 6.2100e+02\n",
      " 4.1200e+02 2.3150e+03 2.4700e+02 3.0400e+02 5.0300e+02 3.7500e+02\n",
      " 3.6600e+02 7.0400e+02 3.2800e+02 6.5400e+02 4.2100e+02 4.5100e+02\n",
      " 4.6200e+02 4.1100e+02 4.9100e+02 4.2400e+02 3.3800e+02 6.0100e+02\n",
      " 5.6000e+02 3.9600e+02 6.5600e+02 8.3200e+02]\n"
     ]
    }
   ],
   "source": [
    "#making sure each nutritional column is correct\n",
    "print(resultdf2['Sugar (PDV)'].unique())\n",
    "print(resultdf2['Sodium (PDV)'].unique())\n",
    "print(resultdf2['Protein (PDV)'].unique())\n",
    "print(resultdf2['Saturated Fat'].unique())\n",
    "print(resultdf2['Carbohydrates (PDV)'].unique())\n",
    "\n"
   ]
  },
  {
   "cell_type": "code",
   "execution_count": 201,
   "id": "f0bfe79c-f4c5-4a84-8c24-3af2211ba9e9",
   "metadata": {},
   "outputs": [],
   "source": [
    "#making sure each nutritional column is numeric\n",
    "\n",
    "resultdf2['Sugar (PDV)'] = pd.to_numeric(resultdf2['Sugar (PDV)'], errors='coerce')\n",
    "resultdf2['Sodium (PDV)'] = pd.to_numeric(resultdf2['Sodium (PDV)'], errors='coerce')\n",
    "resultdf2['Protein (PDV)'] = pd.to_numeric(resultdf2['Protein (PDV)'], errors='coerce')\n",
    "resultdf2['Saturated Fat'] = pd.to_numeric(resultdf2['Saturated Fat'], errors='coerce')\n",
    "resultdf2['Carbohydrates (PDV)'] = pd.to_numeric(resultdf2['Carbohydrates (PDV)'], errors='coerce')\n"
   ]
  },
  {
   "cell_type": "code",
   "execution_count": 207,
   "id": "17dbee7e-35c5-44c0-8a9d-b07420d4f521",
   "metadata": {},
   "outputs": [
    {
     "data": {
      "image/png": "[encoded data removed]",
      "text/plain": [
       "<Figure size 432x288 with 1 Axes>"
      ]
     },
     "metadata": {
      "needs_background": "light"
     },
     "output_type": "display_data"
    },
    {
     "data": {
      "image/png": "[encoded data removed]",
      "text/plain": [
       "<Figure size 432x288 with 1 Axes>"
      ]
     },
     "metadata": {
      "needs_background": "light"
     },
     "output_type": "display_data"
    },
    {
     "data": {
      "image/png": "[encoded data removed]",
      "text/plain": [
       "<Figure size 432x288 with 1 Axes>"
      ]
     },
     "metadata": {
      "needs_background": "light"
     },
     "output_type": "display_data"
    },
    {
     "data": {
      "image/png": "[encoded data removed]",
      "text/plain": [
       "<Figure size 432x288 with 1 Axes>"
      ]
     },
     "metadata": {
      "needs_background": "light"
     },
     "output_type": "display_data"
    },
    {
     "data": {
      "image/png": "[encoded data removed]",
      "text/plain": [
       "<Figure size 432x288 with 1 Axes>"
      ]
     },
     "metadata": {
      "needs_background": "light"
     },
     "output_type": "display_data"
    },
    {
     "data": {
      "image/png": "[encoded data removed]",
      "text/plain": [
       "<Figure size 432x288 with 1 Axes>"
      ]
     },
     "metadata": {
      "needs_background": "light"
     },
     "output_type": "display_data"
    },
    {
     "ename": "UFuncTypeError",
     "evalue": "ufunc 'multiply' did not contain a loop with signature matching types (dtype('<U3'), dtype('float64')) -> None",
     "output_type": "error",
     "traceback": [
      "\u001b[0;31m---------------------------------------------------------------------------\u001b[0m",
      "\u001b[0;31mUFuncTypeError\u001b[0m                            Traceback (most recent call last)",
      "Input \u001b[0;32mIn [207]\u001b[0m, in \u001b[0;36m<cell line: 47>\u001b[0;34m()\u001b[0m\n\u001b[1;32m     50\u001b[0m num_bins \u001b[38;5;241m=\u001b[39m \u001b[38;5;241m50\u001b[39m\n\u001b[1;32m     52\u001b[0m \u001b[38;5;66;03m# Create evenly spaced bins from the minimum to maximum value of the column\u001b[39;00m\n\u001b[0;32m---> 53\u001b[0m bins \u001b[38;5;241m=\u001b[39m \u001b[43mnp\u001b[49m\u001b[38;5;241;43m.\u001b[39;49m\u001b[43mlinspace\u001b[49m\u001b[43m(\u001b[49m\u001b[43mb\u001b[49m\u001b[43m[\u001b[49m\u001b[43mcol\u001b[49m\u001b[43m]\u001b[49m\u001b[38;5;241;43m.\u001b[39;49m\u001b[43mmin\u001b[49m\u001b[43m(\u001b[49m\u001b[43m)\u001b[49m\u001b[43m,\u001b[49m\u001b[43m \u001b[49m\u001b[43mb\u001b[49m\u001b[43m[\u001b[49m\u001b[43mcol\u001b[49m\u001b[43m]\u001b[49m\u001b[38;5;241;43m.\u001b[39;49m\u001b[43mmax\u001b[49m\u001b[43m(\u001b[49m\u001b[43m)\u001b[49m\u001b[43m,\u001b[49m\u001b[43m \u001b[49m\u001b[43mnum_bins\u001b[49m\u001b[43m)\u001b[49m\n\u001b[1;32m     55\u001b[0m \u001b[38;5;66;03m# Create a histogram with the defined bins and log scale\u001b[39;00m\n\u001b[1;32m     56\u001b[0m plt\u001b[38;5;241m.\u001b[39mhist(resultdf2[col], bins\u001b[38;5;241m=\u001b[39mbins, color\u001b[38;5;241m=\u001b[39m\u001b[38;5;124m'\u001b[39m\u001b[38;5;124mskyblue\u001b[39m\u001b[38;5;124m'\u001b[39m, edgecolor\u001b[38;5;241m=\u001b[39m\u001b[38;5;124m'\u001b[39m\u001b[38;5;124mblack\u001b[39m\u001b[38;5;124m'\u001b[39m, log\u001b[38;5;241m=\u001b[39m\u001b[38;5;28;01mTrue\u001b[39;00m)\n",
      "File \u001b[0;32m<__array_function__ internals>:5\u001b[0m, in \u001b[0;36mlinspace\u001b[0;34m(*args, **kwargs)\u001b[0m\n",
      "File \u001b[0;32m~/opt/anaconda3/lib/python3.9/site-packages/numpy/core/function_base.py:127\u001b[0m, in \u001b[0;36mlinspace\u001b[0;34m(start, stop, num, endpoint, retstep, dtype, axis)\u001b[0m\n\u001b[1;32m    123\u001b[0m div \u001b[38;5;241m=\u001b[39m (num \u001b[38;5;241m-\u001b[39m \u001b[38;5;241m1\u001b[39m) \u001b[38;5;28;01mif\u001b[39;00m endpoint \u001b[38;5;28;01melse\u001b[39;00m num\n\u001b[1;32m    125\u001b[0m \u001b[38;5;66;03m# Convert float/complex array scalars to float, gh-3504\u001b[39;00m\n\u001b[1;32m    126\u001b[0m \u001b[38;5;66;03m# and make sure one can use variables that have an __array_interface__, gh-6634\u001b[39;00m\n\u001b[0;32m--> 127\u001b[0m start \u001b[38;5;241m=\u001b[39m \u001b[43masanyarray\u001b[49m\u001b[43m(\u001b[49m\u001b[43mstart\u001b[49m\u001b[43m)\u001b[49m\u001b[43m \u001b[49m\u001b[38;5;241;43m*\u001b[39;49m\u001b[43m \u001b[49m\u001b[38;5;241;43m1.0\u001b[39;49m\n\u001b[1;32m    128\u001b[0m stop  \u001b[38;5;241m=\u001b[39m asanyarray(stop)  \u001b[38;5;241m*\u001b[39m \u001b[38;5;241m1.0\u001b[39m\n\u001b[1;32m    130\u001b[0m dt \u001b[38;5;241m=\u001b[39m result_type(start, stop, \u001b[38;5;28mfloat\u001b[39m(num))\n",
      "\u001b[0;31mUFuncTypeError\u001b[0m: ufunc 'multiply' did not contain a loop with signature matching types (dtype('<U3'), dtype('float64')) -> None"
     ]
    }
   ],
   "source": [
    "# Set the number of bins to be 50 for a detailed, yet manageable, level of granularity\n",
    "num_bins = 50\n",
    "\n",
    "# Get the minimum and maximum values in the 'Calories (#)' column\n",
    "min_val = resultdf2['Calories (#)'].min()\n",
    "max_val = resultdf2['Calories (#)'].max()\n",
    "\n",
    "# Create evenly spaced bins from the minimum to maximum value\n",
    "bins = np.linspace(min_val, max_val, num_bins)\n",
    "\n",
    "# Create a histogram with the defined bins\n",
    "plt.hist(resultdf2['Calories (#)'], bins=bins, log=True, color='skyblue', edgecolor='black')\n",
    "\n",
    "# Label the axes and give the plot a title\n",
    "plt.xlabel('Calories (#)')\n",
    "plt.ylabel('Number of Recipes (Log Scale)')\n",
    "plt.title('Distribution of Calories in Recipes')\n",
    "\n",
    "# Show the plot\n",
    "plt.show()\n",
    "\n",
    "# Set the number of bins to be 50\n",
    "num_bins = 50\n",
    "\n",
    "# Get the minimum and maximum values in the 'Total Fat (PDV)' column\n",
    "min_val = resultdf2['Total Fat (PDV)'].min()\n",
    "max_val = resultdf2['Total Fat (PDV)'].max()\n",
    "\n",
    "# Create evenly spaced bins from the minimum to maximum value\n",
    "bins = np.linspace(min_val, max_val, num_bins)\n",
    "\n",
    "# Create a histogram with the defined bins\n",
    "plt.hist(resultdf2['Total Fat (PDV)'], bins=bins, color='skyblue', edgecolor='black', log=True)\n",
    "\n",
    "# Label the axes and give the plot a title\n",
    "plt.xlabel('Total Fat (PDV)')\n",
    "plt.ylabel('Number of Recipes (log scale)')\n",
    "plt.title('Distribution of Total Fat in Recipes')\n",
    "\n",
    "# Show the plot\n",
    "plt.show()\n",
    "\n",
    "# List of the remaining nutritional columns\n",
    "nutri_cols = ['Sugar (PDV)', 'Sodium (PDV)', 'Protein (PDV)', 'Saturated Fat', 'Carbohydrates (PDV)']\n",
    "\n",
    "# For each nutritional column\n",
    "for col in nutri_cols:\n",
    "    \n",
    "    # Set the number of bins to be 50\n",
    "    num_bins = 50\n",
    "    \n",
    "    # Create evenly spaced bins from the minimum to maximum value of the column\n",
    "    bins = np.linspace(b[col].min(), b[col].max(), num_bins)\n",
    "    \n",
    "    # Create a histogram with the defined bins and log scale\n",
    "    plt.hist(resultdf2[col], bins=bins, color='skyblue', edgecolor='black', log=True)\n",
    "\n",
    "    # Label the axes and give the plot a title\n",
    "    plt.xlabel(col)\n",
    "    plt.ylabel('Number of Recipes (log scale)')\n",
    "    plt.title('Distribution of ' + col + ' in Recipes')\n",
    "    \n",
    "    # Show the plot\n",
    "    plt.show()\n",
    "\n"
   ]
  },
  {
   "cell_type": "markdown",
   "id": "ac70969b-e531-42c1-a755-a9969ff70653",
   "metadata": {},
   "source": [
    "**Calories:** The majority of the recipes have relatively low calorie counts, with only a few recipes being very high in calories. This results in a right-skewed distribution, where the mean is greater than the median.\n",
    "\n",
    "**Total Fat:** Similar to calories, most recipes have low fat content, while a few are very high in fat. This right-skewness indicates that while most recipes are low-fat, there are some with extremely high fat content that pull the average up.\n",
    "\n",
    "**Sugar:** The distribution of sugar content in recipes appears to be highly skewed to the right as well. This means that while a majority of the recipes have lower sugar content, there are a few recipes with exceptionally high sugar content.\n",
    "\n",
    "**Sodium:** The sodium content in the recipes also follows a similar distribution, with the majority of the recipes having low sodium content, and a very small number of recipes having very high sodium content.\n",
    "\n",
    "**Protein:** The protein content in the recipes follows a similar pattern, with most of the recipes being low in protein and a few recipes containing a large amount of protein.\n",
    "\n",
    "**Saturated Fat:** The majority of the recipes have a low saturated fat content, with a few outliers having a high content. This results in a right-skewed distribution.\n",
    "\n",
    "**Carbohydrates:** The carbohydrate content in the recipes shows a right-skewed distribution as well, with most recipes having a lower carbohydrate content, and a few recipes with a very high carbohydrate content.\n",
    "\n",
    "In general, all the nutritional content columns - Calories, Total Fat, Sugar, Sodium, Protein, Saturated Fat, and Carbohydrates - show a similar pattern. They are all right-skewed, meaning that the majority of the recipes are relatively healthy with low content of these nutritional aspects. However, there are some recipes with exceptionally high content of these nutritional aspects, which might be indulgent or meant for special occasions."
   ]
  },
  {
   "cell_type": "markdown",
   "id": "95e780cb-91b0-45a4-9fad-70ecb539291e",
   "metadata": {},
   "source": [
    "## Colinearity\n",
    "            Visualizing colinearity with a heatmap with indicators"
   ]
  },
  {
   "cell_type": "code",
   "execution_count": 218,
   "id": "72a2f4aa-0b8f-4967-b97b-fe74ab8edf98",
   "metadata": {},
   "outputs": [
    {
     "data": {
      "image/png": "[encoded data removed]",
      "text/plain": [
       "<Figure size 792x648 with 2 Axes>"
      ]
     },
     "metadata": {
      "needs_background": "light"
     },
     "output_type": "display_data"
    }
   ],
   "source": [
    "import seaborn as sns\n",
    "import matplotlib.pyplot as plt\n",
    "\n",
    "# Compute the correlation matrix\n",
    "corr_matrix = resultdf2.corr()\n",
    "\n",
    "# Generate a mask for the upper triangle\n",
    "mask = np.triu(np.ones_like(corr_matrix, dtype=bool))\n",
    "\n",
    "# Set up the matplotlib figure\n",
    "f, ax = plt.subplots(figsize=(11, 9))\n",
    "\n",
    "# Generate a custom diverging colormap\n",
    "cmap = sns.diverging_palette(230, 20, as_cmap=True)\n",
    "\n",
    "# Draw the heatmap with the mask and correct aspect ratio\n",
    "sns.heatmap(corr_matrix, mask=mask, cmap=cmap, vmax=.3, center=0,\n",
    "            square=True, linewidths=.5, cbar_kws={\"shrink\": .5})\n",
    "\n",
    "plt.show()\n"
   ]
  },
  {
   "cell_type": "markdown",
   "id": "73da2626-fefd-42db-86aa-e2909e8d7aa4",
   "metadata": {},
   "source": [
    "Nutritional facts vs themselves and number of steps vs ingredients is obvious, some interesting finds are id vs count.  Count is valuable in our cosine similarity models.  Because it requires multiple similar features inorder to make a prediction count can be leveraged."
   ]
  },
  {
   "cell_type": "code",
   "execution_count": 222,
   "id": "5f291899-66d6-4741-9fe7-0dc7ca23a98d",
   "metadata": {},
   "outputs": [
    {
     "data": {
      "image/png": "[encoded data removed]",
      "text/plain": [
       "<Figure size 1008x432 with 1 Axes>"
      ]
     },
     "metadata": {
      "needs_background": "light"
     },
     "output_type": "display_data"
    }
   ],
   "source": [
    "plt.figure(figsize=(14, 6))\n",
    "\n",
    "# KDE for n_ingredients\n",
    "sns.kdeplot(b['n_ingredients'], label='Number of Ingredients', shade=True)\n",
    "\n",
    "# KDE for n_steps\n",
    "sns.kdeplot(b['n_steps'], label='Number of Steps', shade=True)\n",
    "\n",
    "plt.xlabel('Value')\n",
    "plt.ylabel('Density')\n",
    "plt.title('Kernel Density Estimate for Number of Ingredients and Number of Steps')\n",
    "\n",
    "plt.legend()\n",
    "plt.show()\n",
    "\n"
   ]
  },
  {
   "cell_type": "markdown",
   "id": "0d5f708f-816c-4cdc-b062-1714068d7ede",
   "metadata": {},
   "source": [
    "**Kernel Density Estimate (KDE) plot**\n",
    "\n",
    "\n",
    "The KDE for n_ingredients gives a visual representation of the distribution of the number of ingredients in all the recipes. The peak of this curve represents the mode i.e., the most common number of ingredients that recipes have.\n",
    "\n",
    "Similarly, the KDE for n_steps represents the distribution of the number of steps in all the recipes. The peak of this curve represents the mode i.e., the most common number of steps that recipes have.\n",
    "\n",
    "By comparing these two KDEs, we can infer about the commonality of complexity in the recipes. For example, the peak (mode) of n_ingredients is higher than n_steps, it might suggest that most recipes have more ingredients than steps, indicating that the recipes might require more ingredients even with fewer steps.\n",
    "\n"
   ]
  }
 ],
 "metadata": {
  "kernelspec": {
   "display_name": "Python 3 (ipykernel)",
   "language": "python",
   "name": "python3"
  },
  "language_info": {
   "codemirror_mode": {
    "name": "ipython",
    "version": 3
   },
   "file_extension": ".py",
   "mimetype": "text/x-python",
   "name": "python",
   "nbconvert_exporter": "python",
   "pygments_lexer": "ipython3",
   "version": "3.9.12"
  }
 },
 "nbformat": 4,
 "nbformat_minor": 5
}
